{
 "cells": [
  {
   "cell_type": "code",
   "execution_count": 1,
   "metadata": {},
   "outputs": [],
   "source": [
    "\"\"\"\n",
    "You need to run this cell for the code in following cells to work.\n",
    "\"\"\"\n",
    "\n",
    "# Enable module reloading\n",
    "%load_ext autoreload\n",
    "%autoreload 2\n",
    "\n",
    "%load_ext tensorboard\n",
    "\n",
    "import datetime\n",
    "import os\n",
    "import sys\n",
    "sys.path.append('..')\n",
    "\n",
    "import tensorflow as tf\n",
    "import tensorflow.keras as keras\n",
    "import numpy as np\n",
    "from matplotlib import pyplot\n"
   ]
  },
  {
   "cell_type": "markdown",
   "metadata": {},
   "source": [
    "toto"
   ]
  },
  {
   "cell_type": "code",
   "execution_count": 2,
   "metadata": {},
   "outputs": [],
   "source": [
    "testx = np.genfromtxt('./datasets/dataSet1TestX1.csv', delimiter=',')[1:]\n",
    "testy = np.genfromtxt('./datasets/dataSet1TestY1.csv', delimiter=',')\n",
    "\n",
    "trainx = np.genfromtxt('./datasets/dataSet1TrainX1.csv', delimiter=',')[1:]\n",
    "trainy = np.genfromtxt('./datasets/dataSet1TrainY1.csv', delimiter=',')"
   ]
  },
  {
   "cell_type": "code",
   "execution_count": 71,
   "metadata": {},
   "outputs": [],
   "source": [
    "testx = np.genfromtxt('./datasets/dataSet1TestX2.csv', delimiter=',')[1:]\n",
    "testy = np.genfromtxt('./datasets/dataSet1TestY2.csv', delimiter=',')\n",
    "\n",
    "trainx = np.genfromtxt('./datasets/dataSet1TrainX2.csv', delimiter=',')[1:]\n",
    "trainy = np.genfromtxt('./datasets/dataSet1TrainY2.csv', delimiter=',')"
   ]
  },
  {
   "cell_type": "code",
   "execution_count": 32,
   "metadata": {},
   "outputs": [],
   "source": [
    "testx = np.genfromtxt('./datasets/dataSet1TestX.csv', delimiter=',')[1:]\n",
    "testy = np.genfromtxt('./datasets/dataSet1TestY.csv', delimiter=',')\n",
    "\n",
    "trainx = np.genfromtxt('./datasets/dataSet1TrainX.csv', delimiter=',')[1:]\n",
    "trainy = np.genfromtxt('./datasets/dataSet1TrainY.csv', delimiter=',')"
   ]
  },
  {
   "cell_type": "markdown",
   "metadata": {},
   "source": [
    "toto"
   ]
  },
  {
   "cell_type": "code",
   "execution_count": 19,
   "metadata": {},
   "outputs": [],
   "source": [
    "testx = np.genfromtxt('./datasets/dataSet2TestX.csv', delimiter=',')[1:]\n",
    "testy = np.genfromtxt('./datasets/dataSet2TestY.csv', delimiter=',')\n",
    "\n",
    "trainx = np.genfromtxt('./datasets/dataSet2TrainX.csv', delimiter=',')[1:]\n",
    "trainy = np.genfromtxt('./datasets/dataSet2TrainY.csv', delimiter=',')"
   ]
  },
  {
   "cell_type": "code",
   "execution_count": 26,
   "metadata": {},
   "outputs": [],
   "source": [
    "testx = np.genfromtxt('./datasets/dataSet3TestX.csv', delimiter=',')[1:]\n",
    "testy = np.genfromtxt('./datasets/dataSet3TestY.csv', delimiter=',')\n",
    "\n",
    "trainx = np.genfromtxt('./datasets/dataSet3TrainX.csv', delimiter=',')[1:]\n",
    "trainy = np.genfromtxt('./datasets/dataSet3TrainY.csv', delimiter=',')"
   ]
  },
  {
   "cell_type": "code",
   "execution_count": 14,
   "metadata": {},
   "outputs": [],
   "source": [
    "testx = np.genfromtxt('./datasets/dataSet4TestX.csv', delimiter=',')[1:]\n",
    "testy = np.genfromtxt('./datasets/dataSet4TestY.csv', delimiter=',')\n",
    "\n",
    "trainx = np.genfromtxt('./datasets/dataSet4TrainX.csv', delimiter=',')[1:]\n",
    "trainy = np.genfromtxt('./datasets/dataSet4TrainY.csv', delimiter=',')"
   ]
  },
  {
   "cell_type": "code",
   "execution_count": 10,
   "metadata": {},
   "outputs": [],
   "source": [
    "testx = np.genfromtxt('./datasets/dataSet5TestX.csv', delimiter=',')[1:]\n",
    "testy = np.genfromtxt('./datasets/dataSet5TestY.csv', delimiter=',')\n",
    "\n",
    "trainx = np.genfromtxt('./datasets/dataSet5TrainX.csv', delimiter=',')[1:]\n",
    "trainy = np.genfromtxt('./datasets/dataSet5TrainY.csv', delimiter=',')"
   ]
  },
  {
   "cell_type": "markdown",
   "metadata": {},
   "source": [
    "Win/Lose"
   ]
  },
  {
   "cell_type": "code",
   "execution_count": 2,
   "metadata": {},
   "outputs": [],
   "source": [
    "testx = np.genfromtxt('./datasets/dataSet5TestXW.csv', delimiter=',')[1:]\n",
    "testy = np.genfromtxt('./datasets/dataSet5TestYW.csv', delimiter=',')\n",
    "\n",
    "trainx = np.genfromtxt('./datasets/dataSet5TrainXW.csv', delimiter=',')[1:]\n",
    "trainy = np.genfromtxt('./datasets/dataSet5TrainYW.csv', delimiter=',')"
   ]
  },
  {
   "cell_type": "code",
   "execution_count": 7,
   "metadata": {},
   "outputs": [
    {
     "data": {
      "text/plain": [
       "array([1.        , 1.        , 0.        , 1.        , 1.        ,\n",
       "       1.        , 1.        , 1.        , 1.        , 1.        ,\n",
       "       0.        , 0.        , 1.        , 0.        , 1.        ,\n",
       "       0.        , 1.        , 0.        , 0.        , 0.        ,\n",
       "       0.85714286, 0.8       , 1.3       , 0.3       , 0.        ,\n",
       "       0.3       , 0.        , 0.5       , 0.3       , 0.        ,\n",
       "       1.5       , 0.        , 0.        , 0.9       , 0.6       ,\n",
       "       0.8       , 1.7       , 1.3       , 0.3       , 0.        ,\n",
       "       0.        , 0.        , 0.88235294, 0.        , 0.        ,\n",
       "       0.        , 0.        , 0.        , 0.        , 0.        ,\n",
       "       0.        , 0.        , 0.        , 0.        , 0.        ,\n",
       "       0.        , 0.        , 0.        , 0.        , 0.        ,\n",
       "       0.        , 0.        , 0.        , 0.        ])"
      ]
     },
     "execution_count": 7,
     "metadata": {},
     "output_type": "execute_result"
    }
   ],
   "source": [
    "testx[500]"
   ]
  },
  {
   "cell_type": "code",
   "execution_count": 54,
   "metadata": {},
   "outputs": [
    {
     "name": "stdout",
     "output_type": "stream",
     "text": [
      "[3 3 3 ... 7 7 7]\n",
      "[[0.00063433 0.02943279 0.03013479 ... 0.00330058 0.0009095  0.00093189]\n",
      " [0.00105665 0.02838431 0.03119584 ... 0.00358721 0.00104244 0.0011922 ]\n",
      " [0.00044812 0.02650443 0.03527646 ... 0.00279795 0.00069763 0.0008687 ]\n",
      " ...\n",
      " [0.00023859 0.0224661  0.01927192 ... 0.00166909 0.00028392 0.00032046]\n",
      " [0.00023496 0.0199698  0.02460467 ... 0.00160824 0.00034663 0.00036153]\n",
      " [0.00118895 0.02663727 0.02952645 ... 0.00323056 0.00116398 0.00111689]]\n"
     ]
    }
   ],
   "source": [
    "array = np.argmax(model.predict(testx), axis=1)\n",
    "array.sort() \n",
    "print(array)\n",
    "print(model.predict(testx))"
   ]
  },
  {
   "cell_type": "code",
   "execution_count": 9,
   "metadata": {},
   "outputs": [],
   "source": [
    "array.sort() "
   ]
  },
  {
   "cell_type": "code",
   "execution_count": 10,
   "metadata": {},
   "outputs": [
    {
     "data": {
      "text/plain": [
       "array([5, 5, 5, ..., 7, 7, 7])"
      ]
     },
     "execution_count": 10,
     "metadata": {},
     "output_type": "execute_result"
    }
   ],
   "source": [
    "array"
   ]
  },
  {
   "cell_type": "code",
   "execution_count": 79,
   "metadata": {},
   "outputs": [
    {
     "data": {
      "text/plain": [
       "array([10.,  6.,  5.,  4.,  3.])"
      ]
     },
     "execution_count": 79,
     "metadata": {},
     "output_type": "execute_result"
    }
   ],
   "source": [
    "trainy[:5]"
   ]
  },
  {
   "cell_type": "code",
   "execution_count": 34,
   "metadata": {},
   "outputs": [
    {
     "data": {
      "text/plain": [
       "array([[6.4029065e-03, 2.1464472e-05, 8.6471182e-06, 3.7816241e-01,\n",
       "        2.2042057e-02, 2.0203376e-01, 3.4333906e-01, 2.9078359e-03,\n",
       "        9.4356033e-04, 1.5699184e-04, 3.2178853e-02, 8.5566565e-03,\n",
       "        1.9856021e-03, 1.0625892e-04, 4.8418518e-04, 6.6981453e-04],\n",
       "       [3.5984444e-03, 1.8196332e-03, 1.7242940e-03, 4.0442411e-02,\n",
       "        3.3110487e-01, 1.1708153e-01, 2.2791265e-01, 4.1042669e-03,\n",
       "        4.8552598e-03, 4.7528511e-03, 1.8015990e-01, 6.0277797e-02,\n",
       "        7.1160174e-03, 1.8667914e-03, 2.8525551e-03, 1.0330824e-02],\n",
       "       [3.7283953e-02, 2.3734638e-04, 9.4388262e-05, 4.0225422e-01,\n",
       "        4.0100995e-02, 1.4849603e-01, 2.5392663e-01, 1.0851530e-02,\n",
       "        4.9405969e-03, 1.1073839e-03, 6.5918490e-02, 1.8851653e-02,\n",
       "        9.0696635e-03, 7.5288169e-04, 2.4994605e-03, 3.6147542e-03],\n",
       "       [6.7259842e-03, 8.3124131e-04, 8.2235900e-04, 6.7940868e-02,\n",
       "        3.3826545e-01, 1.4497118e-01, 2.3273757e-01, 3.2879605e-03,\n",
       "        4.6230750e-03, 2.3014566e-03, 1.3473269e-01, 4.7932062e-02,\n",
       "        5.2197049e-03, 1.1202581e-03, 2.9180236e-03, 5.5701602e-03],\n",
       "       [2.5789229e-02, 4.7205380e-04, 3.5128437e-04, 2.7450025e-01,\n",
       "        8.8413052e-02, 3.0362928e-01, 1.6076550e-01, 7.7137011e-03,\n",
       "        9.1463197e-03, 8.8183774e-04, 7.4110888e-02, 2.9442873e-02,\n",
       "        1.2446051e-02, 9.3724532e-04, 5.6362851e-03, 5.7641105e-03]],\n",
       "      dtype=float32)"
      ]
     },
     "execution_count": 34,
     "metadata": {},
     "output_type": "execute_result"
    }
   ],
   "source": [
    "values"
   ]
  },
  {
   "cell_type": "code",
   "execution_count": 8,
   "metadata": {},
   "outputs": [],
   "source": [
    "trainx = trainx[:20]\n",
    "trainy = trainy[:20]\n",
    "testx = testx[:20]\n",
    "testy = testy[:20]"
   ]
  },
  {
   "cell_type": "code",
   "execution_count": null,
   "metadata": {},
   "outputs": [
    {
     "name": "stdout",
     "output_type": "stream",
     "text": [
      "Train on 9013 samples, validate on 2253 samples\n",
      "Epoch 1/150\n",
      "9013/9013 [==============================] - 2s 245us/sample - loss: 0.6903 - accuracy: 0.5416 - val_loss: 0.6865 - val_accuracy: 0.5579\n",
      "Epoch 2/150\n",
      "9013/9013 [==============================] - 1s 153us/sample - loss: 0.6901 - accuracy: 0.5420 - val_loss: 0.6878 - val_accuracy: 0.5579\n",
      "Epoch 3/150\n",
      "9013/9013 [==============================] - 1s 160us/sample - loss: 0.6902 - accuracy: 0.5420 - val_loss: 0.6864 - val_accuracy: 0.5579\n",
      "Epoch 4/150\n",
      "9013/9013 [==============================] - 2s 204us/sample - loss: 0.6899 - accuracy: 0.5420 - val_loss: 0.6865 - val_accuracy: 0.5579\n",
      "Epoch 5/150\n",
      "8730/9013 [============================>.] - ETA: 0s - loss: 0.6897 - accuracy: 0.5431"
     ]
    }
   ],
   "source": [
    "model = tf.keras.Sequential()\n",
    "\n",
    "model.add(keras.layers.Dense(256, activation='relu'))\n",
    "model.add(keras.layers.Dense(128, activation='relu'))\n",
    "model.add(keras.layers.Dense(64, activation='relu'))\n",
    "model.add(keras.layers.Dense(32, activation='relu'))\n",
    "model.add(keras.layers.Dropout(0.1))\n",
    "model.add(keras.layers.Dense(1, activation='relu'))\n",
    "model.add(keras.layers.Dense(1, activation='sigmoid'))\n",
    "\n",
    "model.compile(loss='binary_crossentropy',  \n",
    "              optimizer=keras.optimizers.Adam(lr=0.02),\n",
    "              metrics=['accuracy'])\n",
    "\n",
    "history = model.fit(trainx, trainy,\n",
    "          validation_data=(testx, testy),\n",
    "          shuffle=True,\n",
    "          batch_size=30,\n",
    "          epochs=150);\n",
    "\n",
    "\n",
    "values = model.predict(testx)"
   ]
  },
  {
   "cell_type": "code",
   "execution_count": 15,
   "metadata": {},
   "outputs": [
    {
     "data": {
      "text/plain": [
       "array([ 7.,  7.,  4.,  9., 15.])"
      ]
     },
     "execution_count": 15,
     "metadata": {},
     "output_type": "execute_result"
    }
   ],
   "source": [
    "testy"
   ]
  },
  {
   "cell_type": "code",
   "execution_count": 17,
   "metadata": {},
   "outputs": [
    {
     "name": "stdout",
     "output_type": "stream",
     "text": [
      "Train on 9013 samples, validate on 2253 samples\n",
      "Epoch 1/150\n",
      "9013/9013 [==============================] - 1s 146us/sample - loss: 0.7279 - sparse_categorical_accuracy: 0.4690 - val_loss: 0.7010 - val_sparse_categorical_accuracy: 0.4882\n",
      "Epoch 2/150\n",
      "9013/9013 [==============================] - 1s 62us/sample - loss: 0.7003 - sparse_categorical_accuracy: 0.4918 - val_loss: 0.6950 - val_sparse_categorical_accuracy: 0.5229\n",
      "Epoch 3/150\n",
      "9013/9013 [==============================] - 1s 56us/sample - loss: 0.6965 - sparse_categorical_accuracy: 0.5023 - val_loss: 0.6927 - val_sparse_categorical_accuracy: 0.5286\n",
      "Epoch 4/150\n",
      "9013/9013 [==============================] - 1s 58us/sample - loss: 0.6947 - sparse_categorical_accuracy: 0.5145 - val_loss: 0.6913 - val_sparse_categorical_accuracy: 0.5362\n",
      "Epoch 5/150\n",
      "9013/9013 [==============================] - 1s 66us/sample - loss: 0.6935 - sparse_categorical_accuracy: 0.5187 - val_loss: 0.6904 - val_sparse_categorical_accuracy: 0.5499\n",
      "Epoch 6/150\n",
      "9013/9013 [==============================] - 1s 60us/sample - loss: 0.6926 - sparse_categorical_accuracy: 0.5303 - val_loss: 0.6898 - val_sparse_categorical_accuracy: 0.5499\n",
      "Epoch 7/150\n",
      "9013/9013 [==============================] - 1s 71us/sample - loss: 0.6919 - sparse_categorical_accuracy: 0.5295 - val_loss: 0.6894 - val_sparse_categorical_accuracy: 0.5490\n",
      "Epoch 8/150\n",
      "9013/9013 [==============================] - 1s 63us/sample - loss: 0.6913 - sparse_categorical_accuracy: 0.5333 - val_loss: 0.6890 - val_sparse_categorical_accuracy: 0.5522\n",
      "Epoch 9/150\n",
      "9013/9013 [==============================] - 1s 57us/sample - loss: 0.6915 - sparse_categorical_accuracy: 0.5333 - val_loss: 0.6887 - val_sparse_categorical_accuracy: 0.5517\n",
      "Epoch 10/150\n",
      "9013/9013 [==============================] - 1s 59us/sample - loss: 0.6909 - sparse_categorical_accuracy: 0.5386 - val_loss: 0.6885 - val_sparse_categorical_accuracy: 0.5548\n",
      "Epoch 11/150\n",
      "9013/9013 [==============================] - 1s 80us/sample - loss: 0.6906 - sparse_categorical_accuracy: 0.5376 - val_loss: 0.6883 - val_sparse_categorical_accuracy: 0.5575\n",
      "Epoch 12/150\n",
      "9013/9013 [==============================] - 1s 58us/sample - loss: 0.6904 - sparse_categorical_accuracy: 0.5399 - val_loss: 0.6881 - val_sparse_categorical_accuracy: 0.5593\n",
      "Epoch 13/150\n",
      "9013/9013 [==============================] - 1s 58us/sample - loss: 0.6906 - sparse_categorical_accuracy: 0.5383 - val_loss: 0.6880 - val_sparse_categorical_accuracy: 0.5606\n",
      "Epoch 14/150\n",
      "9013/9013 [==============================] - 1s 57us/sample - loss: 0.6903 - sparse_categorical_accuracy: 0.5392 - val_loss: 0.6878 - val_sparse_categorical_accuracy: 0.5593\n",
      "Epoch 15/150\n",
      "9013/9013 [==============================] - 1s 57us/sample - loss: 0.6907 - sparse_categorical_accuracy: 0.5369 - val_loss: 0.6877 - val_sparse_categorical_accuracy: 0.5597\n",
      "Epoch 16/150\n",
      "9013/9013 [==============================] - 1s 70us/sample - loss: 0.6908 - sparse_categorical_accuracy: 0.5383 - val_loss: 0.6876 - val_sparse_categorical_accuracy: 0.5593\n",
      "Epoch 17/150\n",
      "9013/9013 [==============================] - 1s 60us/sample - loss: 0.6898 - sparse_categorical_accuracy: 0.5419 - val_loss: 0.6875 - val_sparse_categorical_accuracy: 0.5584\n",
      "Epoch 18/150\n",
      "9013/9013 [==============================] - 1s 58us/sample - loss: 0.6898 - sparse_categorical_accuracy: 0.5416 - val_loss: 0.6875 - val_sparse_categorical_accuracy: 0.5588\n",
      "Epoch 19/150\n",
      "9013/9013 [==============================] - 1s 58us/sample - loss: 0.6900 - sparse_categorical_accuracy: 0.5406 - val_loss: 0.6874 - val_sparse_categorical_accuracy: 0.5588\n",
      "Epoch 20/150\n",
      "9013/9013 [==============================] - 1s 59us/sample - loss: 0.6903 - sparse_categorical_accuracy: 0.5393 - val_loss: 0.6873 - val_sparse_categorical_accuracy: 0.5588\n",
      "Epoch 21/150\n",
      "9013/9013 [==============================] - 1s 72us/sample - loss: 0.6902 - sparse_categorical_accuracy: 0.5391 - val_loss: 0.6873 - val_sparse_categorical_accuracy: 0.5588\n",
      "Epoch 22/150\n",
      "9013/9013 [==============================] - 1s 79us/sample - loss: 0.6895 - sparse_categorical_accuracy: 0.5428 - val_loss: 0.6872 - val_sparse_categorical_accuracy: 0.5588\n",
      "Epoch 23/150\n",
      "9013/9013 [==============================] - 1s 113us/sample - loss: 0.6901 - sparse_categorical_accuracy: 0.5412 - val_loss: 0.6872 - val_sparse_categorical_accuracy: 0.5588\n",
      "Epoch 24/150\n",
      "9013/9013 [==============================] - 1s 63us/sample - loss: 0.6898 - sparse_categorical_accuracy: 0.5414 - val_loss: 0.6871 - val_sparse_categorical_accuracy: 0.5584\n",
      "Epoch 25/150\n",
      "9013/9013 [==============================] - 1s 60us/sample - loss: 0.6898 - sparse_categorical_accuracy: 0.5409 - val_loss: 0.6871 - val_sparse_categorical_accuracy: 0.5579\n",
      "Epoch 26/150\n",
      "9013/9013 [==============================] - 0s 52us/sample - loss: 0.6897 - sparse_categorical_accuracy: 0.5414 - val_loss: 0.6871 - val_sparse_categorical_accuracy: 0.5579\n",
      "Epoch 27/150\n",
      "9013/9013 [==============================] - 0s 52us/sample - loss: 0.6898 - sparse_categorical_accuracy: 0.5413 - val_loss: 0.6870 - val_sparse_categorical_accuracy: 0.5579\n",
      "Epoch 28/150\n",
      "9013/9013 [==============================] - 0s 47us/sample - loss: 0.6901 - sparse_categorical_accuracy: 0.5382 - val_loss: 0.6870 - val_sparse_categorical_accuracy: 0.5584\n",
      "Epoch 29/150\n",
      "9013/9013 [==============================] - 1s 59us/sample - loss: 0.6897 - sparse_categorical_accuracy: 0.5406 - val_loss: 0.6870 - val_sparse_categorical_accuracy: 0.5584\n",
      "Epoch 30/150\n",
      "9013/9013 [==============================] - 0s 46us/sample - loss: 0.6895 - sparse_categorical_accuracy: 0.5418 - val_loss: 0.6870 - val_sparse_categorical_accuracy: 0.5584\n",
      "Epoch 31/150\n",
      "9013/9013 [==============================] - 0s 49us/sample - loss: 0.6899 - sparse_categorical_accuracy: 0.5408 - val_loss: 0.6870 - val_sparse_categorical_accuracy: 0.5584\n",
      "Epoch 32/150\n",
      "9013/9013 [==============================] - 1s 77us/sample - loss: 0.6896 - sparse_categorical_accuracy: 0.5421 - val_loss: 0.6869 - val_sparse_categorical_accuracy: 0.5584\n",
      "Epoch 33/150\n",
      "9013/9013 [==============================] - 1s 93us/sample - loss: 0.6899 - sparse_categorical_accuracy: 0.5398 - val_loss: 0.6869 - val_sparse_categorical_accuracy: 0.5584\n",
      "Epoch 34/150\n",
      "9013/9013 [==============================] - 1s 65us/sample - loss: 0.6895 - sparse_categorical_accuracy: 0.5429 - val_loss: 0.6869 - val_sparse_categorical_accuracy: 0.5584\n",
      "Epoch 35/150\n",
      "9013/9013 [==============================] - 1s 60us/sample - loss: 0.6897 - sparse_categorical_accuracy: 0.5396 - val_loss: 0.6869 - val_sparse_categorical_accuracy: 0.5584\n",
      "Epoch 36/150\n",
      "9013/9013 [==============================] - 0s 53us/sample - loss: 0.6899 - sparse_categorical_accuracy: 0.5417 - val_loss: 0.6869 - val_sparse_categorical_accuracy: 0.5584\n",
      "Epoch 37/150\n",
      "9013/9013 [==============================] - 0s 51us/sample - loss: 0.6899 - sparse_categorical_accuracy: 0.5416 - val_loss: 0.6869 - val_sparse_categorical_accuracy: 0.5584\n",
      "Epoch 38/150\n",
      "9013/9013 [==============================] - 1s 77us/sample - loss: 0.6896 - sparse_categorical_accuracy: 0.5422 - val_loss: 0.6869 - val_sparse_categorical_accuracy: 0.5584\n",
      "Epoch 39/150\n",
      "9013/9013 [==============================] - 1s 57us/sample - loss: 0.6897 - sparse_categorical_accuracy: 0.5411 - val_loss: 0.6869 - val_sparse_categorical_accuracy: 0.5584\n",
      "Epoch 40/150\n",
      "9013/9013 [==============================] - 1s 79us/sample - loss: 0.6896 - sparse_categorical_accuracy: 0.5414 - val_loss: 0.6869 - val_sparse_categorical_accuracy: 0.5584\n",
      "Epoch 41/150\n",
      "9013/9013 [==============================] - 1s 66us/sample - loss: 0.6894 - sparse_categorical_accuracy: 0.5431 - val_loss: 0.6868 - val_sparse_categorical_accuracy: 0.5584\n",
      "Epoch 42/150\n",
      "9013/9013 [==============================] - 1s 58us/sample - loss: 0.6899 - sparse_categorical_accuracy: 0.5401 - val_loss: 0.6868 - val_sparse_categorical_accuracy: 0.5584\n",
      "Epoch 43/150\n",
      "9013/9013 [==============================] - 1s 75us/sample - loss: 0.6897 - sparse_categorical_accuracy: 0.5408 - val_loss: 0.6868 - val_sparse_categorical_accuracy: 0.5584\n",
      "Epoch 44/150\n",
      "9013/9013 [==============================] - 1s 100us/sample - loss: 0.6898 - sparse_categorical_accuracy: 0.5406 - val_loss: 0.6868 - val_sparse_categorical_accuracy: 0.5584\n",
      "Epoch 45/150\n",
      "9013/9013 [==============================] - 1s 83us/sample - loss: 0.6897 - sparse_categorical_accuracy: 0.5417 - val_loss: 0.6868 - val_sparse_categorical_accuracy: 0.5584\n",
      "Epoch 46/150\n",
      "9013/9013 [==============================] - 1s 61us/sample - loss: 0.6894 - sparse_categorical_accuracy: 0.5430 - val_loss: 0.6868 - val_sparse_categorical_accuracy: 0.5584\n",
      "Epoch 47/150\n",
      "9013/9013 [==============================] - 0s 53us/sample - loss: 0.6895 - sparse_categorical_accuracy: 0.5423 - val_loss: 0.6868 - val_sparse_categorical_accuracy: 0.5584\n",
      "Epoch 48/150\n",
      "9013/9013 [==============================] - 1s 59us/sample - loss: 0.6896 - sparse_categorical_accuracy: 0.5418 - val_loss: 0.6868 - val_sparse_categorical_accuracy: 0.5584\n",
      "Epoch 49/150\n",
      "9013/9013 [==============================] - 0s 54us/sample - loss: 0.6900 - sparse_categorical_accuracy: 0.5412 - val_loss: 0.6868 - val_sparse_categorical_accuracy: 0.5579\n",
      "Epoch 50/150\n",
      "9013/9013 [==============================] - 0s 54us/sample - loss: 0.6894 - sparse_categorical_accuracy: 0.5416 - val_loss: 0.6868 - val_sparse_categorical_accuracy: 0.5579\n",
      "Epoch 51/150\n",
      "9013/9013 [==============================] - 0s 54us/sample - loss: 0.6893 - sparse_categorical_accuracy: 0.5427 - val_loss: 0.6868 - val_sparse_categorical_accuracy: 0.5584\n",
      "Epoch 52/150\n",
      "9013/9013 [==============================] - 1s 57us/sample - loss: 0.6895 - sparse_categorical_accuracy: 0.5421 - val_loss: 0.6868 - val_sparse_categorical_accuracy: 0.5579\n",
      "Epoch 53/150\n",
      "9013/9013 [==============================] - 1s 59us/sample - loss: 0.6895 - sparse_categorical_accuracy: 0.5417 - val_loss: 0.6868 - val_sparse_categorical_accuracy: 0.5579\n",
      "Epoch 54/150\n",
      "9013/9013 [==============================] - 1s 56us/sample - loss: 0.6900 - sparse_categorical_accuracy: 0.5401 - val_loss: 0.6868 - val_sparse_categorical_accuracy: 0.5579\n",
      "Epoch 55/150\n",
      "9013/9013 [==============================] - 1s 57us/sample - loss: 0.6899 - sparse_categorical_accuracy: 0.5406 - val_loss: 0.6868 - val_sparse_categorical_accuracy: 0.5579\n",
      "Epoch 56/150\n",
      "9013/9013 [==============================] - 1s 60us/sample - loss: 0.6896 - sparse_categorical_accuracy: 0.5423 - val_loss: 0.6868 - val_sparse_categorical_accuracy: 0.5579\n",
      "Epoch 57/150\n",
      "9013/9013 [==============================] - 1s 65us/sample - loss: 0.6898 - sparse_categorical_accuracy: 0.5416 - val_loss: 0.6868 - val_sparse_categorical_accuracy: 0.5579\n",
      "Epoch 58/150\n",
      "9013/9013 [==============================] - 1s 76us/sample - loss: 0.6897 - sparse_categorical_accuracy: 0.5399 - val_loss: 0.6868 - val_sparse_categorical_accuracy: 0.5579\n",
      "Epoch 59/150\n",
      "9013/9013 [==============================] - 0s 55us/sample - loss: 0.6897 - sparse_categorical_accuracy: 0.5422 - val_loss: 0.6868 - val_sparse_categorical_accuracy: 0.5579\n",
      "Epoch 60/150\n",
      "9013/9013 [==============================] - 1s 79us/sample - loss: 0.6894 - sparse_categorical_accuracy: 0.5422 - val_loss: 0.6868 - val_sparse_categorical_accuracy: 0.5579\n",
      "Epoch 61/150\n",
      "9013/9013 [==============================] - 1s 58us/sample - loss: 0.6894 - sparse_categorical_accuracy: 0.5413 - val_loss: 0.6868 - val_sparse_categorical_accuracy: 0.5579\n",
      "Epoch 62/150\n",
      "9013/9013 [==============================] - 1s 56us/sample - loss: 0.6891 - sparse_categorical_accuracy: 0.5427 - val_loss: 0.6868 - val_sparse_categorical_accuracy: 0.5579\n",
      "Epoch 63/150\n",
      "9013/9013 [==============================] - 1s 58us/sample - loss: 0.6893 - sparse_categorical_accuracy: 0.5430 - val_loss: 0.6868 - val_sparse_categorical_accuracy: 0.5579\n",
      "Epoch 64/150\n",
      "9013/9013 [==============================] - 1s 60us/sample - loss: 0.6895 - sparse_categorical_accuracy: 0.5427 - val_loss: 0.6867 - val_sparse_categorical_accuracy: 0.5579\n",
      "Epoch 65/150\n",
      "9013/9013 [==============================] - 1s 57us/sample - loss: 0.6894 - sparse_categorical_accuracy: 0.5427 - val_loss: 0.6867 - val_sparse_categorical_accuracy: 0.5579\n",
      "Epoch 66/150\n",
      "9013/9013 [==============================] - 0s 55us/sample - loss: 0.6893 - sparse_categorical_accuracy: 0.5423 - val_loss: 0.6867 - val_sparse_categorical_accuracy: 0.5588\n",
      "Epoch 67/150\n",
      "9013/9013 [==============================] - 1s 58us/sample - loss: 0.6893 - sparse_categorical_accuracy: 0.5425 - val_loss: 0.6867 - val_sparse_categorical_accuracy: 0.5588\n",
      "Epoch 68/150\n",
      "9013/9013 [==============================] - 1s 56us/sample - loss: 0.6895 - sparse_categorical_accuracy: 0.5407 - val_loss: 0.6867 - val_sparse_categorical_accuracy: 0.5588\n",
      "Epoch 69/150\n",
      "9013/9013 [==============================] - 0s 55us/sample - loss: 0.6896 - sparse_categorical_accuracy: 0.5423 - val_loss: 0.6867 - val_sparse_categorical_accuracy: 0.5588\n",
      "Epoch 70/150\n",
      "9013/9013 [==============================] - 1s 65us/sample - loss: 0.6893 - sparse_categorical_accuracy: 0.5420 - val_loss: 0.6867 - val_sparse_categorical_accuracy: 0.5588\n",
      "Epoch 71/150\n",
      "9013/9013 [==============================] - 1s 65us/sample - loss: 0.6896 - sparse_categorical_accuracy: 0.5424 - val_loss: 0.6867 - val_sparse_categorical_accuracy: 0.5588\n",
      "Epoch 72/150\n",
      "9013/9013 [==============================] - 1s 67us/sample - loss: 0.6896 - sparse_categorical_accuracy: 0.5413 - val_loss: 0.6867 - val_sparse_categorical_accuracy: 0.5588\n",
      "Epoch 73/150\n",
      "9013/9013 [==============================] - 1s 66us/sample - loss: 0.6893 - sparse_categorical_accuracy: 0.5433 - val_loss: 0.6867 - val_sparse_categorical_accuracy: 0.5588\n",
      "Epoch 74/150\n",
      "9013/9013 [==============================] - 1s 65us/sample - loss: 0.6897 - sparse_categorical_accuracy: 0.5424 - val_loss: 0.6867 - val_sparse_categorical_accuracy: 0.5588\n",
      "Epoch 75/150\n",
      "9013/9013 [==============================] - 1s 64us/sample - loss: 0.6896 - sparse_categorical_accuracy: 0.5422 - val_loss: 0.6867 - val_sparse_categorical_accuracy: 0.5588\n",
      "Epoch 76/150\n",
      "9013/9013 [==============================] - 1s 68us/sample - loss: 0.6892 - sparse_categorical_accuracy: 0.5438 - val_loss: 0.6867 - val_sparse_categorical_accuracy: 0.5588\n",
      "Epoch 77/150\n",
      "9013/9013 [==============================] - 1s 66us/sample - loss: 0.6900 - sparse_categorical_accuracy: 0.5398 - val_loss: 0.6867 - val_sparse_categorical_accuracy: 0.5588\n",
      "Epoch 78/150\n",
      "9013/9013 [==============================] - 1s 64us/sample - loss: 0.6897 - sparse_categorical_accuracy: 0.5416 - val_loss: 0.6867 - val_sparse_categorical_accuracy: 0.5588\n",
      "Epoch 79/150\n",
      "9013/9013 [==============================] - 1s 74us/sample - loss: 0.6890 - sparse_categorical_accuracy: 0.5439 - val_loss: 0.6867 - val_sparse_categorical_accuracy: 0.5588\n",
      "Epoch 80/150\n",
      "9013/9013 [==============================] - 1s 88us/sample - loss: 0.6894 - sparse_categorical_accuracy: 0.5427 - val_loss: 0.6867 - val_sparse_categorical_accuracy: 0.5588\n",
      "Epoch 81/150\n",
      "9013/9013 [==============================] - 1s 63us/sample - loss: 0.6894 - sparse_categorical_accuracy: 0.5435 - val_loss: 0.6867 - val_sparse_categorical_accuracy: 0.5588\n",
      "Epoch 82/150\n",
      "9013/9013 [==============================] - 1s 91us/sample - loss: 0.6893 - sparse_categorical_accuracy: 0.5417 - val_loss: 0.6867 - val_sparse_categorical_accuracy: 0.5588\n",
      "Epoch 83/150\n",
      "9013/9013 [==============================] - 1s 75us/sample - loss: 0.6892 - sparse_categorical_accuracy: 0.5420 - val_loss: 0.6867 - val_sparse_categorical_accuracy: 0.5588\n",
      "Epoch 84/150\n",
      "9013/9013 [==============================] - 0s 48us/sample - loss: 0.6897 - sparse_categorical_accuracy: 0.5420 - val_loss: 0.6867 - val_sparse_categorical_accuracy: 0.5588\n",
      "Epoch 85/150\n",
      "9013/9013 [==============================] - 1s 68us/sample - loss: 0.6895 - sparse_categorical_accuracy: 0.5412 - val_loss: 0.6867 - val_sparse_categorical_accuracy: 0.5588\n",
      "Epoch 86/150\n",
      "9013/9013 [==============================] - 1s 70us/sample - loss: 0.6893 - sparse_categorical_accuracy: 0.5419 - val_loss: 0.6866 - val_sparse_categorical_accuracy: 0.5588\n",
      "Epoch 87/150\n",
      "9013/9013 [==============================] - 1s 124us/sample - loss: 0.6891 - sparse_categorical_accuracy: 0.5451 - val_loss: 0.6866 - val_sparse_categorical_accuracy: 0.5588\n"
     ]
    },
    {
     "name": "stdout",
     "output_type": "stream",
     "text": [
      "Epoch 88/150\n",
      "9013/9013 [==============================] - 1s 123us/sample - loss: 0.6895 - sparse_categorical_accuracy: 0.5408 - val_loss: 0.6866 - val_sparse_categorical_accuracy: 0.5579\n",
      "Epoch 89/150\n",
      "9013/9013 [==============================] - 1s 65us/sample - loss: 0.6893 - sparse_categorical_accuracy: 0.5429 - val_loss: 0.6866 - val_sparse_categorical_accuracy: 0.5579\n",
      "Epoch 90/150\n",
      "9013/9013 [==============================] - 1s 78us/sample - loss: 0.6896 - sparse_categorical_accuracy: 0.5414 - val_loss: 0.6866 - val_sparse_categorical_accuracy: 0.5579\n",
      "Epoch 91/150\n",
      "9013/9013 [==============================] - 1s 66us/sample - loss: 0.6896 - sparse_categorical_accuracy: 0.5438 - val_loss: 0.6866 - val_sparse_categorical_accuracy: 0.5579\n",
      "Epoch 92/150\n",
      "9013/9013 [==============================] - 1s 66us/sample - loss: 0.6893 - sparse_categorical_accuracy: 0.5441 - val_loss: 0.6866 - val_sparse_categorical_accuracy: 0.5579\n",
      "Epoch 93/150\n",
      "9013/9013 [==============================] - 1s 57us/sample - loss: 0.6892 - sparse_categorical_accuracy: 0.5425 - val_loss: 0.6866 - val_sparse_categorical_accuracy: 0.5579\n",
      "Epoch 94/150\n",
      "9013/9013 [==============================] - 0s 48us/sample - loss: 0.6890 - sparse_categorical_accuracy: 0.5452 - val_loss: 0.6866 - val_sparse_categorical_accuracy: 0.5579\n",
      "Epoch 95/150\n",
      "9013/9013 [==============================] - 0s 50us/sample - loss: 0.6890 - sparse_categorical_accuracy: 0.5447 - val_loss: 0.6866 - val_sparse_categorical_accuracy: 0.5579\n",
      "Epoch 96/150\n",
      "9013/9013 [==============================] - 0s 50us/sample - loss: 0.6892 - sparse_categorical_accuracy: 0.5430 - val_loss: 0.6866 - val_sparse_categorical_accuracy: 0.5575\n",
      "Epoch 97/150\n",
      "9013/9013 [==============================] - 1s 108us/sample - loss: 0.6895 - sparse_categorical_accuracy: 0.5416 - val_loss: 0.6865 - val_sparse_categorical_accuracy: 0.5579\n",
      "Epoch 98/150\n",
      "9013/9013 [==============================] - 1s 118us/sample - loss: 0.6897 - sparse_categorical_accuracy: 0.5399 - val_loss: 0.6866 - val_sparse_categorical_accuracy: 0.5579\n",
      "Epoch 99/150\n",
      "9013/9013 [==============================] - 2s 178us/sample - loss: 0.6895 - sparse_categorical_accuracy: 0.5423 - val_loss: 0.6866 - val_sparse_categorical_accuracy: 0.5579\n",
      "Epoch 100/150\n",
      "9013/9013 [==============================] - 1s 107us/sample - loss: 0.6894 - sparse_categorical_accuracy: 0.5411 - val_loss: 0.6866 - val_sparse_categorical_accuracy: 0.5579\n",
      "Epoch 101/150\n",
      "9013/9013 [==============================] - 1s 127us/sample - loss: 0.6894 - sparse_categorical_accuracy: 0.5441 - val_loss: 0.6866 - val_sparse_categorical_accuracy: 0.5584\n",
      "Epoch 102/150\n",
      "9013/9013 [==============================] - 1s 166us/sample - loss: 0.6893 - sparse_categorical_accuracy: 0.5425 - val_loss: 0.6866 - val_sparse_categorical_accuracy: 0.5588\n",
      "Epoch 103/150\n",
      "9013/9013 [==============================] - 1s 147us/sample - loss: 0.6894 - sparse_categorical_accuracy: 0.5412 - val_loss: 0.6866 - val_sparse_categorical_accuracy: 0.5588\n",
      "Epoch 104/150\n",
      "9013/9013 [==============================] - 1s 68us/sample - loss: 0.6894 - sparse_categorical_accuracy: 0.5410 - val_loss: 0.6866 - val_sparse_categorical_accuracy: 0.5593\n",
      "Epoch 105/150\n",
      "9013/9013 [==============================] - 1s 57us/sample - loss: 0.6891 - sparse_categorical_accuracy: 0.5427 - val_loss: 0.6866 - val_sparse_categorical_accuracy: 0.5588\n",
      "Epoch 106/150\n",
      "9013/9013 [==============================] - 1s 69us/sample - loss: 0.6892 - sparse_categorical_accuracy: 0.5445 - val_loss: 0.6865 - val_sparse_categorical_accuracy: 0.5588\n",
      "Epoch 107/150\n",
      "9013/9013 [==============================] - 1s 95us/sample - loss: 0.6893 - sparse_categorical_accuracy: 0.5439 - val_loss: 0.6865 - val_sparse_categorical_accuracy: 0.5588\n",
      "Epoch 108/150\n",
      "9013/9013 [==============================] - 1s 71us/sample - loss: 0.6891 - sparse_categorical_accuracy: 0.5441 - val_loss: 0.6865 - val_sparse_categorical_accuracy: 0.5584\n",
      "Epoch 109/150\n",
      "9013/9013 [==============================] - 1s 63us/sample - loss: 0.6899 - sparse_categorical_accuracy: 0.5406 - val_loss: 0.6865 - val_sparse_categorical_accuracy: 0.5584\n",
      "Epoch 110/150\n",
      "9013/9013 [==============================] - 1s 61us/sample - loss: 0.6892 - sparse_categorical_accuracy: 0.5431 - val_loss: 0.6865 - val_sparse_categorical_accuracy: 0.5579\n",
      "Epoch 111/150\n",
      "9013/9013 [==============================] - 1s 61us/sample - loss: 0.6892 - sparse_categorical_accuracy: 0.5435 - val_loss: 0.6865 - val_sparse_categorical_accuracy: 0.5579\n",
      "Epoch 112/150\n",
      "9013/9013 [==============================] - 1s 83us/sample - loss: 0.6890 - sparse_categorical_accuracy: 0.5429 - val_loss: 0.6865 - val_sparse_categorical_accuracy: 0.5579\n",
      "Epoch 113/150\n",
      "9013/9013 [==============================] - 1s 136us/sample - loss: 0.6892 - sparse_categorical_accuracy: 0.5431 - val_loss: 0.6865 - val_sparse_categorical_accuracy: 0.5579\n",
      "Epoch 114/150\n",
      "9013/9013 [==============================] - 1s 132us/sample - loss: 0.6894 - sparse_categorical_accuracy: 0.5430 - val_loss: 0.6865 - val_sparse_categorical_accuracy: 0.5584\n",
      "Epoch 115/150\n",
      "9013/9013 [==============================] - 1s 141us/sample - loss: 0.6893 - sparse_categorical_accuracy: 0.5428 - val_loss: 0.6865 - val_sparse_categorical_accuracy: 0.5584\n",
      "Epoch 116/150\n",
      "9013/9013 [==============================] - 1s 119us/sample - loss: 0.6891 - sparse_categorical_accuracy: 0.5442 - val_loss: 0.6864 - val_sparse_categorical_accuracy: 0.5584\n",
      "Epoch 117/150\n",
      "9013/9013 [==============================] - 1s 135us/sample - loss: 0.6893 - sparse_categorical_accuracy: 0.5423 - val_loss: 0.6864 - val_sparse_categorical_accuracy: 0.5584\n",
      "Epoch 118/150\n",
      "9013/9013 [==============================] - 1s 111us/sample - loss: 0.6894 - sparse_categorical_accuracy: 0.5422 - val_loss: 0.6864 - val_sparse_categorical_accuracy: 0.5584\n",
      "Epoch 119/150\n",
      "9013/9013 [==============================] - 1s 119us/sample - loss: 0.6892 - sparse_categorical_accuracy: 0.5432 - val_loss: 0.6864 - val_sparse_categorical_accuracy: 0.5584\n",
      "Epoch 120/150\n",
      "9013/9013 [==============================] - 1s 141us/sample - loss: 0.6890 - sparse_categorical_accuracy: 0.5439 - val_loss: 0.6864 - val_sparse_categorical_accuracy: 0.5584\n",
      "Epoch 121/150\n",
      "9013/9013 [==============================] - 1s 116us/sample - loss: 0.6894 - sparse_categorical_accuracy: 0.5420 - val_loss: 0.6864 - val_sparse_categorical_accuracy: 0.5579\n",
      "Epoch 122/150\n",
      "9013/9013 [==============================] - 1s 86us/sample - loss: 0.6893 - sparse_categorical_accuracy: 0.5421 - val_loss: 0.6864 - val_sparse_categorical_accuracy: 0.5584\n",
      "Epoch 123/150\n",
      "9013/9013 [==============================] - 1s 69us/sample - loss: 0.6888 - sparse_categorical_accuracy: 0.5441 - val_loss: 0.6864 - val_sparse_categorical_accuracy: 0.5588\n",
      "Epoch 124/150\n",
      "9013/9013 [==============================] - 1s 81us/sample - loss: 0.6889 - sparse_categorical_accuracy: 0.5444 - val_loss: 0.6864 - val_sparse_categorical_accuracy: 0.5588\n",
      "Epoch 125/150\n",
      "9013/9013 [==============================] - 1s 78us/sample - loss: 0.6896 - sparse_categorical_accuracy: 0.5429 - val_loss: 0.6864 - val_sparse_categorical_accuracy: 0.5584\n",
      "Epoch 126/150\n",
      "9013/9013 [==============================] - 1s 82us/sample - loss: 0.6891 - sparse_categorical_accuracy: 0.5432 - val_loss: 0.6864 - val_sparse_categorical_accuracy: 0.5584\n",
      "Epoch 127/150\n",
      "9013/9013 [==============================] - 1s 80us/sample - loss: 0.6887 - sparse_categorical_accuracy: 0.5448 - val_loss: 0.6864 - val_sparse_categorical_accuracy: 0.5584\n",
      "Epoch 128/150\n",
      "9013/9013 [==============================] - 1s 74us/sample - loss: 0.6893 - sparse_categorical_accuracy: 0.5445 - val_loss: 0.6864 - val_sparse_categorical_accuracy: 0.5584\n",
      "Epoch 129/150\n",
      "9013/9013 [==============================] - 1s 70us/sample - loss: 0.6889 - sparse_categorical_accuracy: 0.5457 - val_loss: 0.6864 - val_sparse_categorical_accuracy: 0.5579\n",
      "Epoch 130/150\n",
      "9013/9013 [==============================] - 1s 77us/sample - loss: 0.6890 - sparse_categorical_accuracy: 0.5448 - val_loss: 0.6864 - val_sparse_categorical_accuracy: 0.5579\n",
      "Epoch 131/150\n",
      "9013/9013 [==============================] - 1s 59us/sample - loss: 0.6888 - sparse_categorical_accuracy: 0.5469 - val_loss: 0.6864 - val_sparse_categorical_accuracy: 0.5579\n",
      "Epoch 132/150\n",
      "9013/9013 [==============================] - 1s 82us/sample - loss: 0.6890 - sparse_categorical_accuracy: 0.5434 - val_loss: 0.6864 - val_sparse_categorical_accuracy: 0.5579\n",
      "Epoch 133/150\n",
      "9013/9013 [==============================] - 1s 96us/sample - loss: 0.6892 - sparse_categorical_accuracy: 0.5423 - val_loss: 0.6863 - val_sparse_categorical_accuracy: 0.5579\n",
      "Epoch 134/150\n",
      "9013/9013 [==============================] - 1s 62us/sample - loss: 0.6889 - sparse_categorical_accuracy: 0.5425 - val_loss: 0.6863 - val_sparse_categorical_accuracy: 0.5579\n",
      "Epoch 135/150\n",
      "9013/9013 [==============================] - 1s 57us/sample - loss: 0.6893 - sparse_categorical_accuracy: 0.5439 - val_loss: 0.6863 - val_sparse_categorical_accuracy: 0.5579\n",
      "Epoch 136/150\n",
      "9013/9013 [==============================] - 0s 48us/sample - loss: 0.6894 - sparse_categorical_accuracy: 0.5419 - val_loss: 0.6863 - val_sparse_categorical_accuracy: 0.5579\n",
      "Epoch 137/150\n",
      "9013/9013 [==============================] - 0s 45us/sample - loss: 0.6893 - sparse_categorical_accuracy: 0.5423 - val_loss: 0.6863 - val_sparse_categorical_accuracy: 0.5579\n",
      "Epoch 138/150\n",
      "9013/9013 [==============================] - 0s 50us/sample - loss: 0.6893 - sparse_categorical_accuracy: 0.5431 - val_loss: 0.6863 - val_sparse_categorical_accuracy: 0.5579\n",
      "Epoch 139/150\n",
      "9013/9013 [==============================] - 0s 46us/sample - loss: 0.6890 - sparse_categorical_accuracy: 0.5462 - val_loss: 0.6863 - val_sparse_categorical_accuracy: 0.5579\n",
      "Epoch 140/150\n",
      "9013/9013 [==============================] - 0s 51us/sample - loss: 0.6895 - sparse_categorical_accuracy: 0.5424 - val_loss: 0.6863 - val_sparse_categorical_accuracy: 0.5579\n",
      "Epoch 141/150\n",
      "9013/9013 [==============================] - 0s 55us/sample - loss: 0.6890 - sparse_categorical_accuracy: 0.5431 - val_loss: 0.6863 - val_sparse_categorical_accuracy: 0.5579\n",
      "Epoch 142/150\n",
      "9013/9013 [==============================] - 0s 48us/sample - loss: 0.6888 - sparse_categorical_accuracy: 0.5440 - val_loss: 0.6863 - val_sparse_categorical_accuracy: 0.5584\n",
      "Epoch 143/150\n",
      "9013/9013 [==============================] - 0s 47us/sample - loss: 0.6891 - sparse_categorical_accuracy: 0.5443 - val_loss: 0.6863 - val_sparse_categorical_accuracy: 0.5584\n",
      "Epoch 144/150\n",
      "9013/9013 [==============================] - 0s 48us/sample - loss: 0.6887 - sparse_categorical_accuracy: 0.5444 - val_loss: 0.6863 - val_sparse_categorical_accuracy: 0.5584\n",
      "Epoch 145/150\n",
      "9013/9013 [==============================] - 0s 53us/sample - loss: 0.6886 - sparse_categorical_accuracy: 0.5464 - val_loss: 0.6863 - val_sparse_categorical_accuracy: 0.5575\n",
      "Epoch 146/150\n",
      "9013/9013 [==============================] - 0s 46us/sample - loss: 0.6888 - sparse_categorical_accuracy: 0.5450 - val_loss: 0.6863 - val_sparse_categorical_accuracy: 0.5579\n",
      "Epoch 147/150\n",
      "9013/9013 [==============================] - 0s 49us/sample - loss: 0.6890 - sparse_categorical_accuracy: 0.5448 - val_loss: 0.6863 - val_sparse_categorical_accuracy: 0.5579\n",
      "Epoch 148/150\n",
      "9013/9013 [==============================] - 1s 85us/sample - loss: 0.6887 - sparse_categorical_accuracy: 0.5455 - val_loss: 0.6863 - val_sparse_categorical_accuracy: 0.5579\n",
      "Epoch 149/150\n",
      "9013/9013 [==============================] - 1s 141us/sample - loss: 0.6884 - sparse_categorical_accuracy: 0.5463 - val_loss: 0.6863 - val_sparse_categorical_accuracy: 0.5588\n",
      "Epoch 150/150\n",
      "9013/9013 [==============================] - 1s 110us/sample - loss: 0.6891 - sparse_categorical_accuracy: 0.5450 - val_loss: 0.6863 - val_sparse_categorical_accuracy: 0.5588\n"
     ]
    }
   ],
   "source": [
    "model = tf.keras.Sequential()\n",
    "\n",
    "# model.add(keras.layers.Dense(256, activation='relu'))\n",
    "model.add(keras.layers.Dense(128, activation='relu'))\n",
    "model.add(keras.layers.Dense(64, activation='relu'))\n",
    "model.add(keras.layers.Dense(32, activation='relu'))\n",
    "model.add(keras.layers.Dropout(0.1))\n",
    "model.add(keras.layers.Dense(2, activation='relu'))\n",
    "model.add(keras.layers.Dense(2, activation='softmax'))\n",
    "\n",
    "model.compile(loss='sparse_categorical_crossentropy',  \n",
    "              optimizer=keras.optimizers.SGD(lr=0.001),\n",
    "              metrics=['sparse_categorical_accuracy'])\n",
    "\n",
    "history = model.fit(trainx, trainy,\n",
    "          validation_data=(testx, testy),\n",
    "          shuffle=True,\n",
    "          batch_size=64,\n",
    "          epochs=150);\n",
    "\n",
    "\n",
    "values = model.predict(testx)"
   ]
  },
  {
   "cell_type": "code",
   "execution_count": null,
   "metadata": {},
   "outputs": [],
   "source": []
  },
  {
   "cell_type": "code",
   "execution_count": 18,
   "metadata": {
    "scrolled": true
   },
   "outputs": [
    {
     "data": {
      "image/png": "[encoded data removed]",
      "text/plain": [
       "<Figure size 432x288 with 1 Axes>"
      ]
     },
     "metadata": {
      "needs_background": "light"
     },
     "output_type": "display_data"
    }
   ],
   "source": [
    "pyplot.plot(history.history['sparse_categorical_accuracy'])\n",
    "pyplot.plot(history.history['val_sparse_categorical_accuracy'])\n",
    "pyplot.ylabel('sparse_categorical_accuracy')\n",
    "pyplot.xlabel('epoch')\n",
    "pyplot.legend(['train', 'validation'], loc='upper right')\n",
    "pyplot.show()\n"
   ]
  },
  {
   "cell_type": "code",
   "execution_count": 19,
   "metadata": {},
   "outputs": [
    {
     "data": {
      "image/png": "[encoded data removed]",
      "text/plain": [
       "<Figure size 432x288 with 1 Axes>"
      ]
     },
     "metadata": {
      "needs_background": "light"
     },
     "output_type": "display_data"
    }
   ],
   "source": [
    "pyplot.plot(history.history['loss'])\n",
    "pyplot.plot(history.history['val_loss'])\n",
    "pyplot.ylabel('loss')\n",
    "pyplot.xlabel('epoch')\n",
    "pyplot.legend(['train', 'validation'], loc='upper right')\n",
    "pyplot.show()"
   ]
  },
  {
   "cell_type": "code",
   "execution_count": 18,
   "metadata": {},
   "outputs": [
    {
     "data": {
      "text/plain": [
       "array([10.])"
      ]
     },
     "execution_count": 18,
     "metadata": {},
     "output_type": "execute_result"
    }
   ],
   "source": [
    "trainy"
   ]
  },
  {
   "cell_type": "code",
   "execution_count": 140,
   "metadata": {},
   "outputs": [
    {
     "data": {
      "text/plain": [
       "(8491, 32)"
      ]
     },
     "execution_count": 140,
     "metadata": {},
     "output_type": "execute_result"
    }
   ],
   "source": [
    "trainx.shape"
   ]
  },
  {
   "cell_type": "code",
   "execution_count": 122,
   "metadata": {},
   "outputs": [
    {
     "data": {
      "text/plain": [
       "(8491,)"
      ]
     },
     "execution_count": 122,
     "metadata": {},
     "output_type": "execute_result"
    }
   ],
   "source": [
    "trainy.shape"
   ]
  },
  {
   "cell_type": "code",
   "execution_count": 46,
   "metadata": {},
   "outputs": [
    {
     "name": "stdout",
     "output_type": "stream",
     "text": [
      "Train on 5 samples, validate on 5 samples\n",
      "Epoch 1/30\n",
      "5/5 [==============================] - 3s 602ms/sample - loss: 2.7720 - sparse_categorical_accuracy: 0.0000e+00 - val_loss: 2.7738 - val_sparse_categorical_accuracy: 0.2000\n",
      "Epoch 2/30\n",
      "5/5 [==============================] - 0s 10ms/sample - loss: 2.7673 - sparse_categorical_accuracy: 0.2000 - val_loss: 2.7742 - val_sparse_categorical_accuracy: 0.2000\n",
      "Epoch 3/30\n",
      "5/5 [==============================] - 0s 11ms/sample - loss: 2.7627 - sparse_categorical_accuracy: 0.2000 - val_loss: 2.7746 - val_sparse_categorical_accuracy: 0.2000\n",
      "Epoch 4/30\n",
      "5/5 [==============================] - 0s 11ms/sample - loss: 2.7582 - sparse_categorical_accuracy: 0.2000 - val_loss: 2.7750 - val_sparse_categorical_accuracy: 0.2000\n",
      "Epoch 5/30\n",
      "5/5 [==============================] - 0s 10ms/sample - loss: 2.7536 - sparse_categorical_accuracy: 0.2000 - val_loss: 2.7755 - val_sparse_categorical_accuracy: 0.2000\n",
      "Epoch 6/30\n",
      "5/5 [==============================] - 0s 16ms/sample - loss: 2.7491 - sparse_categorical_accuracy: 0.2000 - val_loss: 2.7759 - val_sparse_categorical_accuracy: 0.2000\n",
      "Epoch 7/30\n",
      "5/5 [==============================] - 0s 13ms/sample - loss: 2.7446 - sparse_categorical_accuracy: 0.2000 - val_loss: 2.7764 - val_sparse_categorical_accuracy: 0.2000\n",
      "Epoch 8/30\n",
      "5/5 [==============================] - 0s 14ms/sample - loss: 2.7401 - sparse_categorical_accuracy: 0.2000 - val_loss: 2.7769 - val_sparse_categorical_accuracy: 0.2000\n",
      "Epoch 9/30\n",
      "5/5 [==============================] - 0s 10ms/sample - loss: 2.7356 - sparse_categorical_accuracy: 0.2000 - val_loss: 2.7774 - val_sparse_categorical_accuracy: 0.2000\n",
      "Epoch 10/30\n",
      "5/5 [==============================] - 0s 11ms/sample - loss: 2.7312 - sparse_categorical_accuracy: 0.2000 - val_loss: 2.7779 - val_sparse_categorical_accuracy: 0.2000\n",
      "Epoch 11/30\n",
      "5/5 [==============================] - 0s 13ms/sample - loss: 2.7268 - sparse_categorical_accuracy: 0.2000 - val_loss: 2.7784 - val_sparse_categorical_accuracy: 0.2000\n",
      "Epoch 12/30\n",
      "5/5 [==============================] - 0s 15ms/sample - loss: 2.7224 - sparse_categorical_accuracy: 0.2000 - val_loss: 2.7789 - val_sparse_categorical_accuracy: 0.2000\n",
      "Epoch 13/30\n",
      "5/5 [==============================] - 0s 11ms/sample - loss: 2.7180 - sparse_categorical_accuracy: 0.2000 - val_loss: 2.7794 - val_sparse_categorical_accuracy: 0.2000\n",
      "Epoch 14/30\n",
      "5/5 [==============================] - 0s 10ms/sample - loss: 2.7137 - sparse_categorical_accuracy: 0.2000 - val_loss: 2.7800 - val_sparse_categorical_accuracy: 0.2000\n",
      "Epoch 15/30\n",
      "5/5 [==============================] - 0s 10ms/sample - loss: 2.7093 - sparse_categorical_accuracy: 0.2000 - val_loss: 2.7805 - val_sparse_categorical_accuracy: 0.2000\n",
      "Epoch 16/30\n",
      "5/5 [==============================] - 0s 13ms/sample - loss: 2.7050 - sparse_categorical_accuracy: 0.2000 - val_loss: 2.7811 - val_sparse_categorical_accuracy: 0.2000\n",
      "Epoch 17/30\n",
      "5/5 [==============================] - 0s 20ms/sample - loss: 2.7007 - sparse_categorical_accuracy: 0.2000 - val_loss: 2.7817 - val_sparse_categorical_accuracy: 0.2000\n",
      "Epoch 18/30\n",
      "5/5 [==============================] - 0s 23ms/sample - loss: 2.6964 - sparse_categorical_accuracy: 0.2000 - val_loss: 2.7823 - val_sparse_categorical_accuracy: 0.2000\n",
      "Epoch 19/30\n",
      "5/5 [==============================] - 0s 18ms/sample - loss: 2.6922 - sparse_categorical_accuracy: 0.2000 - val_loss: 2.7829 - val_sparse_categorical_accuracy: 0.2000\n",
      "Epoch 20/30\n",
      "5/5 [==============================] - 0s 17ms/sample - loss: 2.6879 - sparse_categorical_accuracy: 0.2000 - val_loss: 2.7835 - val_sparse_categorical_accuracy: 0.2000\n",
      "Epoch 21/30\n",
      "5/5 [==============================] - 0s 18ms/sample - loss: 2.6837 - sparse_categorical_accuracy: 0.2000 - val_loss: 2.7841 - val_sparse_categorical_accuracy: 0.2000\n",
      "Epoch 22/30\n",
      "5/5 [==============================] - 0s 17ms/sample - loss: 2.6795 - sparse_categorical_accuracy: 0.2000 - val_loss: 2.7848 - val_sparse_categorical_accuracy: 0.2000\n",
      "Epoch 23/30\n",
      "5/5 [==============================] - 0s 18ms/sample - loss: 2.6753 - sparse_categorical_accuracy: 0.2000 - val_loss: 2.7854 - val_sparse_categorical_accuracy: 0.2000\n",
      "Epoch 24/30\n",
      "5/5 [==============================] - 0s 21ms/sample - loss: 2.6711 - sparse_categorical_accuracy: 0.2000 - val_loss: 2.7861 - val_sparse_categorical_accuracy: 0.2000\n",
      "Epoch 25/30\n",
      "5/5 [==============================] - 0s 23ms/sample - loss: 2.6670 - sparse_categorical_accuracy: 0.2000 - val_loss: 2.7868 - val_sparse_categorical_accuracy: 0.2000\n",
      "Epoch 26/30\n",
      "5/5 [==============================] - 0s 34ms/sample - loss: 2.6628 - sparse_categorical_accuracy: 0.2000 - val_loss: 2.7875 - val_sparse_categorical_accuracy: 0.2000\n",
      "Epoch 27/30\n",
      "5/5 [==============================] - 0s 18ms/sample - loss: 2.6587 - sparse_categorical_accuracy: 0.2000 - val_loss: 2.7882 - val_sparse_categorical_accuracy: 0.2000\n",
      "Epoch 28/30\n",
      "5/5 [==============================] - 0s 11ms/sample - loss: 2.6546 - sparse_categorical_accuracy: 0.2000 - val_loss: 2.7889 - val_sparse_categorical_accuracy: 0.2000\n",
      "Epoch 29/30\n",
      "5/5 [==============================] - 0s 23ms/sample - loss: 2.6505 - sparse_categorical_accuracy: 0.2000 - val_loss: 2.7896 - val_sparse_categorical_accuracy: 0.2000\n",
      "Epoch 30/30\n",
      "5/5 [==============================] - 0s 29ms/sample - loss: 2.6464 - sparse_categorical_accuracy: 0.2000 - val_loss: 2.7903 - val_sparse_categorical_accuracy: 0.2000\n"
     ]
    }
   ],
   "source": [
    "model = tf.keras.Sequential()\n",
    "model.add(keras.layers.Embedding(input_dim=64, output_dim=1))\n",
    "\n",
    "model.add(keras.layers.GRU(32))\n",
    "\n",
    "model.add(keras.layers.Dense(16, activation='softmax'))\n",
    "\n",
    "model.compile(loss='sparse_categorical_crossentropy', \n",
    "              optimizer=keras.optimizers.SGD(lr=0.01),\n",
    "              metrics=['sparse_categorical_accuracy'])\n",
    "\n",
    "history = model.fit(trainx, trainy,\n",
    "          validation_data=(testx, testy),\n",
    "          batch_size=100,\n",
    "          epochs=30)\n",
    "\n",
    "\n",
    "\n"
   ]
  },
  {
   "cell_type": "code",
   "execution_count": 117,
   "metadata": {},
   "outputs": [
    {
     "data": {
      "text/plain": [
       "array([[0.06238456, 0.06000677, 0.078821  , 0.06918435, 0.05643553,\n",
       "        0.07335692, 0.06363277, 0.05806257, 0.05761166, 0.05708838,\n",
       "        0.06282649, 0.05898436, 0.0568665 , 0.06394451, 0.06152151,\n",
       "        0.0592721 ],\n",
       "       [0.06244522, 0.06016866, 0.07859089, 0.06933583, 0.05641425,\n",
       "        0.07336085, 0.06387857, 0.05815759, 0.05772352, 0.0570215 ,\n",
       "        0.06272518, 0.05876366, 0.05681852, 0.06376936, 0.06155202,\n",
       "        0.05927436],\n",
       "       [0.06242387, 0.06008409, 0.07867896, 0.06929895, 0.05640421,\n",
       "        0.07336645, 0.06378859, 0.05812356, 0.05768584, 0.05705557,\n",
       "        0.06276112, 0.0588283 , 0.0568504 , 0.06385017, 0.06154216,\n",
       "        0.0592578 ]], dtype=float32)"
      ]
     },
     "execution_count": 117,
     "metadata": {},
     "output_type": "execute_result"
    }
   ],
   "source": [
    "values = model.predict(trainx)\n",
    "values[:5]"
   ]
  },
  {
   "cell_type": "code",
   "execution_count": 114,
   "metadata": {},
   "outputs": [
    {
     "data": {
      "text/plain": [
       "array([2., 3., 5.])"
      ]
     },
     "execution_count": 114,
     "metadata": {},
     "output_type": "execute_result"
    }
   ],
   "source": [
    "trainy[:20]"
   ]
  },
  {
   "cell_type": "code",
   "execution_count": 39,
   "metadata": {},
   "outputs": [
    {
     "name": "stdout",
     "output_type": "stream",
     "text": [
      "[2.2443318430467296, 2.120533879713369, 2.120235447730718, 2.119998530193451, 2.119074585072863, 2.1166765267244627, 2.1179072624686555, 2.1167973264087276, 2.115801502125089, 2.1145174901411883, 2.114981665441071, 2.1154392430512603, 2.1143915604189245, 2.1136991255079987, 2.1134401703342407, 2.114426835406858, 2.1128386148740073, 2.112011131920096, 2.11222652745694, 2.11145498935771]\n"
     ]
    }
   ],
   "source": [
    "print(history.history['loss'])"
   ]
  },
  {
   "cell_type": "code",
   "execution_count": 36,
   "metadata": {},
   "outputs": [
    {
     "data": {
      "text/plain": [
       "[<matplotlib.lines.Line2D at 0x7f632854b2e8>]"
      ]
     },
     "execution_count": 36,
     "metadata": {},
     "output_type": "execute_result"
    },
    {
     "data": {
      "image/png": "[encoded data removed]",
      "text/plain": [
       "<Figure size 432x288 with 1 Axes>"
      ]
     },
     "metadata": {
      "needs_background": "light"
     },
     "output_type": "display_data"
    }
   ],
   "source": [
    "pyplot.plot(history.history['loss'])"
   ]
  },
  {
   "cell_type": "code",
   "execution_count": 40,
   "metadata": {},
   "outputs": [
    {
     "data": {
      "image/png": "[encoded data removed]",
      "text/plain": [
       "<Figure size 432x288 with 1 Axes>"
      ]
     },
     "metadata": {
      "needs_background": "light"
     },
     "output_type": "display_data"
    }
   ],
   "source": [
    "pyplot.plot(history.history['loss'])\n",
    "pyplot.plot(history.history['val_loss'])\n",
    "pyplot.ylabel('loss')\n",
    "pyplot.xlabel('epoch')\n",
    "pyplot.legend(['train', 'validation'], loc='upper right')\n",
    "pyplot.show()"
   ]
  },
  {
   "cell_type": "code",
   "execution_count": 41,
   "metadata": {},
   "outputs": [
    {
     "data": {
      "image/png": "[encoded data removed]",
      "text/plain": [
       "<Figure size 432x288 with 1 Axes>"
      ]
     },
     "metadata": {
      "needs_background": "light"
     },
     "output_type": "display_data"
    }
   ],
   "source": [
    "pyplot.plot(history.history['sparse_categorical_accuracy'])\n",
    "pyplot.plot(history.history['val_sparse_categorical_accuracy'])\n",
    "pyplot.ylabel('sparse_categorical_accuracy')\n",
    "pyplot.xlabel('epoch')\n",
    "pyplot.legend(['train', 'validation'], loc='upper right')\n",
    "pyplot.show()"
   ]
  },
  {
   "cell_type": "code",
   "execution_count": 20,
   "metadata": {},
   "outputs": [
    {
     "data": {
      "text/plain": [
       "array([[1.0714289e-07, 3.4401094e-06, 1.4992759e-03, 1.4172222e-03,\n",
       "        2.0753897e-03, 5.2765431e-03, 1.6037613e-05, 5.9032373e-05,\n",
       "        8.6154812e-04, 2.2062910e-05, 9.8719877e-01, 9.7377742e-06,\n",
       "        9.4191835e-04, 5.8219291e-04, 3.6210597e-05, 5.5777627e-07]],\n",
       "      dtype=float32)"
      ]
     },
     "execution_count": 20,
     "metadata": {},
     "output_type": "execute_result"
    }
   ],
   "source": [
    "values"
   ]
  },
  {
   "cell_type": "code",
   "execution_count": 22,
   "metadata": {
    "scrolled": true
   },
   "outputs": [
    {
     "data": {
      "text/plain": [
       "array([[1.7234709e-04, 2.4751469e-02, 1.5641753e-02, 1.3734198e-01,\n",
       "        8.9040093e-02, 2.7047154e-01, 1.0606384e-01, 2.1918258e-01,\n",
       "        5.9913006e-02, 5.0407749e-02, 1.1745986e-02, 1.2090806e-02,\n",
       "        1.1589340e-03, 1.5740171e-03, 2.2765367e-04, 2.1625354e-04]],\n",
       "      dtype=float32)"
      ]
     },
     "execution_count": 22,
     "metadata": {},
     "output_type": "execute_result"
    }
   ],
   "source": [
    "model.predict(testx[:1])"
   ]
  }
 ],
 "metadata": {
  "kernelspec": {
   "display_name": "Python 3",
   "language": "python",
   "name": "python3"
  },
  "language_info": {
   "codemirror_mode": {
    "name": "ipython",
    "version": 3
   },
   "file_extension": ".py",
   "mimetype": "text/x-python",
   "name": "python",
   "nbconvert_exporter": "python",
   "pygments_lexer": "ipython3",
   "version": "3.6.8"
  }
 },
 "nbformat": 4,
 "nbformat_minor": 4
}
