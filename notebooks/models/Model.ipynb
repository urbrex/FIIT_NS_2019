{
 "cells": [
  {
   "cell_type": "markdown",
   "metadata": {},
   "source": [
    "# Neural network model"
   ]
  },
  {
   "cell_type": "code",
   "execution_count": 3,
   "metadata": {},
   "outputs": [
    {
     "name": "stdout",
     "output_type": "stream",
     "text": [
      "The autoreload extension is already loaded. To reload it, use:\n",
      "  %reload_ext autoreload\n",
      "The tensorboard extension is already loaded. To reload it, use:\n",
      "  %reload_ext tensorboard\n"
     ]
    }
   ],
   "source": [
    "%load_ext autoreload\n",
    "%autoreload 2\n",
    "\n",
    "%load_ext tensorboard\n",
    "\n",
    "import datetime\n",
    "import os\n",
    "import sys\n",
    "sys.path.append('..')\n",
    "\n",
    "import tensorflow as tf\n",
    "import tensorflow.keras as keras\n",
    "import numpy as np\n",
    "from matplotlib import pyplot\n"
   ]
  },
  {
   "cell_type": "code",
   "execution_count": 4,
   "metadata": {},
   "outputs": [],
   "source": [
    "def timestamp():\n",
    "    return datetime.datetime.now().strftime(\"%Y%m%d-%H%M%S\")\n",
    "def logName(string=0,dropout=1,lr=0.1,batch=64):\n",
    "    return string + 'dropout_' + str(dropout) + 'lr' + str(lr) + 'batch' + str(batch) + '__' +timestamp()"
   ]
  },
  {
   "cell_type": "markdown",
   "metadata": {},
   "source": [
    "Načítanie hodnôt z vopred pripraveného datasetu 1."
   ]
  },
  {
   "cell_type": "code",
   "execution_count": 77,
   "metadata": {},
   "outputs": [],
   "source": [
    "testx = np.genfromtxt('./../../data/processed/dataSet1TestX1.csv', delimiter=',')[1:]\n",
    "testy = np.genfromtxt('./../../data/processed/dataSet1TestY1.csv', delimiter=',')\n",
    "\n",
    "trainx = np.genfromtxt('./../../data/processed/dataSet1TrainX1.csv', delimiter=',')[1:]\n",
    "trainy = np.genfromtxt('./../../data/processed/dataSet1TrainY1.csv', delimiter=',')"
   ]
  },
  {
   "cell_type": "markdown",
   "metadata": {},
   "source": [
    "Načítanie hodnôt z vopred pripraveného datasetu 2."
   ]
  },
  {
   "cell_type": "code",
   "execution_count": 79,
   "metadata": {},
   "outputs": [],
   "source": [
    "testx = np.genfromtxt('./../../data/processed/dataSet2TestX.csv', delimiter=',')[1:]\n",
    "testy = np.genfromtxt('./../../data/processed/dataSet2TestY.csv', delimiter=',')\n",
    "\n",
    "trainx = np.genfromtxt('./../../data/processed/dataSet2TrainX.csv', delimiter=',')[1:]\n",
    "trainy = np.genfromtxt('./../../data/processed/dataSet2TrainY.csv', delimiter=',')"
   ]
  },
  {
   "cell_type": "markdown",
   "metadata": {},
   "source": [
    "Načítanie hodnôt z vopred pripraveného datasetu 3."
   ]
  },
  {
   "cell_type": "code",
   "execution_count": 82,
   "metadata": {},
   "outputs": [],
   "source": [
    "testx = np.genfromtxt('./../../data/processed/dataSet3TestX.csv', delimiter=',')[1:]\n",
    "testy = np.genfromtxt('./../../data/processed/dataSet3TestY.csv', delimiter=',')\n",
    "\n",
    "trainx = np.genfromtxt('./../../data/processed/dataSet3TrainX.csv', delimiter=',')[1:]\n",
    "trainy = np.genfromtxt('./../../data/processed/dataSet3TrainY.csv', delimiter=',')"
   ]
  },
  {
   "cell_type": "markdown",
   "metadata": {},
   "source": [
    "Načítanie hodnôt z vopred pripraveného datasetu 4."
   ]
  },
  {
   "cell_type": "code",
   "execution_count": 5,
   "metadata": {},
   "outputs": [],
   "source": [
    "testx = np.genfromtxt('./../../data/processed/dataSet4TestX.csv', delimiter=',')[1:]\n",
    "testy = np.genfromtxt('./../../data/processed/dataSet4TestY.csv', delimiter=',')\n",
    "\n",
    "trainx = np.genfromtxt('./../../data/processed/dataSet4TrainX.csv', delimiter=',')[1:]\n",
    "trainy = np.genfromtxt('./../../data/processed/dataSet4TrainY.csv', delimiter=',')"
   ]
  },
  {
   "cell_type": "markdown",
   "metadata": {},
   "source": [
    "Načítanie hodnôt z vopred pripraveného datasetu 5."
   ]
  },
  {
   "cell_type": "code",
   "execution_count": 86,
   "metadata": {},
   "outputs": [],
   "source": [
    "testx = np.genfromtxt('./../../data/processed/dataSet5TestX.csv', delimiter=',')[1:]\n",
    "testy = np.genfromtxt('./../../data/processed/dataSet5TestY.csv', delimiter=',')[1:]\n",
    "\n",
    "trainx = np.genfromtxt('./../../data/processed/dataSet5TrainX.csv', delimiter=',')[1:]\n",
    "trainy = np.genfromtxt('./../../data/processed/dataSet5TrainY.csv', delimiter=',')[1:]"
   ]
  },
  {
   "cell_type": "markdown",
   "metadata": {},
   "source": [
    "Definovanie bloku reziduálnej siete."
   ]
  },
  {
   "cell_type": "code",
   "execution_count": 6,
   "metadata": {},
   "outputs": [],
   "source": [
    "def dense_residual(X,width):\n",
    "\n",
    "    X_residuum = X\n",
    "\n",
    "    X = keras.layers.Dense(width, activation='relu')(X)\n",
    "    X = keras.layers.Dense(width, activation='relu')(X)\n",
    "    X = keras.layers.Dense(width, activation='relu')(X)\n",
    "    X = keras.layers.Dense(width, activation='relu')(X)   \n",
    "#     X = keras.layers.Dense(width, activation='relu')(X)\n",
    "    # Final step: Add shortcut value to main path, and pass it through a RELU activation (≈2 lines)\n",
    "    X = keras.layers.Add()([X, X_residuum])\n",
    "    X = keras.layers.Activation('relu')(X)\n",
    "   \n",
    "    \"\"\"\n",
    "    X - tensor tvaru (batch,X)\n",
    "    \"\"\" \n",
    "#     print(X.shape)\n",
    "    return X"
   ]
  },
  {
   "cell_type": "markdown",
   "metadata": {},
   "source": [
    "Definovanie modelu Reziduálnej siete"
   ]
  },
  {
   "cell_type": "code",
   "execution_count": 7,
   "metadata": {},
   "outputs": [],
   "source": [
    "def Residual_model(input_shape=(25), classes=16):\n",
    "    \n",
    "    X_input = keras.Input(input_shape)\n",
    "    \n",
    "    X = keras.layers.Dense(256, activation='relu')(X_input)\n",
    "    X = keras.layers.Dense(128, activation='relu')(X)\n",
    "    X = dense_residual(X,128)\n",
    "    \n",
    "    X = keras.layers.Dropout(0.2)(X) \n",
    "    X = keras.layers.Dense(64, activation='relu')(X)\n",
    "    X = dense_residual(X,64)\n",
    "    \n",
    "    X = keras.layers.Dropout(0.2)(X) \n",
    "    X = keras.layers.Dense(32, activation='relu')(X)\n",
    "    X = dense_residual(X,32)\n",
    "\n",
    "    # output layer\n",
    "    X = keras.layers.Dense(classes, activation='softmax', name='fc' + str(classes))(X)\n",
    "    \n",
    "    # Create model\n",
    "    model = keras.models.Model(inputs = X_input, outputs = X, name='Residual_model')\n",
    "\n",
    "    return model"
   ]
  },
  {
   "cell_type": "markdown",
   "metadata": {},
   "source": [
    "Definovanie Baseline Modelu"
   ]
  },
  {
   "cell_type": "code",
   "execution_count": 89,
   "metadata": {},
   "outputs": [],
   "source": [
    "def Baseline_model(input_shape=(25), classes=16):\n",
    "\n",
    "    X_input = keras.Input(input_shape)    \n",
    "    X = keras.layers.Dense(256, activation='relu')(X_input)\n",
    "    X = keras.layers.Dense(128, activation='relu')(X)\n",
    "    X = keras.layers.Dense(64, activation='relu')(X)\n",
    "#     X = keras.layers.Dropout(0.2)(X) \n",
    "    X = keras.layers.Dense(32, activation='relu')(X)\n",
    "\n",
    "    # output layer\n",
    "    X = keras.layers.Dense(classes, activation='softmax', name='fc' + str(classes))(X)\n",
    "    \n",
    "    \n",
    "    # Create model\n",
    "    model = keras.models.Model(inputs = X_input, outputs = X, name='Baseline_model')\n",
    "\n",
    "    return model"
   ]
  },
  {
   "cell_type": "markdown",
   "metadata": {},
   "source": [
    "Trénovanie modelu"
   ]
  },
  {
   "cell_type": "code",
   "execution_count": 9,
   "metadata": {},
   "outputs": [
    {
     "name": "stdout",
     "output_type": "stream",
     "text": [
      "Train on 9013 samples, validate on 2253 samples\n",
      "Epoch 1/75\n",
      "9013/9013 [==============================] - 5s 503us/sample - loss: 3.5769 - sparse_categorical_accuracy: 0.0220 - val_loss: 3.2806 - val_sparse_categorical_accuracy: 0.0044\n",
      "Epoch 2/75\n",
      "9013/9013 [==============================] - 1s 121us/sample - loss: 3.2692 - sparse_categorical_accuracy: 0.0275 - val_loss: 3.0468 - val_sparse_categorical_accuracy: 0.0173\n",
      "Epoch 3/75\n",
      "9013/9013 [==============================] - 1s 101us/sample - loss: 3.0667 - sparse_categorical_accuracy: 0.0457 - val_loss: 2.9033 - val_sparse_categorical_accuracy: 0.0870\n",
      "Epoch 4/75\n",
      "9013/9013 [==============================] - 1s 95us/sample - loss: 2.9358 - sparse_categorical_accuracy: 0.0820 - val_loss: 2.8142 - val_sparse_categorical_accuracy: 0.1678\n",
      "Epoch 5/75\n",
      "9013/9013 [==============================] - 1s 93us/sample - loss: 2.8520 - sparse_categorical_accuracy: 0.1311 - val_loss: 2.7506 - val_sparse_categorical_accuracy: 0.2175\n",
      "Epoch 6/75\n",
      "9013/9013 [==============================] - 1s 95us/sample - loss: 2.7882 - sparse_categorical_accuracy: 0.1587 - val_loss: 2.7005 - val_sparse_categorical_accuracy: 0.2326\n",
      "Epoch 7/75\n",
      "9013/9013 [==============================] - 1s 154us/sample - loss: 2.7445 - sparse_categorical_accuracy: 0.1860 - val_loss: 2.6627 - val_sparse_categorical_accuracy: 0.2344\n",
      "Epoch 8/75\n",
      "9013/9013 [==============================] - 1s 99us/sample - loss: 2.7011 - sparse_categorical_accuracy: 0.1962 - val_loss: 2.6296 - val_sparse_categorical_accuracy: 0.2366\n",
      "Epoch 9/75\n",
      "9013/9013 [==============================] - 1s 103us/sample - loss: 2.6650 - sparse_categorical_accuracy: 0.2078 - val_loss: 2.5998 - val_sparse_categorical_accuracy: 0.2375\n",
      "Epoch 10/75\n",
      "9013/9013 [==============================] - 1s 111us/sample - loss: 2.6406 - sparse_categorical_accuracy: 0.2132 - val_loss: 2.5746 - val_sparse_categorical_accuracy: 0.2379\n",
      "Epoch 11/75\n",
      "9013/9013 [==============================] - 1s 98us/sample - loss: 2.6092 - sparse_categorical_accuracy: 0.2170 - val_loss: 2.5506 - val_sparse_categorical_accuracy: 0.2379\n",
      "Epoch 12/75\n",
      "9013/9013 [==============================] - 1s 94us/sample - loss: 2.5888 - sparse_categorical_accuracy: 0.2184 - val_loss: 2.5288 - val_sparse_categorical_accuracy: 0.2379\n",
      "Epoch 13/75\n",
      "9013/9013 [==============================] - 1s 112us/sample - loss: 2.5640 - sparse_categorical_accuracy: 0.2200 - val_loss: 2.5092 - val_sparse_categorical_accuracy: 0.2379\n",
      "Epoch 14/75\n",
      "9013/9013 [==============================] - 1s 145us/sample - loss: 2.5514 - sparse_categorical_accuracy: 0.2208 - val_loss: 2.4907 - val_sparse_categorical_accuracy: 0.2379\n",
      "Epoch 15/75\n",
      "9013/9013 [==============================] - 1s 114us/sample - loss: 2.5339 - sparse_categorical_accuracy: 0.2241 - val_loss: 2.4744 - val_sparse_categorical_accuracy: 0.2379\n",
      "Epoch 16/75\n",
      "9013/9013 [==============================] - 1s 99us/sample - loss: 2.5188 - sparse_categorical_accuracy: 0.2227 - val_loss: 2.4589 - val_sparse_categorical_accuracy: 0.2379\n",
      "Epoch 17/75\n",
      "9013/9013 [==============================] - 1s 100us/sample - loss: 2.5041 - sparse_categorical_accuracy: 0.2246 - val_loss: 2.4440 - val_sparse_categorical_accuracy: 0.2383\n",
      "Epoch 18/75\n",
      "9013/9013 [==============================] - 1s 97us/sample - loss: 2.4857 - sparse_categorical_accuracy: 0.2274 - val_loss: 2.4295 - val_sparse_categorical_accuracy: 0.2383\n",
      "Epoch 19/75\n",
      "9013/9013 [==============================] - 1s 116us/sample - loss: 2.4760 - sparse_categorical_accuracy: 0.2233 - val_loss: 2.4164 - val_sparse_categorical_accuracy: 0.2383\n",
      "Epoch 20/75\n",
      "9013/9013 [==============================] - 1s 138us/sample - loss: 2.4626 - sparse_categorical_accuracy: 0.2210 - val_loss: 2.4037 - val_sparse_categorical_accuracy: 0.2375\n",
      "Epoch 21/75\n",
      "9013/9013 [==============================] - 1s 105us/sample - loss: 2.4486 - sparse_categorical_accuracy: 0.2229 - val_loss: 2.3913 - val_sparse_categorical_accuracy: 0.2370\n",
      "Epoch 22/75\n",
      "9013/9013 [==============================] - 1s 106us/sample - loss: 2.4378 - sparse_categorical_accuracy: 0.2179 - val_loss: 2.3801 - val_sparse_categorical_accuracy: 0.2366\n",
      "Epoch 23/75\n",
      "9013/9013 [==============================] - 1s 103us/sample - loss: 2.4290 - sparse_categorical_accuracy: 0.2155 - val_loss: 2.3688 - val_sparse_categorical_accuracy: 0.2379\n",
      "Epoch 24/75\n",
      "9013/9013 [==============================] - 1s 164us/sample - loss: 2.4210 - sparse_categorical_accuracy: 0.2197 - val_loss: 2.3583 - val_sparse_categorical_accuracy: 0.2379\n",
      "Epoch 25/75\n",
      "9013/9013 [==============================] - 1s 162us/sample - loss: 2.4014 - sparse_categorical_accuracy: 0.2177 - val_loss: 2.3470 - val_sparse_categorical_accuracy: 0.2361\n",
      "Epoch 26/75\n",
      "9013/9013 [==============================] - 1s 104us/sample - loss: 2.3990 - sparse_categorical_accuracy: 0.2162 - val_loss: 2.3368 - val_sparse_categorical_accuracy: 0.2366\n",
      "Epoch 27/75\n",
      "9013/9013 [==============================] - 1s 112us/sample - loss: 2.3815 - sparse_categorical_accuracy: 0.2241 - val_loss: 2.3272 - val_sparse_categorical_accuracy: 0.2335\n",
      "Epoch 28/75\n",
      "9013/9013 [==============================] - 1s 102us/sample - loss: 2.3797 - sparse_categorical_accuracy: 0.2166 - val_loss: 2.3185 - val_sparse_categorical_accuracy: 0.2317\n",
      "Epoch 29/75\n",
      "9013/9013 [==============================] - 1s 107us/sample - loss: 2.3715 - sparse_categorical_accuracy: 0.2160 - val_loss: 2.3102 - val_sparse_categorical_accuracy: 0.2281\n",
      "Epoch 30/75\n",
      "9013/9013 [==============================] - 1s 107us/sample - loss: 2.3514 - sparse_categorical_accuracy: 0.2205 - val_loss: 2.3006 - val_sparse_categorical_accuracy: 0.2281\n",
      "Epoch 31/75\n",
      "9013/9013 [==============================] - 1s 154us/sample - loss: 2.3538 - sparse_categorical_accuracy: 0.2170 - val_loss: 2.2934 - val_sparse_categorical_accuracy: 0.2268\n",
      "Epoch 32/75\n",
      "9013/9013 [==============================] - 1s 127us/sample - loss: 2.3449 - sparse_categorical_accuracy: 0.2120 - val_loss: 2.2855 - val_sparse_categorical_accuracy: 0.2206\n",
      "Epoch 33/75\n",
      "9013/9013 [==============================] - 1s 98us/sample - loss: 2.3299 - sparse_categorical_accuracy: 0.2220 - val_loss: 2.2770 - val_sparse_categorical_accuracy: 0.2210\n",
      "Epoch 34/75\n",
      "9013/9013 [==============================] - 1s 85us/sample - loss: 2.3247 - sparse_categorical_accuracy: 0.2207 - val_loss: 2.2701 - val_sparse_categorical_accuracy: 0.2188\n",
      "Epoch 35/75\n",
      "9013/9013 [==============================] - 1s 96us/sample - loss: 2.3192 - sparse_categorical_accuracy: 0.2218 - val_loss: 2.2622 - val_sparse_categorical_accuracy: 0.2179\n",
      "Epoch 36/75\n",
      "9013/9013 [==============================] - 1s 89us/sample - loss: 2.3029 - sparse_categorical_accuracy: 0.2166 - val_loss: 2.2551 - val_sparse_categorical_accuracy: 0.2170\n",
      "Epoch 37/75\n",
      "9013/9013 [==============================] - 1s 103us/sample - loss: 2.3066 - sparse_categorical_accuracy: 0.2146 - val_loss: 2.2490 - val_sparse_categorical_accuracy: 0.2117\n",
      "Epoch 38/75\n",
      "9013/9013 [==============================] - 1s 107us/sample - loss: 2.2918 - sparse_categorical_accuracy: 0.2210 - val_loss: 2.2420 - val_sparse_categorical_accuracy: 0.2170\n",
      "Epoch 39/75\n",
      "9013/9013 [==============================] - 1s 83us/sample - loss: 2.2900 - sparse_categorical_accuracy: 0.2181 - val_loss: 2.2347 - val_sparse_categorical_accuracy: 0.2117\n",
      "Epoch 40/75\n",
      "9013/9013 [==============================] - 1s 86us/sample - loss: 2.2826 - sparse_categorical_accuracy: 0.2199 - val_loss: 2.2282 - val_sparse_categorical_accuracy: 0.2091\n",
      "Epoch 41/75\n",
      "9013/9013 [==============================] - 1s 85us/sample - loss: 2.2810 - sparse_categorical_accuracy: 0.2160 - val_loss: 2.2236 - val_sparse_categorical_accuracy: 0.2095\n",
      "Epoch 42/75\n",
      "9013/9013 [==============================] - 1s 80us/sample - loss: 2.2661 - sparse_categorical_accuracy: 0.2219 - val_loss: 2.2168 - val_sparse_categorical_accuracy: 0.2130\n",
      "Epoch 43/75\n",
      "9013/9013 [==============================] - 1s 82us/sample - loss: 2.2597 - sparse_categorical_accuracy: 0.2242 - val_loss: 2.2107 - val_sparse_categorical_accuracy: 0.2108\n",
      "Epoch 44/75\n",
      "9013/9013 [==============================] - 1s 80us/sample - loss: 2.2573 - sparse_categorical_accuracy: 0.2205 - val_loss: 2.2056 - val_sparse_categorical_accuracy: 0.2113\n"
     ]
    },
    {
     "name": "stdout",
     "output_type": "stream",
     "text": [
      "Epoch 45/75\n",
      "9013/9013 [==============================] - 1s 111us/sample - loss: 2.2558 - sparse_categorical_accuracy: 0.2203 - val_loss: 2.1998 - val_sparse_categorical_accuracy: 0.2099\n",
      "Epoch 46/75\n",
      "9013/9013 [==============================] - 1s 87us/sample - loss: 2.2531 - sparse_categorical_accuracy: 0.2140 - val_loss: 2.1956 - val_sparse_categorical_accuracy: 0.2082\n",
      "Epoch 47/75\n",
      "9013/9013 [==============================] - 1s 79us/sample - loss: 2.2505 - sparse_categorical_accuracy: 0.2202 - val_loss: 2.1914 - val_sparse_categorical_accuracy: 0.2104\n",
      "Epoch 48/75\n",
      "9013/9013 [==============================] - 1s 89us/sample - loss: 2.2447 - sparse_categorical_accuracy: 0.2262 - val_loss: 2.1871 - val_sparse_categorical_accuracy: 0.2122\n",
      "Epoch 49/75\n",
      "9013/9013 [==============================] - 1s 79us/sample - loss: 2.2408 - sparse_categorical_accuracy: 0.2237 - val_loss: 2.1835 - val_sparse_categorical_accuracy: 0.2117\n",
      "Epoch 50/75\n",
      "9013/9013 [==============================] - 1s 83us/sample - loss: 2.2251 - sparse_categorical_accuracy: 0.2317 - val_loss: 2.1780 - val_sparse_categorical_accuracy: 0.2117\n",
      "Epoch 51/75\n",
      "9013/9013 [==============================] - 1s 80us/sample - loss: 2.2313 - sparse_categorical_accuracy: 0.2251 - val_loss: 2.1749 - val_sparse_categorical_accuracy: 0.2135\n",
      "Epoch 52/75\n",
      "9013/9013 [==============================] - 1s 82us/sample - loss: 2.2229 - sparse_categorical_accuracy: 0.2266 - val_loss: 2.1715 - val_sparse_categorical_accuracy: 0.2091\n",
      "Epoch 53/75\n",
      "9013/9013 [==============================] - 1s 120us/sample - loss: 2.2264 - sparse_categorical_accuracy: 0.2202 - val_loss: 2.1686 - val_sparse_categorical_accuracy: 0.2108\n",
      "Epoch 54/75\n",
      "9013/9013 [==============================] - 1s 87us/sample - loss: 2.2216 - sparse_categorical_accuracy: 0.2196 - val_loss: 2.1652 - val_sparse_categorical_accuracy: 0.2166\n",
      "Epoch 55/75\n",
      "9013/9013 [==============================] - 1s 83us/sample - loss: 2.2126 - sparse_categorical_accuracy: 0.2288 - val_loss: 2.1623 - val_sparse_categorical_accuracy: 0.2130\n",
      "Epoch 56/75\n",
      "9013/9013 [==============================] - 1s 88us/sample - loss: 2.2161 - sparse_categorical_accuracy: 0.2228 - val_loss: 2.1596 - val_sparse_categorical_accuracy: 0.2228\n",
      "Epoch 57/75\n",
      "9013/9013 [==============================] - 1s 91us/sample - loss: 2.2124 - sparse_categorical_accuracy: 0.2241 - val_loss: 2.1570 - val_sparse_categorical_accuracy: 0.2215\n",
      "Epoch 58/75\n",
      "9013/9013 [==============================] - 1s 88us/sample - loss: 2.2099 - sparse_categorical_accuracy: 0.2268 - val_loss: 2.1550 - val_sparse_categorical_accuracy: 0.2259\n",
      "Epoch 59/75\n",
      "9013/9013 [==============================] - 1s 79us/sample - loss: 2.2092 - sparse_categorical_accuracy: 0.2276 - val_loss: 2.1524 - val_sparse_categorical_accuracy: 0.2312\n",
      "Epoch 60/75\n",
      "9013/9013 [==============================] - 1s 132us/sample - loss: 2.2059 - sparse_categorical_accuracy: 0.2281 - val_loss: 2.1514 - val_sparse_categorical_accuracy: 0.2321\n",
      "Epoch 61/75\n",
      "9013/9013 [==============================] - 1s 106us/sample - loss: 2.1938 - sparse_categorical_accuracy: 0.2316 - val_loss: 2.1482 - val_sparse_categorical_accuracy: 0.2326\n",
      "Epoch 62/75\n",
      "9013/9013 [==============================] - 1s 82us/sample - loss: 2.1971 - sparse_categorical_accuracy: 0.2294 - val_loss: 2.1465 - val_sparse_categorical_accuracy: 0.2344\n",
      "Epoch 63/75\n",
      "9013/9013 [==============================] - 1s 135us/sample - loss: 2.1956 - sparse_categorical_accuracy: 0.2270 - val_loss: 2.1446 - val_sparse_categorical_accuracy: 0.2335\n",
      "Epoch 64/75\n",
      "9013/9013 [==============================] - 1s 117us/sample - loss: 2.1978 - sparse_categorical_accuracy: 0.2293 - val_loss: 2.1436 - val_sparse_categorical_accuracy: 0.2321\n",
      "Epoch 65/75\n",
      "9013/9013 [==============================] - 1s 83us/sample - loss: 2.1901 - sparse_categorical_accuracy: 0.2318 - val_loss: 2.1419 - val_sparse_categorical_accuracy: 0.2326\n",
      "Epoch 66/75\n",
      "9013/9013 [==============================] - 1s 104us/sample - loss: 2.1859 - sparse_categorical_accuracy: 0.2317 - val_loss: 2.1407 - val_sparse_categorical_accuracy: 0.2339\n",
      "Epoch 67/75\n",
      "9013/9013 [==============================] - 1s 97us/sample - loss: 2.1864 - sparse_categorical_accuracy: 0.2353 - val_loss: 2.1397 - val_sparse_categorical_accuracy: 0.2339\n",
      "Epoch 68/75\n",
      "9013/9013 [==============================] - 1s 118us/sample - loss: 2.1894 - sparse_categorical_accuracy: 0.2271 - val_loss: 2.1380 - val_sparse_categorical_accuracy: 0.2366\n",
      "Epoch 69/75\n",
      "9013/9013 [==============================] - 2s 182us/sample - loss: 2.1874 - sparse_categorical_accuracy: 0.2326 - val_loss: 2.1378 - val_sparse_categorical_accuracy: 0.2375\n",
      "Epoch 70/75\n",
      "9013/9013 [==============================] - 1s 83us/sample - loss: 2.1816 - sparse_categorical_accuracy: 0.2357 - val_loss: 2.1366 - val_sparse_categorical_accuracy: 0.2366\n",
      "Epoch 71/75\n",
      "9013/9013 [==============================] - 1s 85us/sample - loss: 2.1828 - sparse_categorical_accuracy: 0.2393 - val_loss: 2.1355 - val_sparse_categorical_accuracy: 0.2375\n",
      "Epoch 72/75\n",
      "9013/9013 [==============================] - 1s 124us/sample - loss: 2.1793 - sparse_categorical_accuracy: 0.2357 - val_loss: 2.1340 - val_sparse_categorical_accuracy: 0.2357\n",
      "Epoch 73/75\n",
      "9013/9013 [==============================] - 1s 107us/sample - loss: 2.1832 - sparse_categorical_accuracy: 0.2319 - val_loss: 2.1337 - val_sparse_categorical_accuracy: 0.2357\n",
      "Epoch 74/75\n",
      "9013/9013 [==============================] - 1s 84us/sample - loss: 2.1777 - sparse_categorical_accuracy: 0.2332 - val_loss: 2.1331 - val_sparse_categorical_accuracy: 0.2352\n",
      "Epoch 75/75\n",
      "9013/9013 [==============================] - 1s 84us/sample - loss: 2.1789 - sparse_categorical_accuracy: 0.2317 - val_loss: 2.1327 - val_sparse_categorical_accuracy: 0.2361\n"
     ]
    }
   ],
   "source": [
    "# model = Baseline_model(input_shape = trainx.shape[1:], classes = 18)\n",
    "model = Residual_model(input_shape = trainx.shape[1:], classes = 18)\n",
    "\n",
    "model.compile(loss='sparse_categorical_crossentropy',  \n",
    "              optimizer=keras.optimizers.SGD(lr=0.005),\n",
    "#               optimizer=keras.optimizers.Adam(learning_rate=0.0001, beta_1=0.9, beta_2=0.999, amsgrad=False),\n",
    "#               optimizer=keras.optimizers.RMSprop(learning_rate=0.00001),\n",
    "              metrics=['sparse_categorical_accuracy'])\n",
    "\n",
    "history = model.fit(trainx, trainy,\n",
    "          validation_data=(testx, testy),\n",
    "          shuffle=True,\n",
    "          batch_size=128,\n",
    "          epochs=75,\n",
    "          callbacks = [keras.callbacks.TensorBoard(\n",
    "              log_dir=os.path.join(\"./../../logs\", logName('B-5', 'none' , 'RMS-0.00001', 128)),\n",
    "              histogram_freq=1)],\n",
    "          verbose=1);"
   ]
  },
  {
   "cell_type": "code",
   "execution_count": 95,
   "metadata": {},
   "outputs": [],
   "source": [
    "values = model.predict(testx[:20])"
   ]
  },
  {
   "cell_type": "code",
   "execution_count": 96,
   "metadata": {},
   "outputs": [
    {
     "name": "stdout",
     "output_type": "stream",
     "text": [
      "[3 6 4 5 5 7 7 5 5 3 9 5 5 9 3 5 6 4 9 3]\n"
     ]
    }
   ],
   "source": [
    "print(np.argmax(values,axis=1))"
   ]
  },
  {
   "cell_type": "code",
   "execution_count": 63,
   "metadata": {},
   "outputs": [
    {
     "data": {
      "text/plain": [
       "array([ 7.,  3.,  5.,  7.,  6.,  4.,  8.,  7.,  8.,  2.,  3.,  7.,  9.,\n",
       "        9.,  7., 10.,  5.,  7.,  8.,  1.])"
      ]
     },
     "execution_count": 63,
     "metadata": {},
     "output_type": "execute_result"
    }
   ],
   "source": [
    "testy[:20]"
   ]
  },
  {
   "cell_type": "code",
   "execution_count": 2,
   "metadata": {},
   "outputs": [
    {
     "data": {
      "text/html": [
       "\n",
       "      <iframe id=\"tensorboard-frame-41f3167ea05c76d0\" width=\"100%\" height=\"800\" frameborder=\"0\">\n",
       "      </iframe>\n",
       "      <script>\n",
       "        (function() {\n",
       "          const frame = document.getElementById(\"tensorboard-frame-41f3167ea05c76d0\");\n",
       "          const url = new URL(\"/\", window.location);\n",
       "          url.port = 6006;\n",
       "          frame.src = url;\n",
       "        })();\n",
       "      </script>\n",
       "  "
      ],
      "text/plain": [
       "<IPython.core.display.HTML object>"
      ]
     },
     "metadata": {},
     "output_type": "display_data"
    }
   ],
   "source": [
    " %tensorboard --logdir=./../../logs --bind_all"
   ]
  }
 ],
 "metadata": {
  "kernelspec": {
   "display_name": "Python 3",
   "language": "python",
   "name": "python3"
  },
  "language_info": {
   "codemirror_mode": {
    "name": "ipython",
    "version": 3
   },
   "file_extension": ".py",
   "mimetype": "text/x-python",
   "name": "python",
   "nbconvert_exporter": "python",
   "pygments_lexer": "ipython3",
   "version": "3.6.8"
  }
 },
 "nbformat": 4,
 "nbformat_minor": 4
}
