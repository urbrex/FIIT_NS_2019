{
 "cells": [
  {
   "cell_type": "markdown",
   "metadata": {},
   "source": [
    "# Neural network model"
   ]
  },
  {
   "cell_type": "markdown",
   "metadata": {},
   "source": [
    "Ako baseline model sme použili regresnú neurónovú sieť, skladajúcu sa zo 4 DENSE vrstiev(16-8-4-4) s aktivačnou funkciou RELU. Po vytvorení tohto modelu sme sa rozhodli vytvoriť iný baseline model, keďže výsledky pôvodne plánovaného modelu sme vyhodnotili ako nedostačné."
   ]
  },
  {
   "cell_type": "code",
   "execution_count": 1,
   "metadata": {},
   "outputs": [],
   "source": [
    "%load_ext autoreload\n",
    "%autoreload 2\n",
    "\n",
    "%load_ext tensorboard\n",
    "\n",
    "import datetime\n",
    "import os\n",
    "import sys\n",
    "sys.path.append('..')\n",
    "\n",
    "import tensorflow as tf\n",
    "import tensorflow.keras as keras\n",
    "import numpy as np\n",
    "from matplotlib import pyplot\n"
   ]
  },
  {
   "cell_type": "code",
   "execution_count": 2,
   "metadata": {},
   "outputs": [],
   "source": [
    "def timestamp():\n",
    "    return datetime.datetime.now().strftime(\"%Y%m%d-%H%M%S\")\n",
    "def logName(string=0,dropout=1,lr=0.1,batch=64):\n",
    "    return string + 'dropout_' + str(dropout) + 'lr' + str(lr) + 'batch' + str(batch) + '__' +timestamp()"
   ]
  },
  {
   "cell_type": "markdown",
   "metadata": {},
   "source": [
    "Načítanie hodnôt z vopred pripraveného datasetu 1."
   ]
  },
  {
   "cell_type": "code",
   "execution_count": 77,
   "metadata": {},
   "outputs": [],
   "source": [
    "testx = np.genfromtxt('./../../data/processed/dataSet1TestX1.csv', delimiter=',')[1:]\n",
    "testy = np.genfromtxt('./../../data/processed/dataSet1TestY1.csv', delimiter=',')\n",
    "\n",
    "trainx = np.genfromtxt('./../../data/processed/dataSet1TrainX1.csv', delimiter=',')[1:]\n",
    "trainy = np.genfromtxt('./../../data/processed/dataSet1TrainY1.csv', delimiter=',')"
   ]
  },
  {
   "cell_type": "markdown",
   "metadata": {},
   "source": [
    "Načítanie hodnôt z vopred pripraveného datasetu 2."
   ]
  },
  {
   "cell_type": "code",
   "execution_count": 79,
   "metadata": {},
   "outputs": [],
   "source": [
    "testx = np.genfromtxt('./../../data/processed/dataSet2TestX.csv', delimiter=',')[1:]\n",
    "testy = np.genfromtxt('./../../data/processed/dataSet2TestY.csv', delimiter=',')\n",
    "\n",
    "trainx = np.genfromtxt('./../../data/processed/dataSet2TrainX.csv', delimiter=',')[1:]\n",
    "trainy = np.genfromtxt('./../../data/processed/dataSet2TrainY.csv', delimiter=',')"
   ]
  },
  {
   "cell_type": "markdown",
   "metadata": {},
   "source": [
    "Načítanie hodnôt z vopred pripraveného datasetu 3."
   ]
  },
  {
   "cell_type": "code",
   "execution_count": 82,
   "metadata": {},
   "outputs": [],
   "source": [
    "testx = np.genfromtxt('./../../data/processed/dataSet3TestX.csv', delimiter=',')[1:]\n",
    "testy = np.genfromtxt('./../../data/processed/dataSet3TestY.csv', delimiter=',')\n",
    "\n",
    "trainx = np.genfromtxt('./../../data/processed/dataSet3TrainX.csv', delimiter=',')[1:]\n",
    "trainy = np.genfromtxt('./../../data/processed/dataSet3TrainY.csv', delimiter=',')"
   ]
  },
  {
   "cell_type": "code",
   "execution_count": 84,
   "metadata": {},
   "outputs": [],
   "source": [
    "testx = np.genfromtxt('./../../data/processed/dataSet4TestX.csv', delimiter=',')[1:]\n",
    "testy = np.genfromtxt('./../../data/processed/dataSet4TestY.csv', delimiter=',')\n",
    "\n",
    "trainx = np.genfromtxt('./../../data/processed/dataSet4TrainX.csv', delimiter=',')[1:]\n",
    "trainy = np.genfromtxt('./../../data/processed/dataSet4TrainY.csv', delimiter=',')"
   ]
  },
  {
   "cell_type": "code",
   "execution_count": 86,
   "metadata": {},
   "outputs": [],
   "source": [
    "testx = np.genfromtxt('./../../data/processed/dataSet5TestX.csv', delimiter=',')[1:]\n",
    "testy = np.genfromtxt('./../../data/processed/dataSet5TestY.csv', delimiter=',')[1:]\n",
    "\n",
    "trainx = np.genfromtxt('./../../data/processed/dataSet5TrainX.csv', delimiter=',')[1:]\n",
    "trainy = np.genfromtxt('./../../data/processed/dataSet5TrainY.csv', delimiter=',')[1:]"
   ]
  },
  {
   "cell_type": "markdown",
   "metadata": {},
   "source": [
    "Prvý model s  DENSE vrstvami."
   ]
  },
  {
   "cell_type": "code",
   "execution_count": 4,
   "metadata": {},
   "outputs": [],
   "source": [
    "def dense_residual(X,width):\n",
    "\n",
    "    X_residuum = X\n",
    "\n",
    "    X = keras.layers.Dense(width, activation='relu')(X)\n",
    "    X = keras.layers.Dense(width, activation='relu')(X)\n",
    "    X = keras.layers.Dense(width, activation='relu')(X)\n",
    "    X = keras.layers.Dense(width, activation='relu')(X)   \n",
    "#     X = keras.layers.Dense(width, activation='relu')(X)\n",
    "    # Final step: Add shortcut value to main path, and pass it through a RELU activation (≈2 lines)\n",
    "    X = keras.layers.Add()([X, X_residuum])\n",
    "    X = keras.layers.Activation('relu')(X)\n",
    "   \n",
    "    \"\"\"\n",
    "    X - tensor tvaru (batch,X)\n",
    "    \"\"\" \n",
    "#     print(X.shape)\n",
    "    return X"
   ]
  },
  {
   "cell_type": "code",
   "execution_count": 35,
   "metadata": {},
   "outputs": [],
   "source": [
    "def Residual_model(input_shape=(25), classes=16):\n",
    "    \n",
    "    X_input = keras.Input(input_shape)\n",
    "    \n",
    "    X = keras.layers.Dense(256, activation='relu')(X_input)\n",
    "    X = keras.layers.Dense(128, activation='relu')(X)\n",
    "    X = dense_residual(X,128)\n",
    "    \n",
    "    X = keras.layers.Dropout(0.2)(X) \n",
    "    X = keras.layers.Dense(64, activation='relu')(X)\n",
    "    X = dense_residual(X,64)\n",
    "    \n",
    "    X = keras.layers.Dropout(0.2)(X) \n",
    "    X = keras.layers.Dense(32, activation='relu')(X)\n",
    "    X = dense_residual(X,32)\n",
    "\n",
    "    # output layer\n",
    "    X = keras.layers.Dense(classes, activation='softmax', name='fc' + str(classes))(X)\n",
    "    \n",
    "    # Create model\n",
    "    model = keras.models.Model(inputs = X_input, outputs = X, name='Residual_model')\n",
    "\n",
    "    return model"
   ]
  },
  {
   "cell_type": "code",
   "execution_count": 89,
   "metadata": {},
   "outputs": [],
   "source": [
    "def Baseline_model(input_shape=(25), classes=16):\n",
    "\n",
    "    X_input = keras.Input(input_shape)    \n",
    "    X = keras.layers.Dense(256, activation='relu')(X_input)\n",
    "    X = keras.layers.Dense(128, activation='relu')(X)\n",
    "    X = keras.layers.Dense(64, activation='relu')(X)\n",
    "#     X = keras.layers.Dropout(0.2)(X) \n",
    "    X = keras.layers.Dense(32, activation='relu')(X)\n",
    "\n",
    "    # output layer\n",
    "    X = keras.layers.Dense(classes, activation='softmax', name='fc' + str(classes))(X)\n",
    "    \n",
    "    \n",
    "    # Create model\n",
    "    model = keras.models.Model(inputs = X_input, outputs = X, name='Baseline_model')\n",
    "\n",
    "    return model"
   ]
  },
  {
   "cell_type": "code",
   "execution_count": 93,
   "metadata": {},
   "outputs": [
    {
     "name": "stdout",
     "output_type": "stream",
     "text": [
      "Train on 9013 samples, validate on 2253 samples\n",
      "Epoch 1/75\n",
      "9013/9013 [==============================] - 1s 112us/sample - loss: 2.8188 - sparse_categorical_accuracy: 0.0900 - val_loss: 2.7818 - val_sparse_categorical_accuracy: 0.1292\n",
      "Epoch 2/75\n",
      "9013/9013 [==============================] - 0s 38us/sample - loss: 2.7433 - sparse_categorical_accuracy: 0.1641 - val_loss: 2.7002 - val_sparse_categorical_accuracy: 0.2188\n",
      "Epoch 3/75\n",
      "9013/9013 [==============================] - 0s 38us/sample - loss: 2.6665 - sparse_categorical_accuracy: 0.2215 - val_loss: 2.6261 - val_sparse_categorical_accuracy: 0.2521\n",
      "Epoch 4/75\n",
      "9013/9013 [==============================] - 0s 40us/sample - loss: 2.6060 - sparse_categorical_accuracy: 0.2350 - val_loss: 2.5715 - val_sparse_categorical_accuracy: 0.2552\n",
      "Epoch 5/75\n",
      "9013/9013 [==============================] - 0s 42us/sample - loss: 2.5617 - sparse_categorical_accuracy: 0.2390 - val_loss: 2.5311 - val_sparse_categorical_accuracy: 0.2534\n",
      "Epoch 6/75\n",
      "9013/9013 [==============================] - 0s 37us/sample - loss: 2.5271 - sparse_categorical_accuracy: 0.2398 - val_loss: 2.4989 - val_sparse_categorical_accuracy: 0.2539\n",
      "Epoch 7/75\n",
      "9013/9013 [==============================] - 0s 38us/sample - loss: 2.4997 - sparse_categorical_accuracy: 0.2391 - val_loss: 2.4735 - val_sparse_categorical_accuracy: 0.2565\n",
      "Epoch 8/75\n",
      "9013/9013 [==============================] - 0s 36us/sample - loss: 2.4777 - sparse_categorical_accuracy: 0.2409 - val_loss: 2.4527 - val_sparse_categorical_accuracy: 0.2570\n",
      "Epoch 9/75\n",
      "9013/9013 [==============================] - 0s 34us/sample - loss: 2.4591 - sparse_categorical_accuracy: 0.2414 - val_loss: 2.4352 - val_sparse_categorical_accuracy: 0.2574\n",
      "Epoch 10/75\n",
      "9013/9013 [==============================] - 0s 33us/sample - loss: 2.4435 - sparse_categorical_accuracy: 0.2407 - val_loss: 2.4204 - val_sparse_categorical_accuracy: 0.2579\n",
      "Epoch 11/75\n",
      "9013/9013 [==============================] - 0s 33us/sample - loss: 2.4299 - sparse_categorical_accuracy: 0.2413 - val_loss: 2.4071 - val_sparse_categorical_accuracy: 0.2579\n",
      "Epoch 12/75\n",
      "9013/9013 [==============================] - 0s 34us/sample - loss: 2.4173 - sparse_categorical_accuracy: 0.2411 - val_loss: 2.3950 - val_sparse_categorical_accuracy: 0.2579\n",
      "Epoch 13/75\n",
      "9013/9013 [==============================] - 0s 33us/sample - loss: 2.4055 - sparse_categorical_accuracy: 0.2414 - val_loss: 2.3842 - val_sparse_categorical_accuracy: 0.2583\n",
      "Epoch 14/75\n",
      "9013/9013 [==============================] - 0s 32us/sample - loss: 2.3944 - sparse_categorical_accuracy: 0.2415 - val_loss: 2.3739 - val_sparse_categorical_accuracy: 0.2588\n",
      "Epoch 15/75\n",
      "9013/9013 [==============================] - 0s 48us/sample - loss: 2.3836 - sparse_categorical_accuracy: 0.2419 - val_loss: 2.3639 - val_sparse_categorical_accuracy: 0.2588\n",
      "Epoch 16/75\n",
      "9013/9013 [==============================] - 0s 34us/sample - loss: 2.3733 - sparse_categorical_accuracy: 0.2413 - val_loss: 2.3546 - val_sparse_categorical_accuracy: 0.2597\n",
      "Epoch 17/75\n",
      "9013/9013 [==============================] - 0s 42us/sample - loss: 2.3634 - sparse_categorical_accuracy: 0.2411 - val_loss: 2.3455 - val_sparse_categorical_accuracy: 0.2592\n",
      "Epoch 18/75\n",
      "9013/9013 [==============================] - 0s 43us/sample - loss: 2.3539 - sparse_categorical_accuracy: 0.2418 - val_loss: 2.3370 - val_sparse_categorical_accuracy: 0.2592\n",
      "Epoch 19/75\n",
      "9013/9013 [==============================] - 0s 38us/sample - loss: 2.3447 - sparse_categorical_accuracy: 0.2418 - val_loss: 2.3290 - val_sparse_categorical_accuracy: 0.2592\n",
      "Epoch 20/75\n",
      "9013/9013 [==============================] - 0s 37us/sample - loss: 2.3358 - sparse_categorical_accuracy: 0.2419 - val_loss: 2.3210 - val_sparse_categorical_accuracy: 0.2592\n",
      "Epoch 21/75\n",
      "9013/9013 [==============================] - 0s 34us/sample - loss: 2.3272 - sparse_categorical_accuracy: 0.2419 - val_loss: 2.3136 - val_sparse_categorical_accuracy: 0.2592\n",
      "Epoch 22/75\n",
      "9013/9013 [==============================] - 0s 48us/sample - loss: 2.3191 - sparse_categorical_accuracy: 0.2421 - val_loss: 2.3067 - val_sparse_categorical_accuracy: 0.2592\n",
      "Epoch 23/75\n",
      "9013/9013 [==============================] - 0s 35us/sample - loss: 2.3114 - sparse_categorical_accuracy: 0.2414 - val_loss: 2.2998 - val_sparse_categorical_accuracy: 0.2592\n",
      "Epoch 24/75\n",
      "9013/9013 [==============================] - 0s 34us/sample - loss: 2.3040 - sparse_categorical_accuracy: 0.2414 - val_loss: 2.2934 - val_sparse_categorical_accuracy: 0.2592\n",
      "Epoch 25/75\n",
      "9013/9013 [==============================] - 0s 39us/sample - loss: 2.2969 - sparse_categorical_accuracy: 0.2415 - val_loss: 2.2867 - val_sparse_categorical_accuracy: 0.2592\n",
      "Epoch 26/75\n",
      "9013/9013 [==============================] - 0s 36us/sample - loss: 2.2902 - sparse_categorical_accuracy: 0.2419 - val_loss: 2.2806 - val_sparse_categorical_accuracy: 0.2592\n",
      "Epoch 27/75\n",
      "9013/9013 [==============================] - 0s 34us/sample - loss: 2.2838 - sparse_categorical_accuracy: 0.2420 - val_loss: 2.2749 - val_sparse_categorical_accuracy: 0.2592\n",
      "Epoch 28/75\n",
      "9013/9013 [==============================] - 0s 36us/sample - loss: 2.2777 - sparse_categorical_accuracy: 0.2423 - val_loss: 2.2693 - val_sparse_categorical_accuracy: 0.2597\n",
      "Epoch 29/75\n",
      "9013/9013 [==============================] - 0s 37us/sample - loss: 2.2720 - sparse_categorical_accuracy: 0.2422 - val_loss: 2.2641 - val_sparse_categorical_accuracy: 0.2597\n",
      "Epoch 30/75\n",
      "9013/9013 [==============================] - 0s 42us/sample - loss: 2.2664 - sparse_categorical_accuracy: 0.2424 - val_loss: 2.2593 - val_sparse_categorical_accuracy: 0.2597\n",
      "Epoch 31/75\n",
      "9013/9013 [==============================] - 0s 40us/sample - loss: 2.2612 - sparse_categorical_accuracy: 0.2422 - val_loss: 2.2547 - val_sparse_categorical_accuracy: 0.2597\n",
      "Epoch 32/75\n",
      "9013/9013 [==============================] - 0s 49us/sample - loss: 2.2562 - sparse_categorical_accuracy: 0.2422 - val_loss: 2.2503 - val_sparse_categorical_accuracy: 0.2597\n",
      "Epoch 33/75\n",
      "9013/9013 [==============================] - 0s 38us/sample - loss: 2.2512 - sparse_categorical_accuracy: 0.2424 - val_loss: 2.2460 - val_sparse_categorical_accuracy: 0.2597\n",
      "Epoch 34/75\n",
      "9013/9013 [==============================] - 0s 44us/sample - loss: 2.2464 - sparse_categorical_accuracy: 0.2421 - val_loss: 2.2418 - val_sparse_categorical_accuracy: 0.2592\n",
      "Epoch 35/75\n",
      "9013/9013 [==============================] - 0s 33us/sample - loss: 2.2418 - sparse_categorical_accuracy: 0.2423 - val_loss: 2.2379 - val_sparse_categorical_accuracy: 0.2597\n",
      "Epoch 36/75\n",
      "9013/9013 [==============================] - 0s 34us/sample - loss: 2.2372 - sparse_categorical_accuracy: 0.2421 - val_loss: 2.2341 - val_sparse_categorical_accuracy: 0.2592\n",
      "Epoch 37/75\n",
      "9013/9013 [==============================] - 0s 35us/sample - loss: 2.2328 - sparse_categorical_accuracy: 0.2423 - val_loss: 2.2303 - val_sparse_categorical_accuracy: 0.2592\n",
      "Epoch 38/75\n",
      "9013/9013 [==============================] - 0s 39us/sample - loss: 2.2285 - sparse_categorical_accuracy: 0.2422 - val_loss: 2.2266 - val_sparse_categorical_accuracy: 0.2597\n",
      "Epoch 39/75\n",
      "9013/9013 [==============================] - 0s 33us/sample - loss: 2.2243 - sparse_categorical_accuracy: 0.2421 - val_loss: 2.2230 - val_sparse_categorical_accuracy: 0.2592\n",
      "Epoch 40/75\n",
      "9013/9013 [==============================] - 0s 38us/sample - loss: 2.2201 - sparse_categorical_accuracy: 0.2420 - val_loss: 2.2196 - val_sparse_categorical_accuracy: 0.2592\n",
      "Epoch 41/75\n",
      "9013/9013 [==============================] - 0s 40us/sample - loss: 2.2161 - sparse_categorical_accuracy: 0.2423 - val_loss: 2.2163 - val_sparse_categorical_accuracy: 0.2588\n",
      "Epoch 42/75\n",
      "9013/9013 [==============================] - 0s 37us/sample - loss: 2.2122 - sparse_categorical_accuracy: 0.2423 - val_loss: 2.2126 - val_sparse_categorical_accuracy: 0.2592\n",
      "Epoch 43/75\n",
      "9013/9013 [==============================] - 0s 36us/sample - loss: 2.2083 - sparse_categorical_accuracy: 0.2423 - val_loss: 2.2093 - val_sparse_categorical_accuracy: 0.2588\n",
      "Epoch 44/75\n",
      "9013/9013 [==============================] - 0s 34us/sample - loss: 2.2045 - sparse_categorical_accuracy: 0.2425 - val_loss: 2.2062 - val_sparse_categorical_accuracy: 0.2583\n"
     ]
    },
    {
     "name": "stdout",
     "output_type": "stream",
     "text": [
      "Epoch 45/75\n",
      "9013/9013 [==============================] - 0s 33us/sample - loss: 2.2007 - sparse_categorical_accuracy: 0.2424 - val_loss: 2.2033 - val_sparse_categorical_accuracy: 0.2583\n",
      "Epoch 46/75\n",
      "9013/9013 [==============================] - 0s 32us/sample - loss: 2.1971 - sparse_categorical_accuracy: 0.2428 - val_loss: 2.2000 - val_sparse_categorical_accuracy: 0.2583\n",
      "Epoch 47/75\n",
      "9013/9013 [==============================] - 0s 34us/sample - loss: 2.1935 - sparse_categorical_accuracy: 0.2429 - val_loss: 2.1970 - val_sparse_categorical_accuracy: 0.2583\n",
      "Epoch 48/75\n",
      "9013/9013 [==============================] - 0s 33us/sample - loss: 2.1900 - sparse_categorical_accuracy: 0.2428 - val_loss: 2.1941 - val_sparse_categorical_accuracy: 0.2583\n",
      "Epoch 49/75\n",
      "9013/9013 [==============================] - 0s 32us/sample - loss: 2.1866 - sparse_categorical_accuracy: 0.2422 - val_loss: 2.1912 - val_sparse_categorical_accuracy: 0.2583\n",
      "Epoch 50/75\n",
      "9013/9013 [==============================] - 0s 33us/sample - loss: 2.1833 - sparse_categorical_accuracy: 0.2429 - val_loss: 2.1888 - val_sparse_categorical_accuracy: 0.2583\n",
      "Epoch 51/75\n",
      "9013/9013 [==============================] - 0s 36us/sample - loss: 2.1800 - sparse_categorical_accuracy: 0.2430 - val_loss: 2.1863 - val_sparse_categorical_accuracy: 0.2588\n",
      "Epoch 52/75\n",
      "9013/9013 [==============================] - 0s 32us/sample - loss: 2.1771 - sparse_categorical_accuracy: 0.2431 - val_loss: 2.1838 - val_sparse_categorical_accuracy: 0.2588\n",
      "Epoch 53/75\n",
      "9013/9013 [==============================] - 0s 33us/sample - loss: 2.1741 - sparse_categorical_accuracy: 0.2435 - val_loss: 2.1816 - val_sparse_categorical_accuracy: 0.2583\n",
      "Epoch 54/75\n",
      "9013/9013 [==============================] - 0s 34us/sample - loss: 2.1713 - sparse_categorical_accuracy: 0.2438 - val_loss: 2.1792 - val_sparse_categorical_accuracy: 0.2588\n",
      "Epoch 55/75\n",
      "9013/9013 [==============================] - 0s 34us/sample - loss: 2.1685 - sparse_categorical_accuracy: 0.2438 - val_loss: 2.1771 - val_sparse_categorical_accuracy: 0.2588\n",
      "Epoch 56/75\n",
      "9013/9013 [==============================] - 0s 36us/sample - loss: 2.1659 - sparse_categorical_accuracy: 0.2429 - val_loss: 2.1751 - val_sparse_categorical_accuracy: 0.2583\n",
      "Epoch 57/75\n",
      "9013/9013 [==============================] - 0s 35us/sample - loss: 2.1633 - sparse_categorical_accuracy: 0.2429 - val_loss: 2.1735 - val_sparse_categorical_accuracy: 0.2588\n",
      "Epoch 58/75\n",
      "9013/9013 [==============================] - 0s 35us/sample - loss: 2.1608 - sparse_categorical_accuracy: 0.2422 - val_loss: 2.1715 - val_sparse_categorical_accuracy: 0.2597\n",
      "Epoch 59/75\n",
      "9013/9013 [==============================] - 0s 35us/sample - loss: 2.1587 - sparse_categorical_accuracy: 0.2428 - val_loss: 2.1697 - val_sparse_categorical_accuracy: 0.2601\n",
      "Epoch 60/75\n",
      "9013/9013 [==============================] - 0s 36us/sample - loss: 2.1564 - sparse_categorical_accuracy: 0.2431 - val_loss: 2.1684 - val_sparse_categorical_accuracy: 0.2583\n",
      "Epoch 61/75\n",
      "9013/9013 [==============================] - 0s 34us/sample - loss: 2.1543 - sparse_categorical_accuracy: 0.2426 - val_loss: 2.1668 - val_sparse_categorical_accuracy: 0.2592\n",
      "Epoch 62/75\n",
      "9013/9013 [==============================] - 0s 38us/sample - loss: 2.1523 - sparse_categorical_accuracy: 0.2423 - val_loss: 2.1654 - val_sparse_categorical_accuracy: 0.2588\n",
      "Epoch 63/75\n",
      "9013/9013 [==============================] - 0s 36us/sample - loss: 2.1504 - sparse_categorical_accuracy: 0.2433 - val_loss: 2.1641 - val_sparse_categorical_accuracy: 0.2592\n",
      "Epoch 64/75\n",
      "9013/9013 [==============================] - 0s 36us/sample - loss: 2.1485 - sparse_categorical_accuracy: 0.2428 - val_loss: 2.1631 - val_sparse_categorical_accuracy: 0.2592\n",
      "Epoch 65/75\n",
      "9013/9013 [==============================] - 0s 37us/sample - loss: 2.1468 - sparse_categorical_accuracy: 0.2451 - val_loss: 2.1619 - val_sparse_categorical_accuracy: 0.2588\n",
      "Epoch 66/75\n",
      "9013/9013 [==============================] - 0s 36us/sample - loss: 2.1452 - sparse_categorical_accuracy: 0.2432 - val_loss: 2.1609 - val_sparse_categorical_accuracy: 0.2592\n",
      "Epoch 67/75\n",
      "9013/9013 [==============================] - 0s 39us/sample - loss: 2.1436 - sparse_categorical_accuracy: 0.2431 - val_loss: 2.1597 - val_sparse_categorical_accuracy: 0.2601\n",
      "Epoch 68/75\n",
      "9013/9013 [==============================] - 0s 36us/sample - loss: 2.1420 - sparse_categorical_accuracy: 0.2431 - val_loss: 2.1586 - val_sparse_categorical_accuracy: 0.2619\n",
      "Epoch 69/75\n",
      "9013/9013 [==============================] - 0s 36us/sample - loss: 2.1406 - sparse_categorical_accuracy: 0.2443 - val_loss: 2.1576 - val_sparse_categorical_accuracy: 0.2614\n",
      "Epoch 70/75\n",
      "9013/9013 [==============================] - 0s 34us/sample - loss: 2.1392 - sparse_categorical_accuracy: 0.2436 - val_loss: 2.1566 - val_sparse_categorical_accuracy: 0.2601\n",
      "Epoch 71/75\n",
      "9013/9013 [==============================] - 0s 34us/sample - loss: 2.1379 - sparse_categorical_accuracy: 0.2441 - val_loss: 2.1559 - val_sparse_categorical_accuracy: 0.2614\n",
      "Epoch 72/75\n",
      "9013/9013 [==============================] - 0s 35us/sample - loss: 2.1366 - sparse_categorical_accuracy: 0.2432 - val_loss: 2.1552 - val_sparse_categorical_accuracy: 0.2597\n",
      "Epoch 73/75\n",
      "9013/9013 [==============================] - 0s 36us/sample - loss: 2.1354 - sparse_categorical_accuracy: 0.2439 - val_loss: 2.1546 - val_sparse_categorical_accuracy: 0.2619\n",
      "Epoch 74/75\n",
      "9013/9013 [==============================] - 0s 36us/sample - loss: 2.1342 - sparse_categorical_accuracy: 0.2448 - val_loss: 2.1536 - val_sparse_categorical_accuracy: 0.2605\n",
      "Epoch 75/75\n",
      "9013/9013 [==============================] - 0s 34us/sample - loss: 2.1331 - sparse_categorical_accuracy: 0.2440 - val_loss: 2.1529 - val_sparse_categorical_accuracy: 0.2619\n"
     ]
    }
   ],
   "source": [
    "model = Baseline_model(input_shape = trainx.shape[1:], classes = 18)\n",
    "# model = Residual_model(input_shape = trainx.shape[1:], classes = 18)\n",
    "\n",
    "model.compile(loss='sparse_categorical_crossentropy',  \n",
    "#               optimizer=keras.optimizers.SGD(lr=0.005),\n",
    "#               optimizer=keras.optimizers.Adam(learning_rate=0.0001, beta_1=0.9, beta_2=0.999, amsgrad=False),\n",
    "              optimizer=keras.optimizers.RMSprop(learning_rate=0.00001),\n",
    "              metrics=['sparse_categorical_accuracy'])\n",
    "\n",
    "history = model.fit(trainx, trainy,\n",
    "          validation_data=(testx, testy),\n",
    "          shuffle=True,\n",
    "          batch_size=128,\n",
    "          epochs=75,\n",
    "          callbacks = [keras.callbacks.TensorBoard(\n",
    "              log_dir=os.path.join(\"./../../logs\", logName('B-5', 'none' , 'RMS-0.00001', 128)),\n",
    "              histogram_freq=1)],\n",
    "          verbose=1);"
   ]
  },
  {
   "cell_type": "code",
   "execution_count": 95,
   "metadata": {},
   "outputs": [],
   "source": [
    "values = model.predict(testx[:20])"
   ]
  },
  {
   "cell_type": "code",
   "execution_count": 96,
   "metadata": {},
   "outputs": [
    {
     "name": "stdout",
     "output_type": "stream",
     "text": [
      "[3 6 4 5 5 7 7 5 5 3 9 5 5 9 3 5 6 4 9 3]\n"
     ]
    }
   ],
   "source": [
    "print(np.argmax(values,axis=1))"
   ]
  },
  {
   "cell_type": "code",
   "execution_count": 63,
   "metadata": {},
   "outputs": [
    {
     "data": {
      "text/plain": [
       "array([ 7.,  3.,  5.,  7.,  6.,  4.,  8.,  7.,  8.,  2.,  3.,  7.,  9.,\n",
       "        9.,  7., 10.,  5.,  7.,  8.,  1.])"
      ]
     },
     "execution_count": 63,
     "metadata": {},
     "output_type": "execute_result"
    }
   ],
   "source": [
    "testy[:20]"
   ]
  },
  {
   "cell_type": "code",
   "execution_count": 94,
   "metadata": {},
   "outputs": [
    {
     "data": {
      "image/png": "[encoded data removed]",
      "text/plain": [
       "<Figure size 432x288 with 1 Axes>"
      ]
     },
     "metadata": {
      "needs_background": "light"
     },
     "output_type": "display_data"
    },
    {
     "data": {
      "image/png": "[encoded data removed]",
      "text/plain": [
       "<Figure size 432x288 with 1 Axes>"
      ]
     },
     "metadata": {
      "needs_background": "light"
     },
     "output_type": "display_data"
    }
   ],
   "source": [
    "pyplot.plot(history.history['loss'])\n",
    "pyplot.plot(history.history['val_loss'])\n",
    "pyplot.ylabel('loss')\n",
    "pyplot.xlabel('epoch')\n",
    "pyplot.legend(['train', 'validation'], loc='upper right')\n",
    "pyplot.show()\n",
    "\n",
    "pyplot.plot(history.history['sparse_categorical_accuracy'])\n",
    "pyplot.plot(history.history['val_sparse_categorical_accuracy'])\n",
    "pyplot.ylabel('accuracy')\n",
    "pyplot.xlabel('epoch')\n",
    "pyplot.legend(['train', 'validation'], loc='upper right')\n",
    "pyplot.show()"
   ]
  },
  {
   "cell_type": "code",
   "execution_count": 95,
   "metadata": {},
   "outputs": [
    {
     "data": {
      "text/html": [
       "\n",
       "      <iframe id=\"tensorboard-frame-998c83aaf5a0a724\" width=\"100%\" height=\"800\" frameborder=\"0\">\n",
       "      </iframe>\n",
       "      <script>\n",
       "        (function() {\n",
       "          const frame = document.getElementById(\"tensorboard-frame-998c83aaf5a0a724\");\n",
       "          const url = new URL(\"/\", window.location);\n",
       "          url.port = 6006;\n",
       "          frame.src = url;\n",
       "        })();\n",
       "      </script>\n",
       "  "
      ],
      "text/plain": [
       "<IPython.core.display.HTML object>"
      ]
     },
     "metadata": {},
     "output_type": "display_data"
    }
   ],
   "source": [
    " %tensorboard --logdir=./../../logs --bind_all"
   ]
  },
  {
   "cell_type": "code",
   "execution_count": 100,
   "metadata": {},
   "outputs": [
    {
     "name": "stdout",
     "output_type": "stream",
     "text": [
      "(200, 23, 100)\n"
     ]
    }
   ],
   "source": [
    "model = Baseline_model(input_shape = trainx.shape[1:], classes = 18)\n",
    "model.add(keras.layers.Embedding(1000, output_dim=100, input_length=23))\n",
    "\n",
    "\n",
    "# Add a LSTM layer with 128 internal units.\n",
    "# model.add(keras.layers.GRU(32))\n",
    "# model.add(keras.layers.Dense(16, activation='relu'))\n",
    "# model.add(keras.layers.Dense(8, activation='relu'))\n",
    "# model.add(keras.layers.Dense(4, activation='relu'))\n",
    "# model.add(keras.layers.Dropout(0.2))\n",
    "# model.add(keras.layers.Dense(1, activation='relu'))\n",
    "\n",
    "# model.compile(loss='mean_squared_error',  \n",
    "#               optimizer=keras.optimizers.SGD(lr=0.03,  nesterov=True),\n",
    "#               metrics=['MAE'])\n",
    "\n",
    "# history = model.fit(trainx, trainy,\n",
    "#           validation_data=(testx, testy),\n",
    "#           shuffle=True,\n",
    "#           batch_size=128,\n",
    "#           epochs=30);\n",
    "\n",
    "input_array = np.random.randint(1000, size=(200, 23))\n",
    "\n",
    "model.compile('rmsprop', 'mse')\n",
    "output_array = model.predict(input_array)\n",
    "print(output_array.shape)"
   ]
  },
  {
   "cell_type": "markdown",
   "metadata": {},
   "source": [
    "Po tomto modeli sme sa rozhodli, že vytvoríme klasifikačnú rekurentnú neurónovú sieť(RNN). Model sme sa snažili priradiť do jednej zo 16 klasifikačných tried, pričom každá trieda symbolizovala počet gólov(v prípade, že mal byť výsledok 7 gólov a sieť ho odhadla správne, tak je najvyššia hodnota pravdepodobnost na indexe číslo 6 vo výslednom vektore). \n",
    "\n",
    "- Na trénovanie sme použili LSTM vrstvu, ktorú sme neskôr kvôli rýchlejšiemu trénovaniu nahradili GRU vrstvou. \n",
    "- Po tejto vrstve sme použili dense vrstvu so softmax aktiváciou, SGD optimizerom a sparse_categorical_crossentropy loss funkciou. \n",
    "\n",
    "Neskôr sme pridávali rôzne vrstvy, ktoré však väčšinou nemali veľký vplyv na výsledok. S nami otestovaných sietí boli najlepšie tieto:"
   ]
  },
  {
   "cell_type": "markdown",
   "metadata": {},
   "source": [
    "Embedding(input_dim=64, output_dim=1)\n",
    "- GRU(32) ->\n",
    "- Dense(16, activation='relu') ->\n",
    "- Dense(16, activation='softmax')\n",
    "\n",
    "hyperparametre:\n",
    "- SGD(lr=0.01, momentum=0.65, nesterov=True)\n",
    "- loss='sparse_categorical_crossentropy'\n",
    "- metrics='sparse_categorical_accuracy'\n",
    "- batch_size=128\n",
    " - epochs=25"
   ]
  },
  {
   "cell_type": "code",
   "execution_count": null,
   "metadata": {},
   "outputs": [],
   "source": [
    "def Baseline_model(input_shape=(25), classes=16):\n",
    "\n",
    "    # Define the input as a tensor with shape input_shape\n",
    "    X_input = keras.Input(input_shape)    \n",
    "    X = keras.layers.Dense(256, activation='relu')(X_input)\n",
    "    X = keras.layers.Dense(128, activation='relu')(X)\n",
    "    X = keras.layers.Dense(64, activation='relu')(X)\n",
    "    X = keras.layers.Dropout(0.2)\n",
    "    X = keras.layers.Dense(32, activation='relu')(X)\n",
    "\n",
    "    # output layer\n",
    "    X = keras.layers.Dense(classes, activation='softmax', name='fc' + str(classes))(X)\n",
    "    \n",
    "    \n",
    "    # Create model\n",
    "    model = keras.models.Model(inputs = X_input, outputs = X, name='Baseline_model')\n",
    "\n",
    "    return model"
   ]
  },
  {
   "cell_type": "code",
   "execution_count": 130,
   "metadata": {},
   "outputs": [
    {
     "name": "stdout",
     "output_type": "stream",
     "text": [
      "Train on 7880 samples, validate on 1969 samples\n",
      "Epoch 1/100\n",
      "7880/7880 [==============================] - 1s 128us/sample - loss: 2.8742 - sparse_categorical_accuracy: 0.1208 - val_loss: 2.5825 - val_sparse_categorical_accuracy: 0.1701\n",
      "Epoch 2/100\n",
      "7880/7880 [==============================] - 0s 28us/sample - loss: 2.5549 - sparse_categorical_accuracy: 0.2014 - val_loss: 2.4523 - val_sparse_categorical_accuracy: 0.2514\n",
      "Epoch 3/100\n",
      "7880/7880 [==============================] - 0s 29us/sample - loss: 2.4729 - sparse_categorical_accuracy: 0.2151 - val_loss: 2.3774 - val_sparse_categorical_accuracy: 0.2529\n",
      "Epoch 4/100\n",
      "7880/7880 [==============================] - 0s 28us/sample - loss: 2.4110 - sparse_categorical_accuracy: 0.2227 - val_loss: 2.3282 - val_sparse_categorical_accuracy: 0.2539\n",
      "Epoch 5/100\n",
      "7880/7880 [==============================] - 0s 34us/sample - loss: 2.3878 - sparse_categorical_accuracy: 0.2140 - val_loss: 2.2950 - val_sparse_categorical_accuracy: 0.2529\n",
      "Epoch 6/100\n",
      "7880/7880 [==============================] - 0s 41us/sample - loss: 2.3588 - sparse_categorical_accuracy: 0.2232 - val_loss: 2.2691 - val_sparse_categorical_accuracy: 0.2560\n",
      "Epoch 7/100\n",
      "7880/7880 [==============================] - 0s 29us/sample - loss: 2.3372 - sparse_categorical_accuracy: 0.2171 - val_loss: 2.2506 - val_sparse_categorical_accuracy: 0.2550\n",
      "Epoch 8/100\n",
      "7880/7880 [==============================] - 0s 30us/sample - loss: 2.3211 - sparse_categorical_accuracy: 0.2189 - val_loss: 2.2333 - val_sparse_categorical_accuracy: 0.2550\n",
      "Epoch 9/100\n",
      "7880/7880 [==============================] - 0s 32us/sample - loss: 2.3009 - sparse_categorical_accuracy: 0.2214 - val_loss: 2.2203 - val_sparse_categorical_accuracy: 0.2565\n",
      "Epoch 10/100\n",
      "7880/7880 [==============================] - 0s 31us/sample - loss: 2.2899 - sparse_categorical_accuracy: 0.2223 - val_loss: 2.2110 - val_sparse_categorical_accuracy: 0.2580\n",
      "Epoch 11/100\n",
      "7880/7880 [==============================] - 0s 30us/sample - loss: 2.2905 - sparse_categorical_accuracy: 0.2206 - val_loss: 2.2049 - val_sparse_categorical_accuracy: 0.2509\n",
      "Epoch 12/100\n",
      "7880/7880 [==============================] - 0s 32us/sample - loss: 2.2685 - sparse_categorical_accuracy: 0.2268 - val_loss: 2.1928 - val_sparse_categorical_accuracy: 0.2585\n",
      "Epoch 13/100\n",
      "7880/7880 [==============================] - 0s 32us/sample - loss: 2.2623 - sparse_categorical_accuracy: 0.2202 - val_loss: 2.1880 - val_sparse_categorical_accuracy: 0.2524\n",
      "Epoch 14/100\n",
      "7880/7880 [==============================] - 0s 31us/sample - loss: 2.2665 - sparse_categorical_accuracy: 0.2194 - val_loss: 2.1847 - val_sparse_categorical_accuracy: 0.2570\n",
      "Epoch 15/100\n",
      "7880/7880 [==============================] - 0s 31us/sample - loss: 2.2479 - sparse_categorical_accuracy: 0.2232 - val_loss: 2.1766 - val_sparse_categorical_accuracy: 0.2575\n",
      "Epoch 16/100\n",
      "7880/7880 [==============================] - 0s 30us/sample - loss: 2.2435 - sparse_categorical_accuracy: 0.2240 - val_loss: 2.1784 - val_sparse_categorical_accuracy: 0.2565\n",
      "Epoch 17/100\n",
      "7880/7880 [==============================] - 0s 30us/sample - loss: 2.2362 - sparse_categorical_accuracy: 0.2250 - val_loss: 2.1713 - val_sparse_categorical_accuracy: 0.2544\n",
      "Epoch 18/100\n",
      "7880/7880 [==============================] - 0s 31us/sample - loss: 2.2415 - sparse_categorical_accuracy: 0.2222 - val_loss: 2.1688 - val_sparse_categorical_accuracy: 0.2570\n",
      "Epoch 19/100\n",
      "7880/7880 [==============================] - 0s 31us/sample - loss: 2.2351 - sparse_categorical_accuracy: 0.2174 - val_loss: 2.1644 - val_sparse_categorical_accuracy: 0.2610\n",
      "Epoch 20/100\n",
      "7880/7880 [==============================] - 0s 32us/sample - loss: 2.2294 - sparse_categorical_accuracy: 0.2273 - val_loss: 2.1607 - val_sparse_categorical_accuracy: 0.2626\n",
      "Epoch 21/100\n",
      "7880/7880 [==============================] - 0s 31us/sample - loss: 2.2236 - sparse_categorical_accuracy: 0.2269 - val_loss: 2.1600 - val_sparse_categorical_accuracy: 0.2610\n",
      "Epoch 22/100\n",
      "7880/7880 [==============================] - 0s 33us/sample - loss: 2.2130 - sparse_categorical_accuracy: 0.2312 - val_loss: 2.1567 - val_sparse_categorical_accuracy: 0.2626\n",
      "Epoch 23/100\n",
      "7880/7880 [==============================] - 0s 33us/sample - loss: 2.2146 - sparse_categorical_accuracy: 0.2246 - val_loss: 2.1535 - val_sparse_categorical_accuracy: 0.2626\n",
      "Epoch 24/100\n",
      "7880/7880 [==============================] - 0s 31us/sample - loss: 2.2129 - sparse_categorical_accuracy: 0.2232 - val_loss: 2.1526 - val_sparse_categorical_accuracy: 0.2641\n",
      "Epoch 25/100\n",
      "7880/7880 [==============================] - 0s 30us/sample - loss: 2.2120 - sparse_categorical_accuracy: 0.2230 - val_loss: 2.1507 - val_sparse_categorical_accuracy: 0.2651\n",
      "Epoch 26/100\n",
      "7880/7880 [==============================] - 0s 33us/sample - loss: 2.2082 - sparse_categorical_accuracy: 0.2264 - val_loss: 2.1486 - val_sparse_categorical_accuracy: 0.2636\n",
      "Epoch 27/100\n",
      "7880/7880 [==============================] - 0s 31us/sample - loss: 2.2057 - sparse_categorical_accuracy: 0.2247 - val_loss: 2.1469 - val_sparse_categorical_accuracy: 0.2651\n",
      "Epoch 28/100\n",
      "7880/7880 [==============================] - 0s 31us/sample - loss: 2.2144 - sparse_categorical_accuracy: 0.2253 - val_loss: 2.1467 - val_sparse_categorical_accuracy: 0.2656\n",
      "Epoch 29/100\n",
      "7880/7880 [==============================] - 0s 30us/sample - loss: 2.2056 - sparse_categorical_accuracy: 0.2258 - val_loss: 2.1448 - val_sparse_categorical_accuracy: 0.2656\n",
      "Epoch 30/100\n",
      "7880/7880 [==============================] - 0s 34us/sample - loss: 2.2000 - sparse_categorical_accuracy: 0.2255 - val_loss: 2.1445 - val_sparse_categorical_accuracy: 0.2656\n",
      "Epoch 31/100\n",
      "7880/7880 [==============================] - 0s 32us/sample - loss: 2.1974 - sparse_categorical_accuracy: 0.2202 - val_loss: 2.1415 - val_sparse_categorical_accuracy: 0.2656\n",
      "Epoch 32/100\n",
      "7880/7880 [==============================] - 0s 30us/sample - loss: 2.2000 - sparse_categorical_accuracy: 0.2245 - val_loss: 2.1427 - val_sparse_categorical_accuracy: 0.2651\n",
      "Epoch 33/100\n",
      "7880/7880 [==============================] - 0s 32us/sample - loss: 2.2006 - sparse_categorical_accuracy: 0.2269 - val_loss: 2.1407 - val_sparse_categorical_accuracy: 0.2656\n",
      "Epoch 34/100\n",
      "7880/7880 [==============================] - 0s 32us/sample - loss: 2.1938 - sparse_categorical_accuracy: 0.2237 - val_loss: 2.1400 - val_sparse_categorical_accuracy: 0.2656\n",
      "Epoch 35/100\n",
      "7880/7880 [==============================] - 0s 32us/sample - loss: 2.1950 - sparse_categorical_accuracy: 0.2261 - val_loss: 2.1386 - val_sparse_categorical_accuracy: 0.2656\n",
      "Epoch 36/100\n",
      "7880/7880 [==============================] - 0s 33us/sample - loss: 2.1923 - sparse_categorical_accuracy: 0.2244 - val_loss: 2.1383 - val_sparse_categorical_accuracy: 0.2651\n",
      "Epoch 37/100\n",
      "7880/7880 [==============================] - 0s 29us/sample - loss: 2.1891 - sparse_categorical_accuracy: 0.2286 - val_loss: 2.1360 - val_sparse_categorical_accuracy: 0.2656\n",
      "Epoch 38/100\n",
      "7880/7880 [==============================] - 0s 33us/sample - loss: 2.1897 - sparse_categorical_accuracy: 0.2236 - val_loss: 2.1365 - val_sparse_categorical_accuracy: 0.2656\n",
      "Epoch 39/100\n",
      "7880/7880 [==============================] - 0s 31us/sample - loss: 2.1899 - sparse_categorical_accuracy: 0.2259 - val_loss: 2.1371 - val_sparse_categorical_accuracy: 0.2651\n",
      "Epoch 40/100\n",
      "7880/7880 [==============================] - 0s 38us/sample - loss: 2.1851 - sparse_categorical_accuracy: 0.2278 - val_loss: 2.1352 - val_sparse_categorical_accuracy: 0.2656\n",
      "Epoch 41/100\n",
      "7880/7880 [==============================] - 0s 37us/sample - loss: 2.1837 - sparse_categorical_accuracy: 0.2250 - val_loss: 2.1355 - val_sparse_categorical_accuracy: 0.2646\n",
      "Epoch 42/100\n",
      "7880/7880 [==============================] - 0s 38us/sample - loss: 2.1815 - sparse_categorical_accuracy: 0.2287 - val_loss: 2.1377 - val_sparse_categorical_accuracy: 0.2641\n",
      "Epoch 43/100\n",
      "7880/7880 [==============================] - 0s 35us/sample - loss: 2.1849 - sparse_categorical_accuracy: 0.2306 - val_loss: 2.1345 - val_sparse_categorical_accuracy: 0.2651\n",
      "Epoch 44/100\n",
      "7880/7880 [==============================] - 0s 35us/sample - loss: 2.1891 - sparse_categorical_accuracy: 0.2230 - val_loss: 2.1337 - val_sparse_categorical_accuracy: 0.2656\n",
      "Epoch 45/100\n",
      "7880/7880 [==============================] - 0s 34us/sample - loss: 2.1779 - sparse_categorical_accuracy: 0.2305 - val_loss: 2.1333 - val_sparse_categorical_accuracy: 0.2656\n",
      "Epoch 46/100\n",
      "7880/7880 [==============================] - 0s 34us/sample - loss: 2.1859 - sparse_categorical_accuracy: 0.2275 - val_loss: 2.1327 - val_sparse_categorical_accuracy: 0.2656\n",
      "Epoch 47/100\n",
      "7880/7880 [==============================] - 0s 28us/sample - loss: 2.1785 - sparse_categorical_accuracy: 0.2306 - val_loss: 2.1320 - val_sparse_categorical_accuracy: 0.2656\n",
      "Epoch 48/100\n",
      "7880/7880 [==============================] - 0s 34us/sample - loss: 2.1812 - sparse_categorical_accuracy: 0.2273 - val_loss: 2.1319 - val_sparse_categorical_accuracy: 0.2651\n",
      "Epoch 49/100\n",
      "7880/7880 [==============================] - 0s 29us/sample - loss: 2.1754 - sparse_categorical_accuracy: 0.2302 - val_loss: 2.1292 - val_sparse_categorical_accuracy: 0.2656\n",
      "Epoch 50/100\n",
      "7880/7880 [==============================] - 0s 35us/sample - loss: 2.1765 - sparse_categorical_accuracy: 0.2292 - val_loss: 2.1285 - val_sparse_categorical_accuracy: 0.2656\n",
      "Epoch 51/100\n",
      "7880/7880 [==============================] - 0s 29us/sample - loss: 2.1766 - sparse_categorical_accuracy: 0.2343 - val_loss: 2.1330 - val_sparse_categorical_accuracy: 0.2651\n",
      "Epoch 52/100\n",
      "7880/7880 [==============================] - 0s 29us/sample - loss: 2.1773 - sparse_categorical_accuracy: 0.2282 - val_loss: 2.1299 - val_sparse_categorical_accuracy: 0.2656\n",
      "Epoch 53/100\n",
      "7880/7880 [==============================] - 0s 29us/sample - loss: 2.1778 - sparse_categorical_accuracy: 0.2279 - val_loss: 2.1302 - val_sparse_categorical_accuracy: 0.2651\n",
      "Epoch 54/100\n",
      "7880/7880 [==============================] - 0s 34us/sample - loss: 2.1737 - sparse_categorical_accuracy: 0.2272 - val_loss: 2.1301 - val_sparse_categorical_accuracy: 0.2656\n",
      "Epoch 55/100\n",
      "7880/7880 [==============================] - 0s 31us/sample - loss: 2.1758 - sparse_categorical_accuracy: 0.2322 - val_loss: 2.1293 - val_sparse_categorical_accuracy: 0.2651\n",
      "Epoch 56/100\n",
      "7880/7880 [==============================] - 0s 29us/sample - loss: 2.1718 - sparse_categorical_accuracy: 0.2269 - val_loss: 2.1283 - val_sparse_categorical_accuracy: 0.2661\n",
      "Epoch 57/100\n",
      "7880/7880 [==============================] - 0s 30us/sample - loss: 2.1768 - sparse_categorical_accuracy: 0.2266 - val_loss: 2.1304 - val_sparse_categorical_accuracy: 0.2661\n",
      "Epoch 58/100\n",
      "7880/7880 [==============================] - 0s 37us/sample - loss: 2.1722 - sparse_categorical_accuracy: 0.2316 - val_loss: 2.1284 - val_sparse_categorical_accuracy: 0.2656\n",
      "Epoch 59/100\n",
      "7880/7880 [==============================] - 0s 30us/sample - loss: 2.1714 - sparse_categorical_accuracy: 0.2305 - val_loss: 2.1278 - val_sparse_categorical_accuracy: 0.2656\n",
      "Epoch 60/100\n",
      "7880/7880 [==============================] - 0s 30us/sample - loss: 2.1752 - sparse_categorical_accuracy: 0.2308 - val_loss: 2.1284 - val_sparse_categorical_accuracy: 0.2661\n",
      "Epoch 61/100\n",
      "7880/7880 [==============================] - 0s 36us/sample - loss: 2.1805 - sparse_categorical_accuracy: 0.2256 - val_loss: 2.1284 - val_sparse_categorical_accuracy: 0.2656\n",
      "Epoch 62/100\n",
      "7880/7880 [==============================] - 0s 30us/sample - loss: 2.1721 - sparse_categorical_accuracy: 0.2310 - val_loss: 2.1272 - val_sparse_categorical_accuracy: 0.2656\n",
      "Epoch 63/100\n",
      "7880/7880 [==============================] - 0s 29us/sample - loss: 2.1706 - sparse_categorical_accuracy: 0.2278 - val_loss: 2.1260 - val_sparse_categorical_accuracy: 0.2656\n",
      "Epoch 64/100\n",
      "7880/7880 [==============================] - 0s 34us/sample - loss: 2.1668 - sparse_categorical_accuracy: 0.2349 - val_loss: 2.1265 - val_sparse_categorical_accuracy: 0.2656\n",
      "Epoch 65/100\n",
      "7880/7880 [==============================] - 0s 31us/sample - loss: 2.1677 - sparse_categorical_accuracy: 0.2292 - val_loss: 2.1279 - val_sparse_categorical_accuracy: 0.2656\n",
      "Epoch 66/100\n",
      "7880/7880 [==============================] - 0s 30us/sample - loss: 2.1671 - sparse_categorical_accuracy: 0.2291 - val_loss: 2.1264 - val_sparse_categorical_accuracy: 0.2656\n",
      "Epoch 67/100\n",
      "7880/7880 [==============================] - 0s 37us/sample - loss: 2.1695 - sparse_categorical_accuracy: 0.2308 - val_loss: 2.1264 - val_sparse_categorical_accuracy: 0.2661\n",
      "Epoch 68/100\n",
      "7880/7880 [==============================] - 0s 33us/sample - loss: 2.1647 - sparse_categorical_accuracy: 0.2317 - val_loss: 2.1266 - val_sparse_categorical_accuracy: 0.2651\n",
      "Epoch 69/100\n",
      "7880/7880 [==============================] - 0s 31us/sample - loss: 2.1653 - sparse_categorical_accuracy: 0.2282 - val_loss: 2.1243 - val_sparse_categorical_accuracy: 0.2656\n",
      "Epoch 70/100\n",
      "7880/7880 [==============================] - 0s 34us/sample - loss: 2.1699 - sparse_categorical_accuracy: 0.2284 - val_loss: 2.1260 - val_sparse_categorical_accuracy: 0.2651\n",
      "Epoch 71/100\n",
      "7880/7880 [==============================] - 0s 33us/sample - loss: 2.1675 - sparse_categorical_accuracy: 0.2335 - val_loss: 2.1247 - val_sparse_categorical_accuracy: 0.2656\n",
      "Epoch 72/100\n",
      "7880/7880 [==============================] - 0s 31us/sample - loss: 2.1686 - sparse_categorical_accuracy: 0.2266 - val_loss: 2.1238 - val_sparse_categorical_accuracy: 0.2656\n",
      "Epoch 73/100\n",
      "7880/7880 [==============================] - 0s 31us/sample - loss: 2.1643 - sparse_categorical_accuracy: 0.2320 - val_loss: 2.1257 - val_sparse_categorical_accuracy: 0.2661\n",
      "Epoch 74/100\n",
      "7880/7880 [==============================] - 0s 38us/sample - loss: 2.1675 - sparse_categorical_accuracy: 0.2212 - val_loss: 2.1256 - val_sparse_categorical_accuracy: 0.2661\n",
      "Epoch 75/100\n",
      "7880/7880 [==============================] - 0s 31us/sample - loss: 2.1654 - sparse_categorical_accuracy: 0.2338 - val_loss: 2.1237 - val_sparse_categorical_accuracy: 0.2656\n",
      "Epoch 76/100\n",
      "7880/7880 [==============================] - 0s 30us/sample - loss: 2.1593 - sparse_categorical_accuracy: 0.2286 - val_loss: 2.1249 - val_sparse_categorical_accuracy: 0.2661\n",
      "Epoch 77/100\n",
      "7880/7880 [==============================] - 0s 30us/sample - loss: 2.1616 - sparse_categorical_accuracy: 0.2292 - val_loss: 2.1241 - val_sparse_categorical_accuracy: 0.2651\n",
      "Epoch 78/100\n",
      "7880/7880 [==============================] - 0s 34us/sample - loss: 2.1627 - sparse_categorical_accuracy: 0.2332 - val_loss: 2.1226 - val_sparse_categorical_accuracy: 0.2656\n",
      "Epoch 79/100\n",
      "7880/7880 [==============================] - 0s 34us/sample - loss: 2.1652 - sparse_categorical_accuracy: 0.2336 - val_loss: 2.1246 - val_sparse_categorical_accuracy: 0.2651\n",
      "Epoch 80/100\n",
      "7880/7880 [==============================] - 0s 30us/sample - loss: 2.1651 - sparse_categorical_accuracy: 0.2321 - val_loss: 2.1251 - val_sparse_categorical_accuracy: 0.2661\n",
      "Epoch 81/100\n",
      "7880/7880 [==============================] - 0s 28us/sample - loss: 2.1579 - sparse_categorical_accuracy: 0.2305 - val_loss: 2.1245 - val_sparse_categorical_accuracy: 0.2661\n",
      "Epoch 82/100\n",
      "7880/7880 [==============================] - 0s 29us/sample - loss: 2.1617 - sparse_categorical_accuracy: 0.2275 - val_loss: 2.1265 - val_sparse_categorical_accuracy: 0.2651\n",
      "Epoch 83/100\n",
      "7880/7880 [==============================] - 0s 36us/sample - loss: 2.1630 - sparse_categorical_accuracy: 0.2260 - val_loss: 2.1240 - val_sparse_categorical_accuracy: 0.2656\n",
      "Epoch 84/100\n",
      "7880/7880 [==============================] - 0s 30us/sample - loss: 2.1579 - sparse_categorical_accuracy: 0.2322 - val_loss: 2.1239 - val_sparse_categorical_accuracy: 0.2651\n",
      "Epoch 85/100\n",
      "7880/7880 [==============================] - 0s 30us/sample - loss: 2.1611 - sparse_categorical_accuracy: 0.2346 - val_loss: 2.1256 - val_sparse_categorical_accuracy: 0.2641\n",
      "Epoch 86/100\n",
      "7880/7880 [==============================] - 0s 32us/sample - loss: 2.1618 - sparse_categorical_accuracy: 0.2369 - val_loss: 2.1225 - val_sparse_categorical_accuracy: 0.2656\n",
      "Epoch 87/100\n",
      "7880/7880 [==============================] - 0s 37us/sample - loss: 2.1619 - sparse_categorical_accuracy: 0.2298 - val_loss: 2.1251 - val_sparse_categorical_accuracy: 0.2656\n"
     ]
    },
    {
     "name": "stdout",
     "output_type": "stream",
     "text": [
      "Epoch 88/100\n",
      "7880/7880 [==============================] - 0s 29us/sample - loss: 2.1617 - sparse_categorical_accuracy: 0.2306 - val_loss: 2.1222 - val_sparse_categorical_accuracy: 0.2656\n",
      "Epoch 89/100\n",
      "7880/7880 [==============================] - 0s 27us/sample - loss: 2.1598 - sparse_categorical_accuracy: 0.2299 - val_loss: 2.1234 - val_sparse_categorical_accuracy: 0.2661\n",
      "Epoch 90/100\n",
      "7880/7880 [==============================] - 0s 31us/sample - loss: 2.1571 - sparse_categorical_accuracy: 0.2316 - val_loss: 2.1224 - val_sparse_categorical_accuracy: 0.2661\n",
      "Epoch 91/100\n",
      "7880/7880 [==============================] - 0s 36us/sample - loss: 2.1613 - sparse_categorical_accuracy: 0.2359 - val_loss: 2.1222 - val_sparse_categorical_accuracy: 0.2656\n",
      "Epoch 92/100\n",
      "7880/7880 [==============================] - 0s 29us/sample - loss: 2.1542 - sparse_categorical_accuracy: 0.2349 - val_loss: 2.1214 - val_sparse_categorical_accuracy: 0.2656\n",
      "Epoch 93/100\n",
      "7880/7880 [==============================] - 0s 28us/sample - loss: 2.1614 - sparse_categorical_accuracy: 0.2330 - val_loss: 2.1224 - val_sparse_categorical_accuracy: 0.2656\n",
      "Epoch 94/100\n",
      "7880/7880 [==============================] - 0s 28us/sample - loss: 2.1514 - sparse_categorical_accuracy: 0.2353 - val_loss: 2.1232 - val_sparse_categorical_accuracy: 0.2661\n",
      "Epoch 95/100\n",
      "7880/7880 [==============================] - 0s 34us/sample - loss: 2.1575 - sparse_categorical_accuracy: 0.2374 - val_loss: 2.1212 - val_sparse_categorical_accuracy: 0.2656\n",
      "Epoch 96/100\n",
      "7880/7880 [==============================] - 0s 30us/sample - loss: 2.1565 - sparse_categorical_accuracy: 0.2369 - val_loss: 2.1230 - val_sparse_categorical_accuracy: 0.2656\n",
      "Epoch 97/100\n",
      "7880/7880 [==============================] - 0s 28us/sample - loss: 2.1589 - sparse_categorical_accuracy: 0.2301 - val_loss: 2.1209 - val_sparse_categorical_accuracy: 0.2656\n",
      "Epoch 98/100\n",
      "7880/7880 [==============================] - 0s 27us/sample - loss: 2.1555 - sparse_categorical_accuracy: 0.2357 - val_loss: 2.1229 - val_sparse_categorical_accuracy: 0.2656\n",
      "Epoch 99/100\n",
      "7880/7880 [==============================] - 0s 32us/sample - loss: 2.1582 - sparse_categorical_accuracy: 0.2293 - val_loss: 2.1218 - val_sparse_categorical_accuracy: 0.2656\n",
      "Epoch 100/100\n",
      "7880/7880 [==============================] - 0s 30us/sample - loss: 2.1587 - sparse_categorical_accuracy: 0.2296 - val_loss: 2.1220 - val_sparse_categorical_accuracy: 0.2656\n"
     ]
    }
   ],
   "source": [
    "model = Baseline_model(input_shape = trainx.shape[1:], classes = 18)\n",
    "\n",
    "\n",
    "\n",
    "model.compile(loss='sparse_categorical_crossentropy',  \n",
    "              optimizer=keras.optimizers.SGD(lr=0.001),\n",
    "              metrics=['sparse_categorical_accuracy'])\n",
    "\n",
    "history = model.fit(trainx, trainy,\n",
    "          validation_data=(testx, testy),\n",
    "          shuffle=True,\n",
    "          batch_size=512,\n",
    "          epochs=75,\n",
    "#           tensorboard_callback = keras.callbacks.TensorBoard(\n",
    "#     log_dir=os.path.join(\"./../../logs\", logName(dropout, lr, batch_size)),\n",
    "#     histogram_freq=1)\n",
    "          verbose=1);\n",
    "\n",
    "\n",
    "values = model.predict(testx[:10])"
   ]
  },
  {
   "cell_type": "code",
   "execution_count": 131,
   "metadata": {},
   "outputs": [
    {
     "data": {
      "image/png": "[encoded data removed]",
      "text/plain": [
       "<Figure size 432x288 with 1 Axes>"
      ]
     },
     "metadata": {
      "needs_background": "light"
     },
     "output_type": "display_data"
    },
    {
     "data": {
      "image/png": "[encoded data removed]",
      "text/plain": [
       "<Figure size 432x288 with 1 Axes>"
      ]
     },
     "metadata": {
      "needs_background": "light"
     },
     "output_type": "display_data"
    }
   ],
   "source": [
    "pyplot.plot(history.history['loss'])\n",
    "pyplot.plot(history.history['val_loss'])\n",
    "pyplot.ylabel('loss')\n",
    "pyplot.xlabel('epoch')\n",
    "pyplot.legend(['train', 'validation'], loc='upper right')\n",
    "pyplot.show()\n",
    "\n",
    "pyplot.plot(history.history['sparse_categorical_accuracy'])\n",
    "pyplot.plot(history.history['val_sparse_categorical_accuracy'])\n",
    "pyplot.ylabel('accuracy')\n",
    "pyplot.xlabel('epoch')\n",
    "pyplot.legend(['train', 'validation'], loc='upper right')\n",
    "pyplot.show()"
   ]
  },
  {
   "cell_type": "code",
   "execution_count": null,
   "metadata": {},
   "outputs": [],
   "source": [
    " %tensorboard --logdir logs --bind_all"
   ]
  },
  {
   "cell_type": "markdown",
   "metadata": {},
   "source": [
    "Embedding(input_dim=64, output_dim=1)\n",
    "- GRU(32) ->\n",
    "- Dropout(0.2) ->\n",
    "- Dense(16, activation='softmax')\n",
    "\n",
    "Hyperparametre:\n",
    "- SGD(lr=0.001, decay=1e-6, momentum=0.7, nesterov=False),\n",
    "- loss='sparse_categorical_crossentropy'\n",
    "- metrics='sparse_categorical_accuracy'\n",
    "- batch_size=128\n",
    " - epochs=30"
   ]
  },
  {
   "cell_type": "code",
   "execution_count": 129,
   "metadata": {},
   "outputs": [
    {
     "name": "stdout",
     "output_type": "stream",
     "text": [
      "Train on 7880 samples, validate on 1969 samples\n",
      "Epoch 1/100\n",
      "7880/7880 [==============================] - 2s 307us/sample - loss: 2.6788 - sparse_categorical_accuracy: 0.2363 - val_loss: 2.5747 - val_sparse_categorical_accuracy: 0.2656\n",
      "Epoch 2/100\n",
      "7880/7880 [==============================] - 1s 77us/sample - loss: 2.5011 - sparse_categorical_accuracy: 0.2364 - val_loss: 2.3971 - val_sparse_categorical_accuracy: 0.2656\n",
      "Epoch 3/100\n",
      "7880/7880 [==============================] - 1s 79us/sample - loss: 2.3554 - sparse_categorical_accuracy: 0.2280 - val_loss: 2.2686 - val_sparse_categorical_accuracy: 0.2656\n",
      "Epoch 4/100\n",
      "7880/7880 [==============================] - 1s 78us/sample - loss: 2.2678 - sparse_categorical_accuracy: 0.2310 - val_loss: 2.2039 - val_sparse_categorical_accuracy: 0.2656\n",
      "Epoch 5/100\n",
      "7880/7880 [==============================] - 1s 79us/sample - loss: 2.2237 - sparse_categorical_accuracy: 0.2305 - val_loss: 2.1705 - val_sparse_categorical_accuracy: 0.2656\n",
      "Epoch 6/100\n",
      "7880/7880 [==============================] - 1s 80us/sample - loss: 2.2082 - sparse_categorical_accuracy: 0.2261 - val_loss: 2.1538 - val_sparse_categorical_accuracy: 0.2656\n",
      "Epoch 7/100\n",
      "7880/7880 [==============================] - 1s 81us/sample - loss: 2.1915 - sparse_categorical_accuracy: 0.2315 - val_loss: 2.1410 - val_sparse_categorical_accuracy: 0.2656\n",
      "Epoch 8/100\n",
      "7880/7880 [==============================] - 1s 81us/sample - loss: 2.1769 - sparse_categorical_accuracy: 0.2275 - val_loss: 2.1349 - val_sparse_categorical_accuracy: 0.2656\n",
      "Epoch 9/100\n",
      "7880/7880 [==============================] - 1s 80us/sample - loss: 2.1746 - sparse_categorical_accuracy: 0.2253 - val_loss: 2.1304 - val_sparse_categorical_accuracy: 0.2656\n",
      "Epoch 10/100\n",
      "7880/7880 [==============================] - 1s 81us/sample - loss: 2.1701 - sparse_categorical_accuracy: 0.2263 - val_loss: 2.1266 - val_sparse_categorical_accuracy: 0.2656\n",
      "Epoch 11/100\n",
      "7880/7880 [==============================] - 1s 92us/sample - loss: 2.1662 - sparse_categorical_accuracy: 0.2259 - val_loss: 2.1257 - val_sparse_categorical_accuracy: 0.2656\n",
      "Epoch 12/100\n",
      "7880/7880 [==============================] - 1s 82us/sample - loss: 2.1659 - sparse_categorical_accuracy: 0.2298 - val_loss: 2.1236 - val_sparse_categorical_accuracy: 0.2656\n",
      "Epoch 13/100\n",
      "7880/7880 [==============================] - 1s 80us/sample - loss: 2.1595 - sparse_categorical_accuracy: 0.2307 - val_loss: 2.1220 - val_sparse_categorical_accuracy: 0.2656\n",
      "Epoch 14/100\n",
      "7880/7880 [==============================] - 1s 80us/sample - loss: 2.1557 - sparse_categorical_accuracy: 0.2322 - val_loss: 2.1202 - val_sparse_categorical_accuracy: 0.2656\n",
      "Epoch 15/100\n",
      "7880/7880 [==============================] - 1s 112us/sample - loss: 2.1549 - sparse_categorical_accuracy: 0.2334 - val_loss: 2.1204 - val_sparse_categorical_accuracy: 0.2656\n",
      "Epoch 16/100\n",
      "7880/7880 [==============================] - 1s 89us/sample - loss: 2.1529 - sparse_categorical_accuracy: 0.2359 - val_loss: 2.1189 - val_sparse_categorical_accuracy: 0.2656\n",
      "Epoch 17/100\n",
      "7880/7880 [==============================] - 1s 98us/sample - loss: 2.1496 - sparse_categorical_accuracy: 0.2395 - val_loss: 2.1191 - val_sparse_categorical_accuracy: 0.2656\n",
      "Epoch 18/100\n",
      "7880/7880 [==============================] - 1s 85us/sample - loss: 2.1501 - sparse_categorical_accuracy: 0.2396 - val_loss: 2.1169 - val_sparse_categorical_accuracy: 0.2656\n",
      "Epoch 19/100\n",
      "7880/7880 [==============================] - 1s 113us/sample - loss: 2.1503 - sparse_categorical_accuracy: 0.2391 - val_loss: 2.1175 - val_sparse_categorical_accuracy: 0.2656\n",
      "Epoch 20/100\n",
      "7880/7880 [==============================] - 1s 100us/sample - loss: 2.1461 - sparse_categorical_accuracy: 0.2383 - val_loss: 2.1168 - val_sparse_categorical_accuracy: 0.2656\n",
      "Epoch 21/100\n",
      "7880/7880 [==============================] - 1s 93us/sample - loss: 2.1481 - sparse_categorical_accuracy: 0.2410 - val_loss: 2.1162 - val_sparse_categorical_accuracy: 0.2656\n",
      "Epoch 22/100\n",
      "7880/7880 [==============================] - 1s 123us/sample - loss: 2.1459 - sparse_categorical_accuracy: 0.2391 - val_loss: 2.1160 - val_sparse_categorical_accuracy: 0.2656\n",
      "Epoch 23/100\n",
      "5632/7880 [====================>.........] - ETA: 0s - loss: 2.1504 - sparse_categorical_accuracy: 0.2404"
     ]
    },
    {
     "ename": "KeyboardInterrupt",
     "evalue": "",
     "output_type": "error",
     "traceback": [
      "\u001b[0;31m-------------------------------------------------------------------------\u001b[0m",
      "\u001b[0;31mKeyboardInterrupt\u001b[0m                       Traceback (most recent call last)",
      "\u001b[0;32m<ipython-input-129-89832fae28d4>\u001b[0m in \u001b[0;36m<module>\u001b[0;34m\u001b[0m\n\u001b[1;32m     16\u001b[0m           \u001b[0mshuffle\u001b[0m\u001b[0;34m=\u001b[0m\u001b[0;32mTrue\u001b[0m\u001b[0;34m,\u001b[0m\u001b[0;34m\u001b[0m\u001b[0;34m\u001b[0m\u001b[0m\n\u001b[1;32m     17\u001b[0m           \u001b[0mbatch_size\u001b[0m\u001b[0;34m=\u001b[0m\u001b[0;36m128\u001b[0m\u001b[0;34m,\u001b[0m\u001b[0;34m\u001b[0m\u001b[0;34m\u001b[0m\u001b[0m\n\u001b[0;32m---> 18\u001b[0;31m           epochs=100);\n\u001b[0m\u001b[1;32m     19\u001b[0m \u001b[0;34m\u001b[0m\u001b[0m\n\u001b[1;32m     20\u001b[0m \u001b[0mvalues\u001b[0m \u001b[0;34m=\u001b[0m \u001b[0mmodel\u001b[0m\u001b[0;34m.\u001b[0m\u001b[0mpredict\u001b[0m\u001b[0;34m(\u001b[0m\u001b[0mtestx\u001b[0m\u001b[0;34m[\u001b[0m\u001b[0;34m:\u001b[0m\u001b[0;36m10\u001b[0m\u001b[0;34m]\u001b[0m\u001b[0;34m)\u001b[0m\u001b[0;34m\u001b[0m\u001b[0;34m\u001b[0m\u001b[0m\n",
      "\u001b[0;32m~usr/local/lib/python3.6/dist-packages/tensorflow_core/python/keras/engine/training.py\u001b[0m in \u001b[0;36mfit\u001b[0;34m(self, x, y, batch_size, epochs, verbose, callbacks, validation_split, validation_data, shuffle, class_weight, sample_weight, initial_epoch, steps_per_epoch, validation_steps, validation_freq, max_queue_size, workers, use_multiprocessing, **kwargs)\u001b[0m\n\u001b[1;32m    726\u001b[0m         \u001b[0mmax_queue_size\u001b[0m\u001b[0;34m=\u001b[0m\u001b[0mmax_queue_size\u001b[0m\u001b[0;34m,\u001b[0m\u001b[0;34m\u001b[0m\u001b[0;34m\u001b[0m\u001b[0m\n\u001b[1;32m    727\u001b[0m         \u001b[0mworkers\u001b[0m\u001b[0;34m=\u001b[0m\u001b[0mworkers\u001b[0m\u001b[0;34m,\u001b[0m\u001b[0;34m\u001b[0m\u001b[0;34m\u001b[0m\u001b[0m\n\u001b[0;32m--> 728\u001b[0;31m         use_multiprocessing=use_multiprocessing)\n\u001b[0m\u001b[1;32m    729\u001b[0m \u001b[0;34m\u001b[0m\u001b[0m\n\u001b[1;32m    730\u001b[0m   def evaluate(self,\n",
      "\u001b[0;32m~usr/local/lib/python3.6/dist-packages/tensorflow_core/python/keras/engine/training_v2.py\u001b[0m in \u001b[0;36mfit\u001b[0;34m(self, model, x, y, batch_size, epochs, verbose, callbacks, validation_split, validation_data, shuffle, class_weight, sample_weight, initial_epoch, steps_per_epoch, validation_steps, validation_freq, **kwargs)\u001b[0m\n\u001b[1;32m    322\u001b[0m                 \u001b[0mmode\u001b[0m\u001b[0;34m=\u001b[0m\u001b[0mModeKeys\u001b[0m\u001b[0;34m.\u001b[0m\u001b[0mTRAIN\u001b[0m\u001b[0;34m,\u001b[0m\u001b[0;34m\u001b[0m\u001b[0;34m\u001b[0m\u001b[0m\n\u001b[1;32m    323\u001b[0m                 \u001b[0mtraining_context\u001b[0m\u001b[0;34m=\u001b[0m\u001b[0mtraining_context\u001b[0m\u001b[0;34m,\u001b[0m\u001b[0;34m\u001b[0m\u001b[0;34m\u001b[0m\u001b[0m\n\u001b[0;32m--> 324\u001b[0;31m                 total_epochs=epochs)\n\u001b[0m\u001b[1;32m    325\u001b[0m             \u001b[0mcbks\u001b[0m\u001b[0;34m.\u001b[0m\u001b[0mmake_logs\u001b[0m\u001b[0;34m(\u001b[0m\u001b[0mmodel\u001b[0m\u001b[0;34m,\u001b[0m \u001b[0mepoch_logs\u001b[0m\u001b[0;34m,\u001b[0m \u001b[0mtraining_result\u001b[0m\u001b[0;34m,\u001b[0m \u001b[0mModeKeys\u001b[0m\u001b[0;34m.\u001b[0m\u001b[0mTRAIN\u001b[0m\u001b[0;34m)\u001b[0m\u001b[0;34m\u001b[0m\u001b[0;34m\u001b[0m\u001b[0m\n\u001b[1;32m    326\u001b[0m \u001b[0;34m\u001b[0m\u001b[0m\n",
      "\u001b[0;32m~usr/local/lib/python3.6/dist-packages/tensorflow_core/python/keras/engine/training_v2.py\u001b[0m in \u001b[0;36mrun_one_epoch\u001b[0;34m(model, iterator, execution_function, dataset_size, batch_size, strategy, steps_per_epoch, num_samples, mode, training_context, total_epochs)\u001b[0m\n\u001b[1;32m    121\u001b[0m         step=step, mode=mode, size=current_batch_size) as batch_logs:\n\u001b[1;32m    122\u001b[0m       \u001b[0;32mtry\u001b[0m\u001b[0;34m:\u001b[0m\u001b[0;34m\u001b[0m\u001b[0;34m\u001b[0m\u001b[0m\n\u001b[0;32m--> 123\u001b[0;31m         \u001b[0mbatch_outs\u001b[0m \u001b[0;34m=\u001b[0m \u001b[0mexecution_function\u001b[0m\u001b[0;34m(\u001b[0m\u001b[0miterator\u001b[0m\u001b[0;34m)\u001b[0m\u001b[0;34m\u001b[0m\u001b[0;34m\u001b[0m\u001b[0m\n\u001b[0m\u001b[1;32m    124\u001b[0m       \u001b[0;32mexcept\u001b[0m \u001b[0;34m(\u001b[0m\u001b[0mStopIteration\u001b[0m\u001b[0;34m,\u001b[0m \u001b[0merrors\u001b[0m\u001b[0;34m.\u001b[0m\u001b[0mOutOfRangeError\u001b[0m\u001b[0;34m)\u001b[0m\u001b[0;34m:\u001b[0m\u001b[0;34m\u001b[0m\u001b[0;34m\u001b[0m\u001b[0m\n\u001b[1;32m    125\u001b[0m         \u001b[0;31m# TODO(kaftan): File bug about tf function and errors.OutOfRangeError?\u001b[0m\u001b[0;34m\u001b[0m\u001b[0;34m\u001b[0m\u001b[0;34m\u001b[0m\u001b[0m\n",
      "\u001b[0;32m~usr/local/lib/python3.6/dist-packages/tensorflow_core/python/keras/engine/training_v2_utils.py\u001b[0m in \u001b[0;36mexecution_function\u001b[0;34m(input_fn)\u001b[0m\n\u001b[1;32m     84\u001b[0m     \u001b[0;31m# `numpy` translates Tensors to values in Eager mode.\u001b[0m\u001b[0;34m\u001b[0m\u001b[0;34m\u001b[0m\u001b[0;34m\u001b[0m\u001b[0m\n\u001b[1;32m     85\u001b[0m     return nest.map_structure(_non_none_constant_value,\n\u001b[0;32m---> 86\u001b[0;31m                               distributed_function(input_fn))\n\u001b[0m\u001b[1;32m     87\u001b[0m \u001b[0;34m\u001b[0m\u001b[0m\n\u001b[1;32m     88\u001b[0m   \u001b[0;32mreturn\u001b[0m \u001b[0mexecution_function\u001b[0m\u001b[0;34m\u001b[0m\u001b[0;34m\u001b[0m\u001b[0m\n",
      "\u001b[0;32m~usr/local/lib/python3.6/dist-packages/tensorflow_core/python/eager/def_function.py\u001b[0m in \u001b[0;36m__call__\u001b[0;34m(self, *args, **kwds)\u001b[0m\n\u001b[1;32m    455\u001b[0m \u001b[0;34m\u001b[0m\u001b[0m\n\u001b[1;32m    456\u001b[0m     \u001b[0mtracing_count\u001b[0m \u001b[0;34m=\u001b[0m \u001b[0mself\u001b[0m\u001b[0;34m.\u001b[0m\u001b[0m_get_tracing_count\u001b[0m\u001b[0;34m(\u001b[0m\u001b[0;34m)\u001b[0m\u001b[0;34m\u001b[0m\u001b[0;34m\u001b[0m\u001b[0m\n\u001b[0;32m--> 457\u001b[0;31m     \u001b[0mresult\u001b[0m \u001b[0;34m=\u001b[0m \u001b[0mself\u001b[0m\u001b[0;34m.\u001b[0m\u001b[0m_call\u001b[0m\u001b[0;34m(\u001b[0m\u001b[0;34m*\u001b[0m\u001b[0margs\u001b[0m\u001b[0;34m,\u001b[0m \u001b[0;34m**\u001b[0m\u001b[0mkwds\u001b[0m\u001b[0;34m)\u001b[0m\u001b[0;34m\u001b[0m\u001b[0;34m\u001b[0m\u001b[0m\n\u001b[0m\u001b[1;32m    458\u001b[0m     \u001b[0;32mif\u001b[0m \u001b[0mtracing_count\u001b[0m \u001b[0;34m==\u001b[0m \u001b[0mself\u001b[0m\u001b[0;34m.\u001b[0m\u001b[0m_get_tracing_count\u001b[0m\u001b[0;34m(\u001b[0m\u001b[0;34m)\u001b[0m\u001b[0;34m:\u001b[0m\u001b[0;34m\u001b[0m\u001b[0;34m\u001b[0m\u001b[0m\n\u001b[1;32m    459\u001b[0m       \u001b[0mself\u001b[0m\u001b[0;34m.\u001b[0m\u001b[0m_call_counter\u001b[0m\u001b[0;34m.\u001b[0m\u001b[0mcalled_without_tracing\u001b[0m\u001b[0;34m(\u001b[0m\u001b[0;34m)\u001b[0m\u001b[0;34m\u001b[0m\u001b[0;34m\u001b[0m\u001b[0m\n",
      "\u001b[0;32m~usr/local/lib/python3.6/dist-packages/tensorflow_core/python/eager/def_function.py\u001b[0m in \u001b[0;36m_call\u001b[0;34m(self, *args, **kwds)\u001b[0m\n\u001b[1;32m    485\u001b[0m       \u001b[0;31m# In this case we have created variables on the first call, so we run the\u001b[0m\u001b[0;34m\u001b[0m\u001b[0;34m\u001b[0m\u001b[0;34m\u001b[0m\u001b[0m\n\u001b[1;32m    486\u001b[0m       \u001b[0;31m# defunned version which is guaranteed to never create variables.\u001b[0m\u001b[0;34m\u001b[0m\u001b[0;34m\u001b[0m\u001b[0;34m\u001b[0m\u001b[0m\n\u001b[0;32m--> 487\u001b[0;31m       \u001b[0;32mreturn\u001b[0m \u001b[0mself\u001b[0m\u001b[0;34m.\u001b[0m\u001b[0m_stateless_fn\u001b[0m\u001b[0;34m(\u001b[0m\u001b[0;34m*\u001b[0m\u001b[0margs\u001b[0m\u001b[0;34m,\u001b[0m \u001b[0;34m**\u001b[0m\u001b[0mkwds\u001b[0m\u001b[0;34m)\u001b[0m  \u001b[0;31m# pylint: disable=not-callable\u001b[0m\u001b[0;34m\u001b[0m\u001b[0;34m\u001b[0m\u001b[0m\n\u001b[0m\u001b[1;32m    488\u001b[0m     \u001b[0;32melif\u001b[0m \u001b[0mself\u001b[0m\u001b[0;34m.\u001b[0m\u001b[0m_stateful_fn\u001b[0m \u001b[0;32mis\u001b[0m \u001b[0;32mnot\u001b[0m \u001b[0;32mNone\u001b[0m\u001b[0;34m:\u001b[0m\u001b[0;34m\u001b[0m\u001b[0;34m\u001b[0m\u001b[0m\n\u001b[1;32m    489\u001b[0m       \u001b[0;31m# Release the lock early so that multiple threads can perform the call\u001b[0m\u001b[0;34m\u001b[0m\u001b[0;34m\u001b[0m\u001b[0;34m\u001b[0m\u001b[0m\n",
      "\u001b[0;32m~usr/local/lib/python3.6/dist-packages/tensorflow_core/python/eager/function.py\u001b[0m in \u001b[0;36m__call__\u001b[0;34m(self, *args, **kwargs)\u001b[0m\n\u001b[1;32m   1821\u001b[0m     \u001b[0;34m\"\"\"Calls a graph function specialized to the inputs.\"\"\"\u001b[0m\u001b[0;34m\u001b[0m\u001b[0;34m\u001b[0m\u001b[0m\n\u001b[1;32m   1822\u001b[0m     \u001b[0mgraph_function\u001b[0m\u001b[0;34m,\u001b[0m \u001b[0margs\u001b[0m\u001b[0;34m,\u001b[0m \u001b[0mkwargs\u001b[0m \u001b[0;34m=\u001b[0m \u001b[0mself\u001b[0m\u001b[0;34m.\u001b[0m\u001b[0m_maybe_define_function\u001b[0m\u001b[0;34m(\u001b[0m\u001b[0margs\u001b[0m\u001b[0;34m,\u001b[0m \u001b[0mkwargs\u001b[0m\u001b[0;34m)\u001b[0m\u001b[0;34m\u001b[0m\u001b[0;34m\u001b[0m\u001b[0m\n\u001b[0;32m-> 1823\u001b[0;31m     \u001b[0;32mreturn\u001b[0m \u001b[0mgraph_function\u001b[0m\u001b[0;34m.\u001b[0m\u001b[0m_filtered_call\u001b[0m\u001b[0;34m(\u001b[0m\u001b[0margs\u001b[0m\u001b[0;34m,\u001b[0m \u001b[0mkwargs\u001b[0m\u001b[0;34m)\u001b[0m  \u001b[0;31m# pylint: disable=protected-access\u001b[0m\u001b[0;34m\u001b[0m\u001b[0;34m\u001b[0m\u001b[0m\n\u001b[0m\u001b[1;32m   1824\u001b[0m \u001b[0;34m\u001b[0m\u001b[0m\n\u001b[1;32m   1825\u001b[0m   \u001b[0;34m@\u001b[0m\u001b[0mproperty\u001b[0m\u001b[0;34m\u001b[0m\u001b[0;34m\u001b[0m\u001b[0m\n",
      "\u001b[0;32m~usr/local/lib/python3.6/dist-packages/tensorflow_core/python/eager/function.py\u001b[0m in \u001b[0;36m_filtered_call\u001b[0;34m(self, args, kwargs)\u001b[0m\n\u001b[1;32m   1139\u001b[0m          if isinstance(t, (ops.Tensor,\n\u001b[1;32m   1140\u001b[0m                            resource_variable_ops.BaseResourceVariable))),\n\u001b[0;32m-> 1141\u001b[0;31m         self.captured_inputs)\n\u001b[0m\u001b[1;32m   1142\u001b[0m \u001b[0;34m\u001b[0m\u001b[0m\n\u001b[1;32m   1143\u001b[0m   \u001b[0;32mdef\u001b[0m \u001b[0m_call_flat\u001b[0m\u001b[0;34m(\u001b[0m\u001b[0mself\u001b[0m\u001b[0;34m,\u001b[0m \u001b[0margs\u001b[0m\u001b[0;34m,\u001b[0m \u001b[0mcaptured_inputs\u001b[0m\u001b[0;34m,\u001b[0m \u001b[0mcancellation_manager\u001b[0m\u001b[0;34m=\u001b[0m\u001b[0;32mNone\u001b[0m\u001b[0;34m)\u001b[0m\u001b[0;34m:\u001b[0m\u001b[0;34m\u001b[0m\u001b[0;34m\u001b[0m\u001b[0m\n",
      "\u001b[0;32m~usr/local/lib/python3.6/dist-packages/tensorflow_core/python/eager/function.py\u001b[0m in \u001b[0;36m_call_flat\u001b[0;34m(self, args, captured_inputs, cancellation_manager)\u001b[0m\n\u001b[1;32m   1222\u001b[0m     \u001b[0;32mif\u001b[0m \u001b[0mexecuting_eagerly\u001b[0m\u001b[0;34m:\u001b[0m\u001b[0;34m\u001b[0m\u001b[0;34m\u001b[0m\u001b[0m\n\u001b[1;32m   1223\u001b[0m       flat_outputs = forward_function.call(\n\u001b[0;32m-> 1224\u001b[0;31m           ctx, args, cancellation_manager=cancellation_manager)\n\u001b[0m\u001b[1;32m   1225\u001b[0m     \u001b[0;32melse\u001b[0m\u001b[0;34m:\u001b[0m\u001b[0;34m\u001b[0m\u001b[0;34m\u001b[0m\u001b[0m\n\u001b[1;32m   1226\u001b[0m       \u001b[0mgradient_name\u001b[0m \u001b[0;34m=\u001b[0m \u001b[0mself\u001b[0m\u001b[0;34m.\u001b[0m\u001b[0m_delayed_rewrite_functions\u001b[0m\u001b[0;34m.\u001b[0m\u001b[0mregister\u001b[0m\u001b[0;34m(\u001b[0m\u001b[0;34m)\u001b[0m\u001b[0;34m\u001b[0m\u001b[0;34m\u001b[0m\u001b[0m\n",
      "\u001b[0;32m~usr/local/lib/python3.6/dist-packages/tensorflow_core/python/eager/function.py\u001b[0m in \u001b[0;36mcall\u001b[0;34m(self, ctx, args, cancellation_manager)\u001b[0m\n\u001b[1;32m    509\u001b[0m               \u001b[0minputs\u001b[0m\u001b[0;34m=\u001b[0m\u001b[0margs\u001b[0m\u001b[0;34m,\u001b[0m\u001b[0;34m\u001b[0m\u001b[0;34m\u001b[0m\u001b[0m\n\u001b[1;32m    510\u001b[0m               \u001b[0mattrs\u001b[0m\u001b[0;34m=\u001b[0m\u001b[0;34m(\u001b[0m\u001b[0;34m\"executor_type\"\u001b[0m\u001b[0;34m,\u001b[0m \u001b[0mexecutor_type\u001b[0m\u001b[0;34m,\u001b[0m \u001b[0;34m\"config_proto\"\u001b[0m\u001b[0;34m,\u001b[0m \u001b[0mconfig\u001b[0m\u001b[0;34m)\u001b[0m\u001b[0;34m,\u001b[0m\u001b[0;34m\u001b[0m\u001b[0;34m\u001b[0m\u001b[0m\n\u001b[0;32m--> 511\u001b[0;31m               ctx=ctx)\n\u001b[0m\u001b[1;32m    512\u001b[0m         \u001b[0;32melse\u001b[0m\u001b[0;34m:\u001b[0m\u001b[0;34m\u001b[0m\u001b[0;34m\u001b[0m\u001b[0m\n\u001b[1;32m    513\u001b[0m           outputs = execute.execute_with_cancellation(\n",
      "\u001b[0;32m~usr/local/lib/python3.6/dist-packages/tensorflow_core/python/eager/execute.py\u001b[0m in \u001b[0;36mquick_execute\u001b[0;34m(op_name, num_outputs, inputs, attrs, ctx, name)\u001b[0m\n\u001b[1;32m     59\u001b[0m     tensors = pywrap_tensorflow.TFE_Py_Execute(ctx._handle, device_name,\n\u001b[1;32m     60\u001b[0m                                                \u001b[0mop_name\u001b[0m\u001b[0;34m,\u001b[0m \u001b[0minputs\u001b[0m\u001b[0;34m,\u001b[0m \u001b[0mattrs\u001b[0m\u001b[0;34m,\u001b[0m\u001b[0;34m\u001b[0m\u001b[0;34m\u001b[0m\u001b[0m\n\u001b[0;32m---> 61\u001b[0;31m                                                num_outputs)\n\u001b[0m\u001b[1;32m     62\u001b[0m   \u001b[0;32mexcept\u001b[0m \u001b[0mcore\u001b[0m\u001b[0;34m.\u001b[0m\u001b[0m_NotOkStatusException\u001b[0m \u001b[0;32mas\u001b[0m \u001b[0me\u001b[0m\u001b[0;34m:\u001b[0m\u001b[0;34m\u001b[0m\u001b[0;34m\u001b[0m\u001b[0m\n\u001b[1;32m     63\u001b[0m     \u001b[0;32mif\u001b[0m \u001b[0mname\u001b[0m \u001b[0;32mis\u001b[0m \u001b[0;32mnot\u001b[0m \u001b[0;32mNone\u001b[0m\u001b[0;34m:\u001b[0m\u001b[0;34m\u001b[0m\u001b[0;34m\u001b[0m\u001b[0m\n",
      "\u001b[0;31mKeyboardInterrupt\u001b[0m: "
     ]
    }
   ],
   "source": [
    "model = tf.keras.Sequential()\n",
    "model.add(keras.layers.Embedding(input_dim=64, output_dim=1))\n",
    "\n",
    "# Add a LSTM layer with 128 internal units.\n",
    "model.add(keras.layers.GRU(32))\n",
    "model.add(keras.layers.Dense(16, activation='relu'))\n",
    "model.add(keras.layers.Dropout(0.2))\n",
    "model.add(keras.layers.Dense(16, activation='softmax'))\n",
    "\n",
    "model.compile(loss='sparse_categorical_crossentropy',  \n",
    "              optimizer=keras.optimizers.SGD(lr=0.01, momentum=0.65, nesterov=True),\n",
    "              metrics=['sparse_categorical_accuracy'])\n",
    "\n",
    "history = model.fit(trainx, trainy,\n",
    "          validation_data=(testx, testy),\n",
    "          shuffle=True,\n",
    "          batch_size=128,\n",
    "          epochs=100);\n",
    "\n",
    "values = model.predict(testx[:10])"
   ]
  },
  {
   "cell_type": "code",
   "execution_count": 9,
   "metadata": {
    "scrolled": true
   },
   "outputs": [
    {
     "data": {
      "image/png": "[encoded data removed]",
      "text/plain": [
       "<Figure size 432x288 with 1 Axes>"
      ]
     },
     "metadata": {
      "needs_background": "light"
     },
     "output_type": "display_data"
    },
    {
     "data": {
      "image/png": "[encoded data removed]",
      "text/plain": [
       "<Figure size 432x288 with 1 Axes>"
      ]
     },
     "metadata": {
      "needs_background": "light"
     },
     "output_type": "display_data"
    }
   ],
   "source": [
    "pyplot.plot(history.history['loss'])\n",
    "pyplot.plot(history.history['val_loss'])\n",
    "pyplot.ylabel('loss')\n",
    "pyplot.xlabel('epoch')\n",
    "pyplot.legend(['train', 'validation'], loc='upper right')\n",
    "pyplot.show()\n",
    "\n",
    "pyplot.plot(history.history['sparse_categorical_accuracy'])\n",
    "pyplot.plot(history.history['val_sparse_categorical_accuracy'])\n",
    "pyplot.ylabel('sparse_categorical_accuracy')\n",
    "pyplot.xlabel('epoch')\n",
    "pyplot.legend(['train', 'validation'], loc='upper right')\n",
    "pyplot.show()\n"
   ]
  },
  {
   "cell_type": "code",
   "execution_count": 19,
   "metadata": {},
   "outputs": [
    {
     "data": {
      "text/html": [
       "\n",
       "      <iframe id=\"tensorboard-frame-51a793a0960e964f\" width=\"100%\" height=\"800\" frameborder=\"0\">\n",
       "      </iframe>\n",
       "      <script>\n",
       "        (function() {\n",
       "          const frame = document.getElementById(\"tensorboard-frame-51a793a0960e964f\");\n",
       "          const url = new URL(\"/\", window.location);\n",
       "          url.port = 6006;\n",
       "          frame.src = url;\n",
       "        })();\n",
       "      </script>\n",
       "  "
      ],
      "text/plain": [
       "<IPython.core.display.HTML object>"
      ]
     },
     "metadata": {},
     "output_type": "display_data"
    }
   ],
   "source": [
    " %tensorboard --logdir logs --bind_all"
   ]
  },
  {
   "cell_type": "markdown",
   "metadata": {},
   "source": [
    "Sparse_categorical_accuracy bola v obidvoch modeloch na hranici **25%**, pričom aj pri zmene hyperparametrov a architektúry nebolo možné dosiahnuť vyššiu presnosť. Vyššie popísané architektúry boli použité z toho dôvodu, lebo dokázali najlepšie minimalizovať loss funkciu(**na hodnotu 2**), pričom pri ostatných architektúrach bola táto hodnota **2,7**. "
   ]
  }
 ],
 "metadata": {
  "kernelspec": {
   "display_name": "Python 3",
   "language": "python",
   "name": "python3"
  },
  "language_info": {
   "codemirror_mode": {
    "name": "ipython",
    "version": 3
   },
   "file_extension": ".py",
   "mimetype": "text/x-python",
   "name": "python",
   "nbconvert_exporter": "python",
   "pygments_lexer": "ipython3",
   "version": "3.6.8"
  }
 },
 "nbformat": 4,
 "nbformat_minor": 4
}
