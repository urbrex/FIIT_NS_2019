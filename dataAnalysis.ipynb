{
 "cells": [
  {
   "cell_type": "code",
   "execution_count": 1,
   "metadata": {},
   "outputs": [],
   "source": [
    "import pandas as pd\n",
    "import numpy as np"
   ]
  },
  {
   "cell_type": "code",
   "execution_count": null,
   "metadata": {},
   "outputs": [],
   "source": []
  },
  {
   "cell_type": "code",
   "execution_count": 5,
   "metadata": {},
   "outputs": [],
   "source": [
    "gameInput = pd.read_csv(\"nhl-game-data/game.csv\")\n",
    "goalieInput = pd.read_csv(\"nhl-game-data/game_goalie_stats.csv\")\n",
    "# skaterStatsInput = pd.read_csv(\"nhl-game-data/game_skater_stats.csv\")\n",
    "# teamsStatsInput = pd.read_csv(\"nhl-game-data/game_teams_stats.csv\")\n",
    "# teamInfoInput = pd.read_csv(\"nhl-game-data/team_info.csv\")"
   ]
  },
  {
   "cell_type": "markdown",
   "metadata": {},
   "source": [
    "Table Game - tabuľka obsahujúca základné dáta o zápasoch"
   ]
  },
  {
   "cell_type": "code",
   "execution_count": 7,
   "metadata": {},
   "outputs": [
    {
     "name": "stdout",
     "output_type": "stream",
     "text": [
      "<class 'pandas.core.frame.DataFrame'>\n",
      "RangeIndex: 11434 entries, 0 to 11433\n",
      "Data columns (total 16 columns):\n",
      "game_id                   11434 non-null int64\n",
      "season                    11434 non-null int64\n",
      "type                      11434 non-null object\n",
      "date_time                 11434 non-null object\n",
      "date_time_GMT             11434 non-null object\n",
      "away_team_id              11434 non-null int64\n",
      "home_team_id              11434 non-null int64\n",
      "away_goals                11434 non-null int64\n",
      "home_goals                11434 non-null int64\n",
      "outcome                   11434 non-null object\n",
      "home_rink_side_start      11140 non-null object\n",
      "venue                     11434 non-null object\n",
      "venue_link                11434 non-null object\n",
      "venue_time_zone_id        11434 non-null object\n",
      "venue_time_zone_offset    11434 non-null int64\n",
      "venue_time_zone_tz        11434 non-null object\n",
      "dtypes: int64(7), object(9)\n",
      "memory usage: 1.4+ MB\n",
      "None\n"
     ]
    }
   ],
   "source": [
    "print(gameInput.info())"
   ]
  },
  {
   "cell_type": "markdown",
   "metadata": {},
   "source": [
    "Ako vidíme, tak iba jeden stĺpec obsahuje hodnoty NaN, a mi ho ani nebudeme používať, tak ho odstránime.\n",
    "Keďže budeme využívať viacero\n"
   ]
  },
  {
   "cell_type": "code",
   "execution_count": null,
   "metadata": {},
   "outputs": [],
   "source": []
  }
 ],
 "metadata": {
  "kernelspec": {
   "display_name": "Python 3",
   "language": "python",
   "name": "python3"
  },
  "language_info": {
   "codemirror_mode": {
    "name": "ipython",
    "version": 3
   },
   "file_extension": ".py",
   "mimetype": "text/x-python",
   "name": "python",
   "nbconvert_exporter": "python",
   "pygments_lexer": "ipython3",
   "version": "3.7.4"
  }
 },
 "nbformat": 4,
 "nbformat_minor": 4
}
