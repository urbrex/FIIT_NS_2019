{
 "cells": [
  {
   "cell_type": "code",
   "execution_count": 2,
   "metadata": {},
   "outputs": [],
   "source": [
    "\"\"\"\n",
    "You need to run this cell for the code in following cells to work.\n",
    "\"\"\"\n",
    "\n",
    "# Enable module reloading\n",
    "%load_ext autoreload\n",
    "%autoreload 2\n",
    "\n",
    "%load_ext tensorboard\n",
    "\n",
    "import datetime\n",
    "import os\n",
    "import sys\n",
    "sys.path.append('..')\n",
    "\n",
    "import tensorflow as tf\n",
    "import tensorflow.keras as keras\n",
    "import numpy as np\n",
    "from matplotlib import pyplot\n"
   ]
  },
  {
   "cell_type": "code",
   "execution_count": 141,
   "metadata": {},
   "outputs": [],
   "source": [
    "testx = np.genfromtxt('./datasets/dataSet1TestX1.csv', delimiter=',')[1:]\n",
    "testy = np.genfromtxt('./datasets/dataSet1TestY1.csv', delimiter=',')\n",
    "\n",
    "trainx = np.genfromtxt('./datasets/dataSet1TrainX1.csv', delimiter=',')[1:]\n",
    "trainy = np.genfromtxt('./datasets/dataSet1TrainY1.csv', delimiter=',')"
   ]
  },
  {
   "cell_type": "code",
   "execution_count": 71,
   "metadata": {},
   "outputs": [],
   "source": [
    "testx = np.genfromtxt('./datasets/dataSet1TestX2.csv', delimiter=',')[1:]\n",
    "testy = np.genfromtxt('./datasets/dataSet1TestY2.csv', delimiter=',')\n",
    "\n",
    "trainx = np.genfromtxt('./datasets/dataSet1TrainX2.csv', delimiter=',')[1:]\n",
    "trainy = np.genfromtxt('./datasets/dataSet1TrainY2.csv', delimiter=',')"
   ]
  },
  {
   "cell_type": "code",
   "execution_count": 32,
   "metadata": {},
   "outputs": [],
   "source": [
    "testx = np.genfromtxt('./datasets/dataSet1TestX.csv', delimiter=',')[1:]\n",
    "testy = np.genfromtxt('./datasets/dataSet1TestY.csv', delimiter=',')\n",
    "\n",
    "trainx = np.genfromtxt('./datasets/dataSet1TrainX.csv', delimiter=',')[1:]\n",
    "trainy = np.genfromtxt('./datasets/dataSet1TrainY.csv', delimiter=',')"
   ]
  },
  {
   "cell_type": "code",
   "execution_count": 126,
   "metadata": {},
   "outputs": [],
   "source": [
    "testx = np.genfromtxt('./datasets/dataSet2TestX.csv', delimiter=',')[1:]\n",
    "testy = np.genfromtxt('./datasets/dataSet2TestY.csv', delimiter=',')\n",
    "\n",
    "trainx = np.genfromtxt('./datasets/dataSet2TrainX.csv', delimiter=',')[1:]\n",
    "trainy = np.genfromtxt('./datasets/dataSet2TrainY.csv', delimiter=',')"
   ]
  },
  {
   "cell_type": "code",
   "execution_count": 3,
   "metadata": {},
   "outputs": [],
   "source": [
    "testx = np.genfromtxt('./datasets/dataSet3TestX.csv', delimiter=',')[1:]\n",
    "testy = np.genfromtxt('./datasets/dataSet3TestY.csv', delimiter=',')\n",
    "\n",
    "trainx = np.genfromtxt('./datasets/dataSet3TrainX.csv', delimiter=',')[1:]\n",
    "trainy = np.genfromtxt('./datasets/dataSet3TrainY.csv', delimiter=',')"
   ]
  },
  {
   "cell_type": "code",
   "execution_count": null,
   "metadata": {},
   "outputs": [],
   "source": []
  },
  {
   "cell_type": "code",
   "execution_count": 132,
   "metadata": {},
   "outputs": [],
   "source": [
    "trainx = trainx[:3]\n",
    "trainy = trainy[:3]\n",
    "testx = testx[:3]\n",
    "testy = testy[:3]"
   ]
  },
  {
   "cell_type": "code",
   "execution_count": 4,
   "metadata": {},
   "outputs": [
    {
     "data": {
      "text/plain": [
       "array([[0. , 2. , 0. , ..., 2.2, 6. , 5. ],\n",
       "       [1. , 2. , 1. , ..., 3.7, 6. , 4. ],\n",
       "       [0. , 1. , 0. , ..., 3. , 6. , 5. ],\n",
       "       ...,\n",
       "       [3. , 0. , 1. , ..., 2.6, 7. , 6. ],\n",
       "       [6. , 5. , 1. , ..., 2.9, 6. , 7. ],\n",
       "       [3. , 0. , 1. , ..., 2.5, 7. , 6. ]])"
      ]
     },
     "execution_count": 4,
     "metadata": {},
     "output_type": "execute_result"
    }
   ],
   "source": [
    "trainx"
   ]
  },
  {
   "cell_type": "code",
   "execution_count": 140,
   "metadata": {},
   "outputs": [
    {
     "data": {
      "text/plain": [
       "(8491, 32)"
      ]
     },
     "execution_count": 140,
     "metadata": {},
     "output_type": "execute_result"
    }
   ],
   "source": [
    "trainx.shape"
   ]
  },
  {
   "cell_type": "code",
   "execution_count": 122,
   "metadata": {},
   "outputs": [
    {
     "data": {
      "text/plain": [
       "(8491,)"
      ]
     },
     "execution_count": 122,
     "metadata": {},
     "output_type": "execute_result"
    }
   ],
   "source": [
    "trainy.shape"
   ]
  },
  {
   "cell_type": "code",
   "execution_count": 5,
   "metadata": {},
   "outputs": [
    {
     "name": "stdout",
     "output_type": "stream",
     "text": [
      "Train on 8491 samples, validate on 1358 samples\n",
      "Epoch 1/30\n",
      "8491/8491 [==============================] - 5s 561us/sample - loss: 2.7029 - sparse_categorical_accuracy: 0.2447 - val_loss: 2.6457 - val_sparse_categorical_accuracy: 0.2172\n",
      "Epoch 2/30\n",
      "8491/8491 [==============================] - 1s 166us/sample - loss: 2.5761 - sparse_categorical_accuracy: 0.2500 - val_loss: 2.5374 - val_sparse_categorical_accuracy: 0.2172\n",
      "Epoch 3/30\n",
      "8491/8491 [==============================] - 2s 179us/sample - loss: 2.4651 - sparse_categorical_accuracy: 0.2500 - val_loss: 2.4437 - val_sparse_categorical_accuracy: 0.2172\n",
      "Epoch 4/30\n",
      "8491/8491 [==============================] - 2s 206us/sample - loss: 2.3701 - sparse_categorical_accuracy: 0.2500 - val_loss: 2.3670 - val_sparse_categorical_accuracy: 0.2172\n",
      "Epoch 5/30\n",
      "8491/8491 [==============================] - 2s 178us/sample - loss: 2.2952 - sparse_categorical_accuracy: 0.2500 - val_loss: 2.3100 - val_sparse_categorical_accuracy: 0.2172\n",
      "Epoch 6/30\n",
      "8491/8491 [==============================] - 1s 176us/sample - loss: 2.2418 - sparse_categorical_accuracy: 0.2500 - val_loss: 2.2718 - val_sparse_categorical_accuracy: 0.2172\n",
      "Epoch 7/30\n",
      "8491/8491 [==============================] - 2s 187us/sample - loss: 2.2061 - sparse_categorical_accuracy: 0.2500 - val_loss: 2.2470 - val_sparse_categorical_accuracy: 0.2172\n",
      "Epoch 8/30\n",
      "8491/8491 [==============================] - 2s 183us/sample - loss: 2.1827 - sparse_categorical_accuracy: 0.2500 - val_loss: 2.2318 - val_sparse_categorical_accuracy: 0.2172\n",
      "Epoch 9/30\n",
      "8491/8491 [==============================] - 2s 180us/sample - loss: 2.1673 - sparse_categorical_accuracy: 0.2500 - val_loss: 2.2209 - val_sparse_categorical_accuracy: 0.2172\n",
      "Epoch 10/30\n",
      "8491/8491 [==============================] - 2s 179us/sample - loss: 2.1564 - sparse_categorical_accuracy: 0.2500 - val_loss: 2.2144 - val_sparse_categorical_accuracy: 0.2172\n",
      "Epoch 11/30\n",
      "8491/8491 [==============================] - 2s 184us/sample - loss: 2.1486 - sparse_categorical_accuracy: 0.2500 - val_loss: 2.2087 - val_sparse_categorical_accuracy: 0.2172\n",
      "Epoch 12/30\n",
      "8491/8491 [==============================] - 2s 184us/sample - loss: 2.1427 - sparse_categorical_accuracy: 0.2500 - val_loss: 2.2053 - val_sparse_categorical_accuracy: 0.2172\n",
      "Epoch 13/30\n",
      "8491/8491 [==============================] - 2s 178us/sample - loss: 2.1382 - sparse_categorical_accuracy: 0.2500 - val_loss: 2.2023 - val_sparse_categorical_accuracy: 0.2172\n",
      "Epoch 14/30\n",
      "8491/8491 [==============================] - 1s 176us/sample - loss: 2.1347 - sparse_categorical_accuracy: 0.2500 - val_loss: 2.2006 - val_sparse_categorical_accuracy: 0.2172\n",
      "Epoch 15/30\n",
      "8491/8491 [==============================] - 2s 189us/sample - loss: 2.1318 - sparse_categorical_accuracy: 0.2500 - val_loss: 2.2006 - val_sparse_categorical_accuracy: 0.2172\n",
      "Epoch 16/30\n",
      "8491/8491 [==============================] - 2s 190us/sample - loss: 2.1295 - sparse_categorical_accuracy: 0.2500 - val_loss: 2.1996 - val_sparse_categorical_accuracy: 0.2172\n",
      "Epoch 17/30\n",
      "8491/8491 [==============================] - 2s 182us/sample - loss: 2.1276 - sparse_categorical_accuracy: 0.2500 - val_loss: 2.1984 - val_sparse_categorical_accuracy: 0.2172\n",
      "Epoch 18/30\n",
      "8491/8491 [==============================] - 2s 180us/sample - loss: 2.1260 - sparse_categorical_accuracy: 0.2500 - val_loss: 2.1977 - val_sparse_categorical_accuracy: 0.2172\n",
      "Epoch 19/30\n",
      "8491/8491 [==============================] - 2s 192us/sample - loss: 2.1245 - sparse_categorical_accuracy: 0.2500 - val_loss: 2.1982 - val_sparse_categorical_accuracy: 0.2172\n",
      "Epoch 20/30\n",
      "8491/8491 [==============================] - 2s 195us/sample - loss: 2.1232 - sparse_categorical_accuracy: 0.2500 - val_loss: 2.1978 - val_sparse_categorical_accuracy: 0.2172\n",
      "Epoch 21/30\n",
      "8491/8491 [==============================] - 2s 182us/sample - loss: 2.1223 - sparse_categorical_accuracy: 0.2500 - val_loss: 2.1963 - val_sparse_categorical_accuracy: 0.2172\n",
      "Epoch 22/30\n",
      "8491/8491 [==============================] - 2s 210us/sample - loss: 2.1214 - sparse_categorical_accuracy: 0.2500 - val_loss: 2.1969 - val_sparse_categorical_accuracy: 0.2172\n",
      "Epoch 23/30\n",
      "8491/8491 [==============================] - 2s 235us/sample - loss: 2.1205 - sparse_categorical_accuracy: 0.2500 - val_loss: 2.1971 - val_sparse_categorical_accuracy: 0.2172\n",
      "Epoch 24/30\n",
      "8491/8491 [==============================] - 2s 184us/sample - loss: 2.1199 - sparse_categorical_accuracy: 0.2500 - val_loss: 2.1970 - val_sparse_categorical_accuracy: 0.2172\n",
      "Epoch 25/30\n",
      "8491/8491 [==============================] - 2s 185us/sample - loss: 2.1192 - sparse_categorical_accuracy: 0.2500 - val_loss: 2.1963 - val_sparse_categorical_accuracy: 0.2172\n",
      "Epoch 26/30\n",
      "8491/8491 [==============================] - 2s 229us/sample - loss: 2.1187 - sparse_categorical_accuracy: 0.2500 - val_loss: 2.1965 - val_sparse_categorical_accuracy: 0.2172\n",
      "Epoch 27/30\n",
      "8491/8491 [==============================] - 2s 191us/sample - loss: 2.1181 - sparse_categorical_accuracy: 0.2500 - val_loss: 2.1967 - val_sparse_categorical_accuracy: 0.2172\n",
      "Epoch 28/30\n",
      "8491/8491 [==============================] - 2s 187us/sample - loss: 2.1177 - sparse_categorical_accuracy: 0.2500 - val_loss: 2.1957 - val_sparse_categorical_accuracy: 0.2172\n",
      "Epoch 29/30\n",
      "8491/8491 [==============================] - 2s 251us/sample - loss: 2.1171 - sparse_categorical_accuracy: 0.2500 - val_loss: 2.1961 - val_sparse_categorical_accuracy: 0.2172\n",
      "Epoch 30/30\n",
      "8491/8491 [==============================] - 2s 194us/sample - loss: 2.1169 - sparse_categorical_accuracy: 0.2500 - val_loss: 2.1957 - val_sparse_categorical_accuracy: 0.2172\n"
     ]
    }
   ],
   "source": [
    "model = tf.keras.Sequential()\n",
    "model.add(keras.layers.Embedding(input_dim=64, output_dim=1))\n",
    "\n",
    "model.add(keras.layers.GRU(32))\n",
    "\n",
    "model.add(keras.layers.Dense(16, activation='softmax'))\n",
    "\n",
    "model.compile(loss='sparse_categorical_crossentropy', \n",
    "              optimizer=keras.optimizers.SGD(lr=0.01),\n",
    "              metrics=['sparse_categorical_accuracy'])\n",
    "\n",
    "history = model.fit(trainx, trainy,\n",
    "          validation_data=(testx, testy),\n",
    "          batch_size=100,\n",
    "          epochs=30)\n",
    "\n",
    "\n",
    "\n"
   ]
  },
  {
   "cell_type": "code",
   "execution_count": 117,
   "metadata": {},
   "outputs": [
    {
     "data": {
      "text/plain": [
       "array([[0.06238456, 0.06000677, 0.078821  , 0.06918435, 0.05643553,\n",
       "        0.07335692, 0.06363277, 0.05806257, 0.05761166, 0.05708838,\n",
       "        0.06282649, 0.05898436, 0.0568665 , 0.06394451, 0.06152151,\n",
       "        0.0592721 ],\n",
       "       [0.06244522, 0.06016866, 0.07859089, 0.06933583, 0.05641425,\n",
       "        0.07336085, 0.06387857, 0.05815759, 0.05772352, 0.0570215 ,\n",
       "        0.06272518, 0.05876366, 0.05681852, 0.06376936, 0.06155202,\n",
       "        0.05927436],\n",
       "       [0.06242387, 0.06008409, 0.07867896, 0.06929895, 0.05640421,\n",
       "        0.07336645, 0.06378859, 0.05812356, 0.05768584, 0.05705557,\n",
       "        0.06276112, 0.0588283 , 0.0568504 , 0.06385017, 0.06154216,\n",
       "        0.0592578 ]], dtype=float32)"
      ]
     },
     "execution_count": 117,
     "metadata": {},
     "output_type": "execute_result"
    }
   ],
   "source": [
    "values = model.predict(trainx)\n",
    "values[:5]"
   ]
  },
  {
   "cell_type": "code",
   "execution_count": 114,
   "metadata": {},
   "outputs": [
    {
     "data": {
      "text/plain": [
       "array([2., 3., 5.])"
      ]
     },
     "execution_count": 114,
     "metadata": {},
     "output_type": "execute_result"
    }
   ],
   "source": [
    "trainy[:20]"
   ]
  },
  {
   "cell_type": "code",
   "execution_count": 39,
   "metadata": {},
   "outputs": [
    {
     "name": "stdout",
     "output_type": "stream",
     "text": [
      "[2.2443318430467296, 2.120533879713369, 2.120235447730718, 2.119998530193451, 2.119074585072863, 2.1166765267244627, 2.1179072624686555, 2.1167973264087276, 2.115801502125089, 2.1145174901411883, 2.114981665441071, 2.1154392430512603, 2.1143915604189245, 2.1136991255079987, 2.1134401703342407, 2.114426835406858, 2.1128386148740073, 2.112011131920096, 2.11222652745694, 2.11145498935771]\n"
     ]
    }
   ],
   "source": [
    "print(history.history['loss'])"
   ]
  },
  {
   "cell_type": "code",
   "execution_count": 36,
   "metadata": {},
   "outputs": [
    {
     "data": {
      "text/plain": [
       "[<matplotlib.lines.Line2D at 0x7f632854b2e8>]"
      ]
     },
     "execution_count": 36,
     "metadata": {},
     "output_type": "execute_result"
    },
    {
     "data": {
      "image/png": "[encoded data removed]",
      "text/plain": [
       "<Figure size 432x288 with 1 Axes>"
      ]
     },
     "metadata": {
      "needs_background": "light"
     },
     "output_type": "display_data"
    }
   ],
   "source": [
    "pyplot.plot(history.history['loss'])"
   ]
  },
  {
   "cell_type": "code",
   "execution_count": 143,
   "metadata": {},
   "outputs": [
    {
     "data": {
      "image/png": "[encoded data removed]",
      "text/plain": [
       "<Figure size 432x288 with 1 Axes>"
      ]
     },
     "metadata": {
      "needs_background": "light"
     },
     "output_type": "display_data"
    }
   ],
   "source": [
    "pyplot.plot(history.history['loss'])\n",
    "pyplot.plot(history.history['val_loss'])\n",
    "pyplot.ylabel('loss')\n",
    "pyplot.xlabel('epoch')\n",
    "pyplot.legend(['train', 'validation'], loc='upper right')\n",
    "pyplot.show()"
   ]
  },
  {
   "cell_type": "code",
   "execution_count": 144,
   "metadata": {},
   "outputs": [
    {
     "data": {
      "image/png": "[encoded data removed]",
      "text/plain": [
       "<Figure size 432x288 with 1 Axes>"
      ]
     },
     "metadata": {
      "needs_background": "light"
     },
     "output_type": "display_data"
    }
   ],
   "source": [
    "pyplot.plot(history.history['sparse_categorical_accuracy'])\n",
    "pyplot.plot(history.history['val_sparse_categorical_accuracy'])\n",
    "pyplot.ylabel('sparse_categorical_accuracy')\n",
    "pyplot.xlabel('epoch')\n",
    "pyplot.legend(['train', 'validation'], loc='upper right')\n",
    "pyplot.show()"
   ]
  },
  {
   "cell_type": "code",
   "execution_count": 9,
   "metadata": {},
   "outputs": [
    {
     "ename": "AttributeError",
     "evalue": "'dict' object has no attribute 'predict'",
     "output_type": "error",
     "traceback": [
      "\u001b[0;31m---------------------------------------------------------------------------\u001b[0m",
      "\u001b[0;31mAttributeError\u001b[0m                            Traceback (most recent call last)",
      "\u001b[0;32m<ipython-input-9-14a2976ab7fc>\u001b[0m in \u001b[0;36m<module>\u001b[0;34m\u001b[0m\n\u001b[0;32m----> 1\u001b[0;31m \u001b[0mhistory\u001b[0m\u001b[0;34m.\u001b[0m\u001b[0mhistory\u001b[0m\u001b[0;34m.\u001b[0m\u001b[0mpredict\u001b[0m\u001b[0;34m(\u001b[0m\u001b[0mtestx\u001b[0m\u001b[0;34m[\u001b[0m\u001b[0;34m:\u001b[0m\u001b[0;36m3\u001b[0m\u001b[0;34m]\u001b[0m\u001b[0;34m)\u001b[0m\u001b[0;34m\u001b[0m\u001b[0;34m\u001b[0m\u001b[0m\n\u001b[0m",
      "\u001b[0;31mAttributeError\u001b[0m: 'dict' object has no attribute 'predict'"
     ]
    }
   ],
   "source": [
    "history.history.predict(testx[:3])"
   ]
  }
 ],
 "metadata": {
  "kernelspec": {
   "display_name": "Python 3",
   "language": "python",
   "name": "python3"
  },
  "language_info": {
   "codemirror_mode": {
    "name": "ipython",
    "version": 3
   },
   "file_extension": ".py",
   "mimetype": "text/x-python",
   "name": "python",
   "nbconvert_exporter": "python",
   "pygments_lexer": "ipython3",
   "version": "3.6.8"
  }
 },
 "nbformat": 4,
 "nbformat_minor": 4
}
