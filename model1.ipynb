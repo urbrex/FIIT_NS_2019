{
 "cells": [
  {
   "cell_type": "code",
   "execution_count": 1,
   "metadata": {},
   "outputs": [],
   "source": [
    "\"\"\"\n",
    "You need to run this cell for the code in following cells to work.\n",
    "\"\"\"\n",
    "\n",
    "# Enable module reloading\n",
    "%load_ext autoreload\n",
    "%autoreload 2\n",
    "\n",
    "%load_ext tensorboard\n",
    "\n",
    "import datetime\n",
    "import os\n",
    "import sys\n",
    "sys.path.append('..')\n",
    "\n",
    "import tensorflow as tf\n",
    "import tensorflow.keras as keras\n",
    "import numpy as np\n",
    "from matplotlib import pyplot\n"
   ]
  },
  {
   "cell_type": "markdown",
   "metadata": {},
   "source": [
    "toto"
   ]
  },
  {
   "cell_type": "code",
   "execution_count": 29,
   "metadata": {},
   "outputs": [],
   "source": [
    "testx = np.genfromtxt('./datasets/dataSet1TestX1.csv', delimiter=',')[1:]\n",
    "testy = np.genfromtxt('./datasets/dataSet1TestY1.csv', delimiter=',')\n",
    "\n",
    "trainx = np.genfromtxt('./datasets/dataSet1TrainX1.csv', delimiter=',')[1:]\n",
    "trainy = np.genfromtxt('./datasets/dataSet1TrainY1.csv', delimiter=',')"
   ]
  },
  {
   "cell_type": "code",
   "execution_count": 71,
   "metadata": {},
   "outputs": [],
   "source": [
    "testx = np.genfromtxt('./datasets/dataSet1TestX2.csv', delimiter=',')[1:]\n",
    "testy = np.genfromtxt('./datasets/dataSet1TestY2.csv', delimiter=',')\n",
    "\n",
    "trainx = np.genfromtxt('./datasets/dataSet1TrainX2.csv', delimiter=',')[1:]\n",
    "trainy = np.genfromtxt('./datasets/dataSet1TrainY2.csv', delimiter=',')"
   ]
  },
  {
   "cell_type": "code",
   "execution_count": 32,
   "metadata": {},
   "outputs": [],
   "source": [
    "testx = np.genfromtxt('./datasets/dataSet1TestX.csv', delimiter=',')[1:]\n",
    "testy = np.genfromtxt('./datasets/dataSet1TestY.csv', delimiter=',')\n",
    "\n",
    "trainx = np.genfromtxt('./datasets/dataSet1TrainX.csv', delimiter=',')[1:]\n",
    "trainy = np.genfromtxt('./datasets/dataSet1TrainY.csv', delimiter=',')"
   ]
  },
  {
   "cell_type": "markdown",
   "metadata": {},
   "source": [
    "toto"
   ]
  },
  {
   "cell_type": "code",
   "execution_count": 24,
   "metadata": {},
   "outputs": [],
   "source": [
    "testx = np.genfromtxt('./datasets/dataSet2TestX.csv', delimiter=',')[1:]\n",
    "testy = np.genfromtxt('./datasets/dataSet2TestY.csv', delimiter=',')\n",
    "\n",
    "trainx = np.genfromtxt('./datasets/dataSet2TrainX.csv', delimiter=',')[1:]\n",
    "trainy = np.genfromtxt('./datasets/dataSet2TrainY.csv', delimiter=',')"
   ]
  },
  {
   "cell_type": "code",
   "execution_count": 57,
   "metadata": {},
   "outputs": [],
   "source": [
    "testx = np.genfromtxt('./datasets/dataSet3TestX.csv', delimiter=',')[1:]\n",
    "testy = np.genfromtxt('./datasets/dataSet3TestY.csv', delimiter=',')\n",
    "\n",
    "trainx = np.genfromtxt('./datasets/dataSet3TrainX.csv', delimiter=',')[1:]\n",
    "trainy = np.genfromtxt('./datasets/dataSet3TrainY.csv', delimiter=',')"
   ]
  },
  {
   "cell_type": "code",
   "execution_count": 2,
   "metadata": {},
   "outputs": [],
   "source": [
    "testx = np.genfromtxt('./datasets/dataSet4TestX.csv', delimiter=',')[1:]\n",
    "testy = np.genfromtxt('./datasets/dataSet4TestY.csv', delimiter=',')\n",
    "\n",
    "trainx = np.genfromtxt('./datasets/dataSet4TrainX.csv', delimiter=',')[1:]\n",
    "trainy = np.genfromtxt('./datasets/dataSet4TrainY.csv', delimiter=',')"
   ]
  },
  {
   "cell_type": "code",
   "execution_count": 88,
   "metadata": {},
   "outputs": [],
   "source": [
    "array = np.argmax(model.predict(trainx), axis=1)"
   ]
  },
  {
   "cell_type": "code",
   "execution_count": 89,
   "metadata": {},
   "outputs": [],
   "source": [
    "array.sort() "
   ]
  },
  {
   "cell_type": "code",
   "execution_count": 90,
   "metadata": {},
   "outputs": [
    {
     "data": {
      "text/plain": [
       "array([3, 3, 3, ..., 7, 7, 7])"
      ]
     },
     "execution_count": 90,
     "metadata": {},
     "output_type": "execute_result"
    }
   ],
   "source": [
    "array"
   ]
  },
  {
   "cell_type": "code",
   "execution_count": 79,
   "metadata": {},
   "outputs": [
    {
     "data": {
      "text/plain": [
       "array([10.,  6.,  5.,  4.,  3.])"
      ]
     },
     "execution_count": 79,
     "metadata": {},
     "output_type": "execute_result"
    }
   ],
   "source": [
    "trainy[:5]"
   ]
  },
  {
   "cell_type": "code",
   "execution_count": 34,
   "metadata": {},
   "outputs": [
    {
     "data": {
      "text/plain": [
       "array([[6.4029065e-03, 2.1464472e-05, 8.6471182e-06, 3.7816241e-01,\n",
       "        2.2042057e-02, 2.0203376e-01, 3.4333906e-01, 2.9078359e-03,\n",
       "        9.4356033e-04, 1.5699184e-04, 3.2178853e-02, 8.5566565e-03,\n",
       "        1.9856021e-03, 1.0625892e-04, 4.8418518e-04, 6.6981453e-04],\n",
       "       [3.5984444e-03, 1.8196332e-03, 1.7242940e-03, 4.0442411e-02,\n",
       "        3.3110487e-01, 1.1708153e-01, 2.2791265e-01, 4.1042669e-03,\n",
       "        4.8552598e-03, 4.7528511e-03, 1.8015990e-01, 6.0277797e-02,\n",
       "        7.1160174e-03, 1.8667914e-03, 2.8525551e-03, 1.0330824e-02],\n",
       "       [3.7283953e-02, 2.3734638e-04, 9.4388262e-05, 4.0225422e-01,\n",
       "        4.0100995e-02, 1.4849603e-01, 2.5392663e-01, 1.0851530e-02,\n",
       "        4.9405969e-03, 1.1073839e-03, 6.5918490e-02, 1.8851653e-02,\n",
       "        9.0696635e-03, 7.5288169e-04, 2.4994605e-03, 3.6147542e-03],\n",
       "       [6.7259842e-03, 8.3124131e-04, 8.2235900e-04, 6.7940868e-02,\n",
       "        3.3826545e-01, 1.4497118e-01, 2.3273757e-01, 3.2879605e-03,\n",
       "        4.6230750e-03, 2.3014566e-03, 1.3473269e-01, 4.7932062e-02,\n",
       "        5.2197049e-03, 1.1202581e-03, 2.9180236e-03, 5.5701602e-03],\n",
       "       [2.5789229e-02, 4.7205380e-04, 3.5128437e-04, 2.7450025e-01,\n",
       "        8.8413052e-02, 3.0362928e-01, 1.6076550e-01, 7.7137011e-03,\n",
       "        9.1463197e-03, 8.8183774e-04, 7.4110888e-02, 2.9442873e-02,\n",
       "        1.2446051e-02, 9.3724532e-04, 5.6362851e-03, 5.7641105e-03]],\n",
       "      dtype=float32)"
      ]
     },
     "execution_count": 34,
     "metadata": {},
     "output_type": "execute_result"
    }
   ],
   "source": [
    "values"
   ]
  },
  {
   "cell_type": "code",
   "execution_count": 25,
   "metadata": {},
   "outputs": [],
   "source": [
    "trainx = trainx[:100]\n",
    "trainy = trainy[:100]\n",
    "testx = testx[:100]\n",
    "testy = testy[:100]"
   ]
  },
  {
   "cell_type": "code",
   "execution_count": null,
   "metadata": {},
   "outputs": [
    {
     "name": "stdout",
     "output_type": "stream",
     "text": [
      "Train on 7880 samples, validate on 1969 samples\n",
      "Epoch 1/100\n",
      "7880/7880 [==============================] - 1s 125us/sample - loss: 2.7420 - sparse_categorical_accuracy: 0.0948 - val_loss: 2.5277 - val_sparse_categorical_accuracy: 0.1239\n",
      "Epoch 2/100\n",
      "7880/7880 [==============================] - 0s 52us/sample - loss: 2.4965 - sparse_categorical_accuracy: 0.1655 - val_loss: 2.4084 - val_sparse_categorical_accuracy: 0.1833\n",
      "Epoch 3/100\n",
      "7880/7880 [==============================] - 0s 51us/sample - loss: 2.4055 - sparse_categorical_accuracy: 0.1924 - val_loss: 2.3268 - val_sparse_categorical_accuracy: 0.2062\n",
      "Epoch 4/100\n",
      "7880/7880 [==============================] - 0s 56us/sample - loss: 2.3347 - sparse_categorical_accuracy: 0.2137 - val_loss: 2.2671 - val_sparse_categorical_accuracy: 0.2291\n",
      "Epoch 5/100\n",
      "7880/7880 [==============================] - 1s 89us/sample - loss: 2.2882 - sparse_categorical_accuracy: 0.2190 - val_loss: 2.2259 - val_sparse_categorical_accuracy: 0.2372\n",
      "Epoch 6/100\n",
      "7880/7880 [==============================] - 1s 111us/sample - loss: 2.2562 - sparse_categorical_accuracy: 0.2282 - val_loss: 2.1984 - val_sparse_categorical_accuracy: 0.2412\n",
      "Epoch 7/100\n",
      "7880/7880 [==============================] - 1s 80us/sample - loss: 2.2340 - sparse_categorical_accuracy: 0.2232 - val_loss: 2.1840 - val_sparse_categorical_accuracy: 0.2423\n",
      "Epoch 8/100\n",
      "7880/7880 [==============================] - 0s 59us/sample - loss: 2.2232 - sparse_categorical_accuracy: 0.2261 - val_loss: 2.1727 - val_sparse_categorical_accuracy: 0.2412\n",
      "Epoch 9/100\n",
      "7880/7880 [==============================] - 0s 53us/sample - loss: 2.2148 - sparse_categorical_accuracy: 0.2311 - val_loss: 2.1642 - val_sparse_categorical_accuracy: 0.2519\n",
      "Epoch 10/100\n",
      "7880/7880 [==============================] - 0s 53us/sample - loss: 2.2080 - sparse_categorical_accuracy: 0.2253 - val_loss: 2.1586 - val_sparse_categorical_accuracy: 0.2504\n",
      "Epoch 11/100\n",
      "7880/7880 [==============================] - 0s 54us/sample - loss: 2.2006 - sparse_categorical_accuracy: 0.2310 - val_loss: 2.1543 - val_sparse_categorical_accuracy: 0.2483\n",
      "Epoch 12/100\n",
      "7880/7880 [==============================] - 0s 53us/sample - loss: 2.1959 - sparse_categorical_accuracy: 0.2313 - val_loss: 2.1491 - val_sparse_categorical_accuracy: 0.2478\n",
      "Epoch 13/100\n",
      "7880/7880 [==============================] - 0s 53us/sample - loss: 2.1864 - sparse_categorical_accuracy: 0.2301 - val_loss: 2.1464 - val_sparse_categorical_accuracy: 0.2458\n",
      "Epoch 14/100\n",
      "7880/7880 [==============================] - 0s 52us/sample - loss: 2.1818 - sparse_categorical_accuracy: 0.2322 - val_loss: 2.1430 - val_sparse_categorical_accuracy: 0.2463\n",
      "Epoch 15/100\n",
      "7880/7880 [==============================] - 0s 57us/sample - loss: 2.1800 - sparse_categorical_accuracy: 0.2302 - val_loss: 2.1400 - val_sparse_categorical_accuracy: 0.2473\n",
      "Epoch 16/100\n",
      "7880/7880 [==============================] - 0s 63us/sample - loss: 2.1790 - sparse_categorical_accuracy: 0.2306 - val_loss: 2.1389 - val_sparse_categorical_accuracy: 0.2468\n",
      "Epoch 17/100\n",
      "7880/7880 [==============================] - 1s 99us/sample - loss: 2.1786 - sparse_categorical_accuracy: 0.2299 - val_loss: 2.1374 - val_sparse_categorical_accuracy: 0.2473\n",
      "Epoch 18/100\n",
      "7880/7880 [==============================] - 1s 74us/sample - loss: 2.1734 - sparse_categorical_accuracy: 0.2303 - val_loss: 2.1362 - val_sparse_categorical_accuracy: 0.2494\n",
      "Epoch 19/100\n",
      "7880/7880 [==============================] - 0s 61us/sample - loss: 2.1736 - sparse_categorical_accuracy: 0.2349 - val_loss: 2.1346 - val_sparse_categorical_accuracy: 0.2483\n",
      "Epoch 20/100\n",
      "7880/7880 [==============================] - 1s 106us/sample - loss: 2.1679 - sparse_categorical_accuracy: 0.2305 - val_loss: 2.1334 - val_sparse_categorical_accuracy: 0.2489\n",
      "Epoch 21/100\n",
      "7880/7880 [==============================] - 1s 80us/sample - loss: 2.1632 - sparse_categorical_accuracy: 0.2341 - val_loss: 2.1324 - val_sparse_categorical_accuracy: 0.2504\n",
      "Epoch 22/100\n",
      "7880/7880 [==============================] - 1s 87us/sample - loss: 2.1655 - sparse_categorical_accuracy: 0.2316 - val_loss: 2.1320 - val_sparse_categorical_accuracy: 0.2468\n",
      "Epoch 23/100\n",
      "7880/7880 [==============================] - 1s 79us/sample - loss: 2.1631 - sparse_categorical_accuracy: 0.2345 - val_loss: 2.1324 - val_sparse_categorical_accuracy: 0.2483\n",
      "Epoch 24/100\n",
      "7880/7880 [==============================] - 0s 59us/sample - loss: 2.1641 - sparse_categorical_accuracy: 0.2352 - val_loss: 2.1313 - val_sparse_categorical_accuracy: 0.2453\n",
      "Epoch 25/100\n",
      "7880/7880 [==============================] - 0s 58us/sample - loss: 2.1571 - sparse_categorical_accuracy: 0.2371 - val_loss: 2.1297 - val_sparse_categorical_accuracy: 0.2489\n",
      "Epoch 26/100\n",
      "7880/7880 [==============================] - 0s 60us/sample - loss: 2.1597 - sparse_categorical_accuracy: 0.2388 - val_loss: 2.1309 - val_sparse_categorical_accuracy: 0.2509\n",
      "Epoch 27/100\n",
      "7880/7880 [==============================] - 0s 62us/sample - loss: 2.1599 - sparse_categorical_accuracy: 0.2359 - val_loss: 2.1280 - val_sparse_categorical_accuracy: 0.2504\n",
      "Epoch 28/100\n",
      "7880/7880 [==============================] - 1s 69us/sample - loss: 2.1590 - sparse_categorical_accuracy: 0.2390 - val_loss: 2.1292 - val_sparse_categorical_accuracy: 0.2504\n",
      "Epoch 29/100\n",
      "7880/7880 [==============================] - 1s 72us/sample - loss: 2.1542 - sparse_categorical_accuracy: 0.2358 - val_loss: 2.1291 - val_sparse_categorical_accuracy: 0.2489\n",
      "Epoch 30/100\n",
      "7880/7880 [==============================] - 0s 61us/sample - loss: 2.1567 - sparse_categorical_accuracy: 0.2388 - val_loss: 2.1274 - val_sparse_categorical_accuracy: 0.2504\n",
      "Epoch 31/100\n",
      "7880/7880 [==============================] - 0s 63us/sample - loss: 2.1540 - sparse_categorical_accuracy: 0.2354 - val_loss: 2.1275 - val_sparse_categorical_accuracy: 0.2499\n",
      "Epoch 32/100\n",
      "7880/7880 [==============================] - 0s 61us/sample - loss: 2.1537 - sparse_categorical_accuracy: 0.2343 - val_loss: 2.1262 - val_sparse_categorical_accuracy: 0.2504\n",
      "Epoch 33/100\n",
      "7880/7880 [==============================] - 0s 61us/sample - loss: 2.1522 - sparse_categorical_accuracy: 0.2434 - val_loss: 2.1265 - val_sparse_categorical_accuracy: 0.2489\n",
      "Epoch 34/100\n",
      "7880/7880 [==============================] - 0s 60us/sample - loss: 2.1493 - sparse_categorical_accuracy: 0.2392 - val_loss: 2.1263 - val_sparse_categorical_accuracy: 0.2489\n",
      "Epoch 35/100\n",
      "7880/7880 [==============================] - 0s 60us/sample - loss: 2.1512 - sparse_categorical_accuracy: 0.2390 - val_loss: 2.1252 - val_sparse_categorical_accuracy: 0.2504\n",
      "Epoch 36/100\n",
      "7880/7880 [==============================] - 1s 66us/sample - loss: 2.1498 - sparse_categorical_accuracy: 0.2425 - val_loss: 2.1258 - val_sparse_categorical_accuracy: 0.2494\n",
      "Epoch 37/100\n",
      "7880/7880 [==============================] - 0s 59us/sample - loss: 2.1493 - sparse_categorical_accuracy: 0.2418 - val_loss: 2.1264 - val_sparse_categorical_accuracy: 0.2458\n",
      "Epoch 38/100\n",
      "7880/7880 [==============================] - 0s 61us/sample - loss: 2.1493 - sparse_categorical_accuracy: 0.2406 - val_loss: 2.1254 - val_sparse_categorical_accuracy: 0.2494\n",
      "Epoch 39/100\n",
      "7880/7880 [==============================] - 0s 58us/sample - loss: 2.1469 - sparse_categorical_accuracy: 0.2387 - val_loss: 2.1247 - val_sparse_categorical_accuracy: 0.2458\n",
      "Epoch 40/100\n",
      "7880/7880 [==============================] - 0s 62us/sample - loss: 2.1512 - sparse_categorical_accuracy: 0.2412 - val_loss: 2.1262 - val_sparse_categorical_accuracy: 0.2448\n",
      "Epoch 41/100\n",
      "7880/7880 [==============================] - 0s 58us/sample - loss: 2.1469 - sparse_categorical_accuracy: 0.2372 - val_loss: 2.1251 - val_sparse_categorical_accuracy: 0.2478\n",
      "Epoch 42/100\n",
      "7880/7880 [==============================] - 0s 59us/sample - loss: 2.1485 - sparse_categorical_accuracy: 0.2414 - val_loss: 2.1248 - val_sparse_categorical_accuracy: 0.2494\n",
      "Epoch 43/100\n",
      "7880/7880 [==============================] - 1s 76us/sample - loss: 2.1482 - sparse_categorical_accuracy: 0.2379 - val_loss: 2.1239 - val_sparse_categorical_accuracy: 0.2494\n",
      "Epoch 44/100\n"
     ]
    },
    {
     "name": "stdout",
     "output_type": "stream",
     "text": [
      "7880/7880 [==============================] - 1s 73us/sample - loss: 2.1491 - sparse_categorical_accuracy: 0.2365 - val_loss: 2.1255 - val_sparse_categorical_accuracy: 0.2483\n",
      "Epoch 45/100\n",
      "7880/7880 [==============================] - 0s 54us/sample - loss: 2.1453 - sparse_categorical_accuracy: 0.2407 - val_loss: 2.1241 - val_sparse_categorical_accuracy: 0.2489\n",
      "Epoch 46/100\n",
      "7880/7880 [==============================] - 1s 64us/sample - loss: 2.1467 - sparse_categorical_accuracy: 0.2424 - val_loss: 2.1243 - val_sparse_categorical_accuracy: 0.2478\n",
      "Epoch 47/100\n",
      "7880/7880 [==============================] - 0s 55us/sample - loss: 2.1464 - sparse_categorical_accuracy: 0.2406 - val_loss: 2.1236 - val_sparse_categorical_accuracy: 0.2499\n",
      "Epoch 48/100\n",
      "7880/7880 [==============================] - 1s 68us/sample - loss: 2.1434 - sparse_categorical_accuracy: 0.2405 - val_loss: 2.1251 - val_sparse_categorical_accuracy: 0.2494\n",
      "Epoch 49/100\n",
      "7880/7880 [==============================] - 0s 53us/sample - loss: 2.1463 - sparse_categorical_accuracy: 0.2379 - val_loss: 2.1252 - val_sparse_categorical_accuracy: 0.2463\n",
      "Epoch 50/100\n",
      "7880/7880 [==============================] - 0s 56us/sample - loss: 2.1469 - sparse_categorical_accuracy: 0.2416 - val_loss: 2.1256 - val_sparse_categorical_accuracy: 0.2483\n",
      "Epoch 51/100\n",
      "7880/7880 [==============================] - 0s 55us/sample - loss: 2.1423 - sparse_categorical_accuracy: 0.2386 - val_loss: 2.1240 - val_sparse_categorical_accuracy: 0.2473\n",
      "Epoch 52/100\n",
      "7880/7880 [==============================] - 0s 54us/sample - loss: 2.1446 - sparse_categorical_accuracy: 0.2373 - val_loss: 2.1240 - val_sparse_categorical_accuracy: 0.2478\n",
      "Epoch 53/100\n",
      "7880/7880 [==============================] - 1s 78us/sample - loss: 2.1475 - sparse_categorical_accuracy: 0.2423 - val_loss: 2.1239 - val_sparse_categorical_accuracy: 0.2458\n",
      "Epoch 54/100\n",
      "7880/7880 [==============================] - 1s 68us/sample - loss: 2.1435 - sparse_categorical_accuracy: 0.2418 - val_loss: 2.1250 - val_sparse_categorical_accuracy: 0.2417\n",
      "Epoch 55/100\n",
      "7880/7880 [==============================] - 0s 58us/sample - loss: 2.1414 - sparse_categorical_accuracy: 0.2442 - val_loss: 2.1245 - val_sparse_categorical_accuracy: 0.2453\n",
      "Epoch 56/100\n",
      "7880/7880 [==============================] - 1s 70us/sample - loss: 2.1428 - sparse_categorical_accuracy: 0.2409 - val_loss: 2.1248 - val_sparse_categorical_accuracy: 0.2473\n",
      "Epoch 57/100\n",
      "7880/7880 [==============================] - 0s 60us/sample - loss: 2.1440 - sparse_categorical_accuracy: 0.2400 - val_loss: 2.1232 - val_sparse_categorical_accuracy: 0.2453\n",
      "Epoch 58/100\n",
      "7880/7880 [==============================] - 1s 72us/sample - loss: 2.1366 - sparse_categorical_accuracy: 0.2409 - val_loss: 2.1226 - val_sparse_categorical_accuracy: 0.2458\n",
      "Epoch 59/100\n",
      "7880/7880 [==============================] - 1s 66us/sample - loss: 2.1385 - sparse_categorical_accuracy: 0.2454 - val_loss: 2.1245 - val_sparse_categorical_accuracy: 0.2458\n",
      "Epoch 60/100\n",
      "7880/7880 [==============================] - 0s 57us/sample - loss: 2.1420 - sparse_categorical_accuracy: 0.2381 - val_loss: 2.1234 - val_sparse_categorical_accuracy: 0.2443\n",
      "Epoch 61/100\n",
      "7880/7880 [==============================] - 1s 68us/sample - loss: 2.1395 - sparse_categorical_accuracy: 0.2381 - val_loss: 2.1231 - val_sparse_categorical_accuracy: 0.2448\n",
      "Epoch 62/100\n",
      "7880/7880 [==============================] - 1s 74us/sample - loss: 2.1406 - sparse_categorical_accuracy: 0.2416 - val_loss: 2.1223 - val_sparse_categorical_accuracy: 0.2473\n",
      "Epoch 63/100\n",
      "7808/7880 [============================>.] - ETA: 0s - loss: 2.1408 - sparse_categorical_accuracy: 0.2444"
     ]
    }
   ],
   "source": [
    "model = tf.keras.Sequential()\n",
    "\n",
    "model.add(keras.layers.Dense(128, activation='relu'))\n",
    "model.add(keras.layers.Dense(64, activation='relu'))\n",
    "model.add(keras.layers.Dense(32, activation='relu'))\n",
    "model.add(keras.layers.Dropout(0.1))\n",
    "model.add(keras.layers.Dense(16, activation='relu'))\n",
    "model.add(keras.layers.Dense(16, activation='softmax'))\n",
    "\n",
    "model.compile(loss='sparse_categorical_crossentropy',  \n",
    "              optimizer=keras.optimizers.SGD(lr=0.001),\n",
    "              metrics=['sparse_categorical_accuracy'])\n",
    "\n",
    "history = model.fit(trainx, trainy,\n",
    "          validation_data=(testx, testy),\n",
    "          shuffle=True,\n",
    "          batch_size=64,\n",
    "          epochs=100);\n",
    "\n",
    "\n",
    "values = model.predict(testx)"
   ]
  },
  {
   "cell_type": "code",
   "execution_count": 31,
   "metadata": {
    "scrolled": true
   },
   "outputs": [
    {
     "data": {
      "image/png": "[encoded data removed]",
      "text/plain": [
       "<Figure size 432x288 with 1 Axes>"
      ]
     },
     "metadata": {
      "needs_background": "light"
     },
     "output_type": "display_data"
    }
   ],
   "source": [
    "pyplot.plot(history.history['sparse_categorical_accuracy'])\n",
    "pyplot.plot(history.history['val_sparse_categorical_accuracy'])\n",
    "pyplot.ylabel('sparse_categorical_accuracy')\n",
    "pyplot.xlabel('epoch')\n",
    "pyplot.legend(['train', 'validation'], loc='upper right')\n",
    "pyplot.show()"
   ]
  },
  {
   "cell_type": "code",
   "execution_count": 32,
   "metadata": {},
   "outputs": [
    {
     "data": {
      "image/png": "[encoded data removed]",
      "text/plain": [
       "<Figure size 432x288 with 1 Axes>"
      ]
     },
     "metadata": {
      "needs_background": "light"
     },
     "output_type": "display_data"
    }
   ],
   "source": [
    "pyplot.plot(history.history['loss'])\n",
    "pyplot.plot(history.history['val_loss'])\n",
    "pyplot.ylabel('loss')\n",
    "pyplot.xlabel('epoch')\n",
    "pyplot.legend(['train', 'validation'], loc='upper right')\n",
    "pyplot.show()"
   ]
  },
  {
   "cell_type": "code",
   "execution_count": 18,
   "metadata": {},
   "outputs": [
    {
     "data": {
      "text/plain": [
       "array([10.])"
      ]
     },
     "execution_count": 18,
     "metadata": {},
     "output_type": "execute_result"
    }
   ],
   "source": [
    "trainy"
   ]
  },
  {
   "cell_type": "code",
   "execution_count": 140,
   "metadata": {},
   "outputs": [
    {
     "data": {
      "text/plain": [
       "(8491, 32)"
      ]
     },
     "execution_count": 140,
     "metadata": {},
     "output_type": "execute_result"
    }
   ],
   "source": [
    "trainx.shape"
   ]
  },
  {
   "cell_type": "code",
   "execution_count": 122,
   "metadata": {},
   "outputs": [
    {
     "data": {
      "text/plain": [
       "(8491,)"
      ]
     },
     "execution_count": 122,
     "metadata": {},
     "output_type": "execute_result"
    }
   ],
   "source": [
    "trainy.shape"
   ]
  },
  {
   "cell_type": "code",
   "execution_count": 5,
   "metadata": {},
   "outputs": [
    {
     "name": "stdout",
     "output_type": "stream",
     "text": [
      "Train on 8491 samples, validate on 1358 samples\n",
      "Epoch 1/30\n",
      "8491/8491 [==============================] - 5s 561us/sample - loss: 2.7029 - sparse_categorical_accuracy: 0.2447 - val_loss: 2.6457 - val_sparse_categorical_accuracy: 0.2172\n",
      "Epoch 2/30\n",
      "8491/8491 [==============================] - 1s 166us/sample - loss: 2.5761 - sparse_categorical_accuracy: 0.2500 - val_loss: 2.5374 - val_sparse_categorical_accuracy: 0.2172\n",
      "Epoch 3/30\n",
      "8491/8491 [==============================] - 2s 179us/sample - loss: 2.4651 - sparse_categorical_accuracy: 0.2500 - val_loss: 2.4437 - val_sparse_categorical_accuracy: 0.2172\n",
      "Epoch 4/30\n",
      "8491/8491 [==============================] - 2s 206us/sample - loss: 2.3701 - sparse_categorical_accuracy: 0.2500 - val_loss: 2.3670 - val_sparse_categorical_accuracy: 0.2172\n",
      "Epoch 5/30\n",
      "8491/8491 [==============================] - 2s 178us/sample - loss: 2.2952 - sparse_categorical_accuracy: 0.2500 - val_loss: 2.3100 - val_sparse_categorical_accuracy: 0.2172\n",
      "Epoch 6/30\n",
      "8491/8491 [==============================] - 1s 176us/sample - loss: 2.2418 - sparse_categorical_accuracy: 0.2500 - val_loss: 2.2718 - val_sparse_categorical_accuracy: 0.2172\n",
      "Epoch 7/30\n",
      "8491/8491 [==============================] - 2s 187us/sample - loss: 2.2061 - sparse_categorical_accuracy: 0.2500 - val_loss: 2.2470 - val_sparse_categorical_accuracy: 0.2172\n",
      "Epoch 8/30\n",
      "8491/8491 [==============================] - 2s 183us/sample - loss: 2.1827 - sparse_categorical_accuracy: 0.2500 - val_loss: 2.2318 - val_sparse_categorical_accuracy: 0.2172\n",
      "Epoch 9/30\n",
      "8491/8491 [==============================] - 2s 180us/sample - loss: 2.1673 - sparse_categorical_accuracy: 0.2500 - val_loss: 2.2209 - val_sparse_categorical_accuracy: 0.2172\n",
      "Epoch 10/30\n",
      "8491/8491 [==============================] - 2s 179us/sample - loss: 2.1564 - sparse_categorical_accuracy: 0.2500 - val_loss: 2.2144 - val_sparse_categorical_accuracy: 0.2172\n",
      "Epoch 11/30\n",
      "8491/8491 [==============================] - 2s 184us/sample - loss: 2.1486 - sparse_categorical_accuracy: 0.2500 - val_loss: 2.2087 - val_sparse_categorical_accuracy: 0.2172\n",
      "Epoch 12/30\n",
      "8491/8491 [==============================] - 2s 184us/sample - loss: 2.1427 - sparse_categorical_accuracy: 0.2500 - val_loss: 2.2053 - val_sparse_categorical_accuracy: 0.2172\n",
      "Epoch 13/30\n",
      "8491/8491 [==============================] - 2s 178us/sample - loss: 2.1382 - sparse_categorical_accuracy: 0.2500 - val_loss: 2.2023 - val_sparse_categorical_accuracy: 0.2172\n",
      "Epoch 14/30\n",
      "8491/8491 [==============================] - 1s 176us/sample - loss: 2.1347 - sparse_categorical_accuracy: 0.2500 - val_loss: 2.2006 - val_sparse_categorical_accuracy: 0.2172\n",
      "Epoch 15/30\n",
      "8491/8491 [==============================] - 2s 189us/sample - loss: 2.1318 - sparse_categorical_accuracy: 0.2500 - val_loss: 2.2006 - val_sparse_categorical_accuracy: 0.2172\n",
      "Epoch 16/30\n",
      "8491/8491 [==============================] - 2s 190us/sample - loss: 2.1295 - sparse_categorical_accuracy: 0.2500 - val_loss: 2.1996 - val_sparse_categorical_accuracy: 0.2172\n",
      "Epoch 17/30\n",
      "8491/8491 [==============================] - 2s 182us/sample - loss: 2.1276 - sparse_categorical_accuracy: 0.2500 - val_loss: 2.1984 - val_sparse_categorical_accuracy: 0.2172\n",
      "Epoch 18/30\n",
      "8491/8491 [==============================] - 2s 180us/sample - loss: 2.1260 - sparse_categorical_accuracy: 0.2500 - val_loss: 2.1977 - val_sparse_categorical_accuracy: 0.2172\n",
      "Epoch 19/30\n",
      "8491/8491 [==============================] - 2s 192us/sample - loss: 2.1245 - sparse_categorical_accuracy: 0.2500 - val_loss: 2.1982 - val_sparse_categorical_accuracy: 0.2172\n",
      "Epoch 20/30\n",
      "8491/8491 [==============================] - 2s 195us/sample - loss: 2.1232 - sparse_categorical_accuracy: 0.2500 - val_loss: 2.1978 - val_sparse_categorical_accuracy: 0.2172\n",
      "Epoch 21/30\n",
      "8491/8491 [==============================] - 2s 182us/sample - loss: 2.1223 - sparse_categorical_accuracy: 0.2500 - val_loss: 2.1963 - val_sparse_categorical_accuracy: 0.2172\n",
      "Epoch 22/30\n",
      "8491/8491 [==============================] - 2s 210us/sample - loss: 2.1214 - sparse_categorical_accuracy: 0.2500 - val_loss: 2.1969 - val_sparse_categorical_accuracy: 0.2172\n",
      "Epoch 23/30\n",
      "8491/8491 [==============================] - 2s 235us/sample - loss: 2.1205 - sparse_categorical_accuracy: 0.2500 - val_loss: 2.1971 - val_sparse_categorical_accuracy: 0.2172\n",
      "Epoch 24/30\n",
      "8491/8491 [==============================] - 2s 184us/sample - loss: 2.1199 - sparse_categorical_accuracy: 0.2500 - val_loss: 2.1970 - val_sparse_categorical_accuracy: 0.2172\n",
      "Epoch 25/30\n",
      "8491/8491 [==============================] - 2s 185us/sample - loss: 2.1192 - sparse_categorical_accuracy: 0.2500 - val_loss: 2.1963 - val_sparse_categorical_accuracy: 0.2172\n",
      "Epoch 26/30\n",
      "8491/8491 [==============================] - 2s 229us/sample - loss: 2.1187 - sparse_categorical_accuracy: 0.2500 - val_loss: 2.1965 - val_sparse_categorical_accuracy: 0.2172\n",
      "Epoch 27/30\n",
      "8491/8491 [==============================] - 2s 191us/sample - loss: 2.1181 - sparse_categorical_accuracy: 0.2500 - val_loss: 2.1967 - val_sparse_categorical_accuracy: 0.2172\n",
      "Epoch 28/30\n",
      "8491/8491 [==============================] - 2s 187us/sample - loss: 2.1177 - sparse_categorical_accuracy: 0.2500 - val_loss: 2.1957 - val_sparse_categorical_accuracy: 0.2172\n",
      "Epoch 29/30\n",
      "8491/8491 [==============================] - 2s 251us/sample - loss: 2.1171 - sparse_categorical_accuracy: 0.2500 - val_loss: 2.1961 - val_sparse_categorical_accuracy: 0.2172\n",
      "Epoch 30/30\n",
      "8491/8491 [==============================] - 2s 194us/sample - loss: 2.1169 - sparse_categorical_accuracy: 0.2500 - val_loss: 2.1957 - val_sparse_categorical_accuracy: 0.2172\n"
     ]
    }
   ],
   "source": [
    "model = tf.keras.Sequential()\n",
    "model.add(keras.layers.Embedding(input_dim=64, output_dim=1))\n",
    "\n",
    "model.add(keras.layers.GRU(32))\n",
    "\n",
    "model.add(keras.layers.Dense(16, activation='softmax'))\n",
    "\n",
    "model.compile(loss='sparse_categorical_crossentropy', \n",
    "              optimizer=keras.optimizers.SGD(lr=0.01),\n",
    "              metrics=['sparse_categorical_accuracy'])\n",
    "\n",
    "history = model.fit(trainx, trainy,\n",
    "          validation_data=(testx, testy),\n",
    "          batch_size=100,\n",
    "          epochs=30)\n",
    "\n",
    "\n",
    "\n"
   ]
  },
  {
   "cell_type": "code",
   "execution_count": 117,
   "metadata": {},
   "outputs": [
    {
     "data": {
      "text/plain": [
       "array([[0.06238456, 0.06000677, 0.078821  , 0.06918435, 0.05643553,\n",
       "        0.07335692, 0.06363277, 0.05806257, 0.05761166, 0.05708838,\n",
       "        0.06282649, 0.05898436, 0.0568665 , 0.06394451, 0.06152151,\n",
       "        0.0592721 ],\n",
       "       [0.06244522, 0.06016866, 0.07859089, 0.06933583, 0.05641425,\n",
       "        0.07336085, 0.06387857, 0.05815759, 0.05772352, 0.0570215 ,\n",
       "        0.06272518, 0.05876366, 0.05681852, 0.06376936, 0.06155202,\n",
       "        0.05927436],\n",
       "       [0.06242387, 0.06008409, 0.07867896, 0.06929895, 0.05640421,\n",
       "        0.07336645, 0.06378859, 0.05812356, 0.05768584, 0.05705557,\n",
       "        0.06276112, 0.0588283 , 0.0568504 , 0.06385017, 0.06154216,\n",
       "        0.0592578 ]], dtype=float32)"
      ]
     },
     "execution_count": 117,
     "metadata": {},
     "output_type": "execute_result"
    }
   ],
   "source": [
    "values = model.predict(trainx)\n",
    "values[:5]"
   ]
  },
  {
   "cell_type": "code",
   "execution_count": 114,
   "metadata": {},
   "outputs": [
    {
     "data": {
      "text/plain": [
       "array([2., 3., 5.])"
      ]
     },
     "execution_count": 114,
     "metadata": {},
     "output_type": "execute_result"
    }
   ],
   "source": [
    "trainy[:20]"
   ]
  },
  {
   "cell_type": "code",
   "execution_count": 39,
   "metadata": {},
   "outputs": [
    {
     "name": "stdout",
     "output_type": "stream",
     "text": [
      "[2.2443318430467296, 2.120533879713369, 2.120235447730718, 2.119998530193451, 2.119074585072863, 2.1166765267244627, 2.1179072624686555, 2.1167973264087276, 2.115801502125089, 2.1145174901411883, 2.114981665441071, 2.1154392430512603, 2.1143915604189245, 2.1136991255079987, 2.1134401703342407, 2.114426835406858, 2.1128386148740073, 2.112011131920096, 2.11222652745694, 2.11145498935771]\n"
     ]
    }
   ],
   "source": [
    "print(history.history['loss'])"
   ]
  },
  {
   "cell_type": "code",
   "execution_count": 36,
   "metadata": {},
   "outputs": [
    {
     "data": {
      "text/plain": [
       "[<matplotlib.lines.Line2D at 0x7f632854b2e8>]"
      ]
     },
     "execution_count": 36,
     "metadata": {},
     "output_type": "execute_result"
    },
    {
     "data": {
      "image/png": "[encoded data removed]",
      "text/plain": [
       "<Figure size 432x288 with 1 Axes>"
      ]
     },
     "metadata": {
      "needs_background": "light"
     },
     "output_type": "display_data"
    }
   ],
   "source": [
    "pyplot.plot(history.history['loss'])"
   ]
  },
  {
   "cell_type": "code",
   "execution_count": 143,
   "metadata": {},
   "outputs": [
    {
     "data": {
      "image/png": "[encoded data removed]",
      "text/plain": [
       "<Figure size 432x288 with 1 Axes>"
      ]
     },
     "metadata": {
      "needs_background": "light"
     },
     "output_type": "display_data"
    }
   ],
   "source": [
    "pyplot.plot(history.history['loss'])\n",
    "pyplot.plot(history.history['val_loss'])\n",
    "pyplot.ylabel('loss')\n",
    "pyplot.xlabel('epoch')\n",
    "pyplot.legend(['train', 'validation'], loc='upper right')\n",
    "pyplot.show()"
   ]
  },
  {
   "cell_type": "code",
   "execution_count": 144,
   "metadata": {},
   "outputs": [
    {
     "data": {
      "image/png": "[encoded data removed]",
      "text/plain": [
       "<Figure size 432x288 with 1 Axes>"
      ]
     },
     "metadata": {
      "needs_background": "light"
     },
     "output_type": "display_data"
    }
   ],
   "source": [
    "pyplot.plot(history.history['sparse_categorical_accuracy'])\n",
    "pyplot.plot(history.history['val_sparse_categorical_accuracy'])\n",
    "pyplot.ylabel('sparse_categorical_accuracy')\n",
    "pyplot.xlabel('epoch')\n",
    "pyplot.legend(['train', 'validation'], loc='upper right')\n",
    "pyplot.show()"
   ]
  },
  {
   "cell_type": "code",
   "execution_count": 20,
   "metadata": {},
   "outputs": [
    {
     "data": {
      "text/plain": [
       "array([[1.0714289e-07, 3.4401094e-06, 1.4992759e-03, 1.4172222e-03,\n",
       "        2.0753897e-03, 5.2765431e-03, 1.6037613e-05, 5.9032373e-05,\n",
       "        8.6154812e-04, 2.2062910e-05, 9.8719877e-01, 9.7377742e-06,\n",
       "        9.4191835e-04, 5.8219291e-04, 3.6210597e-05, 5.5777627e-07]],\n",
       "      dtype=float32)"
      ]
     },
     "execution_count": 20,
     "metadata": {},
     "output_type": "execute_result"
    }
   ],
   "source": [
    "values"
   ]
  },
  {
   "cell_type": "code",
   "execution_count": 22,
   "metadata": {
    "scrolled": true
   },
   "outputs": [
    {
     "data": {
      "text/plain": [
       "array([[1.7234709e-04, 2.4751469e-02, 1.5641753e-02, 1.3734198e-01,\n",
       "        8.9040093e-02, 2.7047154e-01, 1.0606384e-01, 2.1918258e-01,\n",
       "        5.9913006e-02, 5.0407749e-02, 1.1745986e-02, 1.2090806e-02,\n",
       "        1.1589340e-03, 1.5740171e-03, 2.2765367e-04, 2.1625354e-04]],\n",
       "      dtype=float32)"
      ]
     },
     "execution_count": 22,
     "metadata": {},
     "output_type": "execute_result"
    }
   ],
   "source": [
    "model.predict(testx[:1])"
   ]
  }
 ],
 "metadata": {
  "kernelspec": {
   "display_name": "Python 3",
   "language": "python",
   "name": "python3"
  },
  "language_info": {
   "codemirror_mode": {
    "name": "ipython",
    "version": 3
   },
   "file_extension": ".py",
   "mimetype": "text/x-python",
   "name": "python",
   "nbconvert_exporter": "python",
   "pygments_lexer": "ipython3",
   "version": "3.6.8"
  }
 },
 "nbformat": 4,
 "nbformat_minor": 4
}
