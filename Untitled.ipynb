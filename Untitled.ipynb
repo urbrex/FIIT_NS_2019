{
 "cells": [
  {
   "cell_type": "markdown",
   "metadata": {},
   "source": [
    "# Baseline model"
   ]
  },
  {
   "cell_type": "markdown",
   "metadata": {},
   "source": [
    "Ths is our baseline model for Neural networks course"
   ]
  },
  {
   "cell_type": "code",
   "execution_count": 1,
   "metadata": {},
   "outputs": [],
   "source": [
    "from __future__ import absolute_import, division, print_function, unicode_literals\n",
    "\n",
    "import collections\n",
    "import matplotlib.pyplot as plt\n",
    "import tensorflow as tf\n",
    "import tensorflow.keras as keras\n",
    "import numpy as np"
   ]
  },
  {
   "cell_type": "markdown",
   "metadata": {},
   "source": []
  },
  {
   "cell_type": "code",
   "execution_count": 2,
   "metadata": {},
   "outputs": [],
   "source": [
    "testx = np.genfromtxt('./datasets/dataSet1TestX.csv', delimiter=',')[1:]\n",
    "testy = np.genfromtxt('./datasets/dataSet1TestY.csv', delimiter=',')\n",
    "\n",
    "trainx = np.genfromtxt('./datasets/dataSet1TrainX.csv', delimiter=',')[1:]\n",
    "trainy = np.genfromtxt('./datasets/dataSet1TrainY.csv', delimiter=',')"
   ]
  },
  {
   "cell_type": "code",
   "execution_count": 3,
   "metadata": {},
   "outputs": [
    {
     "data": {
      "text/plain": [
       "array([5., 7., 4., ..., 3., 6., 5.])"
      ]
     },
     "execution_count": 3,
     "metadata": {},
     "output_type": "execute_result"
    }
   ],
   "source": [
    "testy"
   ]
  },
  {
   "cell_type": "code",
   "execution_count": 38,
   "metadata": {},
   "outputs": [
    {
     "name": "stdout",
     "output_type": "stream",
     "text": [
      "Train on 8265 samples\n",
      "Epoch 1/10\n",
      "8265/8265 [==============================] - 2s 277us/sample - loss: 31.4470 - accuracy: 0.0172\n",
      "Epoch 2/10\n",
      "8265/8265 [==============================] - 2s 221us/sample - loss: 26.2783 - accuracy: 0.0275\n",
      "Epoch 3/10\n",
      "8265/8265 [==============================] - 2s 210us/sample - loss: 25.8779 - accuracy: 0.0275\n",
      "Epoch 4/10\n",
      "8265/8265 [==============================] - 2s 208us/sample - loss: 25.7248 - accuracy: 0.0275\n",
      "Epoch 5/10\n",
      "8265/8265 [==============================] - 2s 262us/sample - loss: 25.6424 - accuracy: 0.0275\n",
      "Epoch 6/10\n",
      "8265/8265 [==============================] - 2s 285us/sample - loss: 25.5905 - accuracy: 0.0275\n",
      "Epoch 7/10\n",
      "8265/8265 [==============================] - 2s 256us/sample - loss: 25.5547 - accuracy: 0.0275\n",
      "Epoch 8/10\n",
      "8265/8265 [==============================] - 2s 294us/sample - loss: 25.5284 - accuracy: 0.0275\n",
      "Epoch 9/10\n",
      "8265/8265 [==============================] - 2s 272us/sample - loss: 25.5083 - accuracy: 0.0275\n",
      "Epoch 10/10\n",
      "8265/8265 [==============================] - 2s 226us/sample - loss: 25.4924 - accuracy: 0.0275\n"
     ]
    },
    {
     "data": {
      "text/plain": [
       "<tensorflow.python.keras.callbacks.History at 0x7f2298be6198>"
      ]
     },
     "execution_count": 38,
     "metadata": {},
     "output_type": "execute_result"
    }
   ],
   "source": [
    "# from tensorflow import keras\n",
    "from tensorflow.keras.models import Sequential\n",
    "model = Sequential()\n",
    "\n",
    "from tensorflow.keras.layers import Dense, Activation,Conv2D,MaxPooling2D,Flatten,Dropout\n",
    "\n",
    "model.add(Dense(units=1, activation='tanh', use_bias=True, kernel_initializer='glorot_uniform', bias_initializer='zeros'))\n",
    "model.add(Dense(units=1, activation='linear', use_bias=True, kernel_initializer='glorot_uniform', bias_initializer='zeros'))\n",
    "model.add(Dense(units=1, activation='tanh', use_bias=True, kernel_initializer='glorot_uniform', bias_initializer='zeros'))\n",
    "model.add(Dense(units=1, activation='tanh', use_bias=True, kernel_initializer='glorot_uniform', bias_initializer='zeros'))\n",
    "\n",
    "model.compile(\n",
    "    optimizer=keras.optimizers.SGD(learning_rate=0.0001),\n",
    "    loss='mean_squared_error',\n",
    "    metrics=['accuracy'])\n",
    "\n",
    "# model.fit(trainx, trainy, epochs=30, verbose=1)\n",
    "\n",
    "model.fit(\n",
    "    x=trainx,\n",
    "    y=trainy,\n",
    "    batch_size=10,\n",
    "    epochs=10)\n"
   ]
  },
  {
   "cell_type": "code",
   "execution_count": null,
   "metadata": {},
   "outputs": [],
   "source": [
    "%load_ext autoreload\n",
    "%autoreload 2\n",
    "\n",
    "%load_ext tensorboard\n",
    "\n",
    "import datetime\n",
    "import os\n",
    "import sys\n",
    "sys.path.append('..')\n",
    "\n",
    "import tensorflow as tf\n",
    "import tensorflow.keras as keras\n",
    "import numpy as np"
   ]
  },
  {
   "cell_type": "code",
   "execution_count": 7,
   "metadata": {},
   "outputs": [],
   "source": [
    "class MultilayerPerceptron(keras.Model):  # Subclassing\n",
    "    \n",
    "    def __init__(self, dim_output, dim_hidden):\n",
    "        super(MultilayerPerceptron, self).__init__(name='multilayer_perceptron')\n",
    "        self.dim_output = dim_output\n",
    "        self.dim_hidden = dim_hidden\n",
    "\n",
    "        # Within Model.__init__ we initialize all the layers we will use\n",
    "        self.layer_1 = keras.layers.Dense(\n",
    "            units=dim_hidden)  # units = how many neurons in the layer\n",
    "        self.layer_2 = keras.layers.Dense(\n",
    "            units=dim_output)\n",
    "\n",
    "    def call(self, x):  # call defines the flow of the computation, e.g. in this particular model\n",
    "                        # we simply call the two layers one after the oter\n",
    "        h = self.layer_1(x)\n",
    "        y = self.layer_2(h)\n",
    "        return y\n"
   ]
  },
  {
   "cell_type": "code",
   "execution_count": 20,
   "metadata": {},
   "outputs": [
    {
     "name": "stdout",
     "output_type": "stream",
     "text": [
      "Train on 8265 samples\n",
      "Epoch 1/20\n",
      "8265/8265 [==============================] - 5s 624us/sample - loss: nan - accuracy: 0.0000e+00\n",
      "Epoch 2/20\n",
      "8265/8265 [==============================] - 4s 502us/sample - loss: nan - accuracy: 0.0000e+00\n",
      "Epoch 3/20\n",
      "5896/8265 [====================>.........] - ETA: 1s - loss: nan - accuracy: 0.0000e+00"
     ]
    },
    {
     "ename": "KeyboardInterrupt",
     "evalue": "",
     "output_type": "error",
     "traceback": [
      "\u001b[0;31m---------------------------------------------------------------------------\u001b[0m",
      "\u001b[0;31mKeyboardInterrupt\u001b[0m                         Traceback (most recent call last)",
      "\u001b[0;32m<ipython-input-20-b232e7caa639>\u001b[0m in \u001b[0;36m<module>\u001b[0;34m\u001b[0m\n\u001b[1;32m     12\u001b[0m     \u001b[0my\u001b[0m\u001b[0;34m=\u001b[0m\u001b[0mtrainy\u001b[0m\u001b[0;34m,\u001b[0m\u001b[0;34m\u001b[0m\u001b[0;34m\u001b[0m\u001b[0m\n\u001b[1;32m     13\u001b[0m     \u001b[0mbatch_size\u001b[0m\u001b[0;34m=\u001b[0m\u001b[0;36m4\u001b[0m\u001b[0;34m,\u001b[0m\u001b[0;34m\u001b[0m\u001b[0;34m\u001b[0m\u001b[0m\n\u001b[0;32m---> 14\u001b[0;31m     epochs=20)\n\u001b[0m",
      "\u001b[0;32m/usr/local/lib/python3.6/dist-packages/tensorflow_core/python/keras/engine/training.py\u001b[0m in \u001b[0;36mfit\u001b[0;34m(self, x, y, batch_size, epochs, verbose, callbacks, validation_split, validation_data, shuffle, class_weight, sample_weight, initial_epoch, steps_per_epoch, validation_steps, validation_freq, max_queue_size, workers, use_multiprocessing, **kwargs)\u001b[0m\n\u001b[1;32m    726\u001b[0m         \u001b[0mmax_queue_size\u001b[0m\u001b[0;34m=\u001b[0m\u001b[0mmax_queue_size\u001b[0m\u001b[0;34m,\u001b[0m\u001b[0;34m\u001b[0m\u001b[0;34m\u001b[0m\u001b[0m\n\u001b[1;32m    727\u001b[0m         \u001b[0mworkers\u001b[0m\u001b[0;34m=\u001b[0m\u001b[0mworkers\u001b[0m\u001b[0;34m,\u001b[0m\u001b[0;34m\u001b[0m\u001b[0;34m\u001b[0m\u001b[0m\n\u001b[0;32m--> 728\u001b[0;31m         use_multiprocessing=use_multiprocessing)\n\u001b[0m\u001b[1;32m    729\u001b[0m \u001b[0;34m\u001b[0m\u001b[0m\n\u001b[1;32m    730\u001b[0m   def evaluate(self,\n",
      "\u001b[0;32m/usr/local/lib/python3.6/dist-packages/tensorflow_core/python/keras/engine/training_v2.py\u001b[0m in \u001b[0;36mfit\u001b[0;34m(self, model, x, y, batch_size, epochs, verbose, callbacks, validation_split, validation_data, shuffle, class_weight, sample_weight, initial_epoch, steps_per_epoch, validation_steps, validation_freq, **kwargs)\u001b[0m\n\u001b[1;32m    322\u001b[0m                 \u001b[0mmode\u001b[0m\u001b[0;34m=\u001b[0m\u001b[0mModeKeys\u001b[0m\u001b[0;34m.\u001b[0m\u001b[0mTRAIN\u001b[0m\u001b[0;34m,\u001b[0m\u001b[0;34m\u001b[0m\u001b[0;34m\u001b[0m\u001b[0m\n\u001b[1;32m    323\u001b[0m                 \u001b[0mtraining_context\u001b[0m\u001b[0;34m=\u001b[0m\u001b[0mtraining_context\u001b[0m\u001b[0;34m,\u001b[0m\u001b[0;34m\u001b[0m\u001b[0;34m\u001b[0m\u001b[0m\n\u001b[0;32m--> 324\u001b[0;31m                 total_epochs=epochs)\n\u001b[0m\u001b[1;32m    325\u001b[0m             \u001b[0mcbks\u001b[0m\u001b[0;34m.\u001b[0m\u001b[0mmake_logs\u001b[0m\u001b[0;34m(\u001b[0m\u001b[0mmodel\u001b[0m\u001b[0;34m,\u001b[0m \u001b[0mepoch_logs\u001b[0m\u001b[0;34m,\u001b[0m \u001b[0mtraining_result\u001b[0m\u001b[0;34m,\u001b[0m \u001b[0mModeKeys\u001b[0m\u001b[0;34m.\u001b[0m\u001b[0mTRAIN\u001b[0m\u001b[0;34m)\u001b[0m\u001b[0;34m\u001b[0m\u001b[0;34m\u001b[0m\u001b[0m\n\u001b[1;32m    326\u001b[0m \u001b[0;34m\u001b[0m\u001b[0m\n",
      "\u001b[0;32m/usr/local/lib/python3.6/dist-packages/tensorflow_core/python/keras/engine/training_v2.py\u001b[0m in \u001b[0;36mrun_one_epoch\u001b[0;34m(model, iterator, execution_function, dataset_size, batch_size, strategy, steps_per_epoch, num_samples, mode, training_context, total_epochs)\u001b[0m\n\u001b[1;32m    121\u001b[0m         step=step, mode=mode, size=current_batch_size) as batch_logs:\n\u001b[1;32m    122\u001b[0m       \u001b[0;32mtry\u001b[0m\u001b[0;34m:\u001b[0m\u001b[0;34m\u001b[0m\u001b[0;34m\u001b[0m\u001b[0m\n\u001b[0;32m--> 123\u001b[0;31m         \u001b[0mbatch_outs\u001b[0m \u001b[0;34m=\u001b[0m \u001b[0mexecution_function\u001b[0m\u001b[0;34m(\u001b[0m\u001b[0miterator\u001b[0m\u001b[0;34m)\u001b[0m\u001b[0;34m\u001b[0m\u001b[0;34m\u001b[0m\u001b[0m\n\u001b[0m\u001b[1;32m    124\u001b[0m       \u001b[0;32mexcept\u001b[0m \u001b[0;34m(\u001b[0m\u001b[0mStopIteration\u001b[0m\u001b[0;34m,\u001b[0m \u001b[0merrors\u001b[0m\u001b[0;34m.\u001b[0m\u001b[0mOutOfRangeError\u001b[0m\u001b[0;34m)\u001b[0m\u001b[0;34m:\u001b[0m\u001b[0;34m\u001b[0m\u001b[0;34m\u001b[0m\u001b[0m\n\u001b[1;32m    125\u001b[0m         \u001b[0;31m# TODO(kaftan): File bug about tf function and errors.OutOfRangeError?\u001b[0m\u001b[0;34m\u001b[0m\u001b[0;34m\u001b[0m\u001b[0;34m\u001b[0m\u001b[0m\n",
      "\u001b[0;32m/usr/local/lib/python3.6/dist-packages/tensorflow_core/python/keras/engine/training_v2_utils.py\u001b[0m in \u001b[0;36mexecution_function\u001b[0;34m(input_fn)\u001b[0m\n\u001b[1;32m     84\u001b[0m     \u001b[0;31m# `numpy` translates Tensors to values in Eager mode.\u001b[0m\u001b[0;34m\u001b[0m\u001b[0;34m\u001b[0m\u001b[0;34m\u001b[0m\u001b[0m\n\u001b[1;32m     85\u001b[0m     return nest.map_structure(_non_none_constant_value,\n\u001b[0;32m---> 86\u001b[0;31m                               distributed_function(input_fn))\n\u001b[0m\u001b[1;32m     87\u001b[0m \u001b[0;34m\u001b[0m\u001b[0m\n\u001b[1;32m     88\u001b[0m   \u001b[0;32mreturn\u001b[0m \u001b[0mexecution_function\u001b[0m\u001b[0;34m\u001b[0m\u001b[0;34m\u001b[0m\u001b[0m\n",
      "\u001b[0;32m/usr/local/lib/python3.6/dist-packages/tensorflow_core/python/eager/def_function.py\u001b[0m in \u001b[0;36m__call__\u001b[0;34m(self, *args, **kwds)\u001b[0m\n\u001b[1;32m    455\u001b[0m \u001b[0;34m\u001b[0m\u001b[0m\n\u001b[1;32m    456\u001b[0m     \u001b[0mtracing_count\u001b[0m \u001b[0;34m=\u001b[0m \u001b[0mself\u001b[0m\u001b[0;34m.\u001b[0m\u001b[0m_get_tracing_count\u001b[0m\u001b[0;34m(\u001b[0m\u001b[0;34m)\u001b[0m\u001b[0;34m\u001b[0m\u001b[0;34m\u001b[0m\u001b[0m\n\u001b[0;32m--> 457\u001b[0;31m     \u001b[0mresult\u001b[0m \u001b[0;34m=\u001b[0m \u001b[0mself\u001b[0m\u001b[0;34m.\u001b[0m\u001b[0m_call\u001b[0m\u001b[0;34m(\u001b[0m\u001b[0;34m*\u001b[0m\u001b[0margs\u001b[0m\u001b[0;34m,\u001b[0m \u001b[0;34m**\u001b[0m\u001b[0mkwds\u001b[0m\u001b[0;34m)\u001b[0m\u001b[0;34m\u001b[0m\u001b[0;34m\u001b[0m\u001b[0m\n\u001b[0m\u001b[1;32m    458\u001b[0m     \u001b[0;32mif\u001b[0m \u001b[0mtracing_count\u001b[0m \u001b[0;34m==\u001b[0m \u001b[0mself\u001b[0m\u001b[0;34m.\u001b[0m\u001b[0m_get_tracing_count\u001b[0m\u001b[0;34m(\u001b[0m\u001b[0;34m)\u001b[0m\u001b[0;34m:\u001b[0m\u001b[0;34m\u001b[0m\u001b[0;34m\u001b[0m\u001b[0m\n\u001b[1;32m    459\u001b[0m       \u001b[0mself\u001b[0m\u001b[0;34m.\u001b[0m\u001b[0m_call_counter\u001b[0m\u001b[0;34m.\u001b[0m\u001b[0mcalled_without_tracing\u001b[0m\u001b[0;34m(\u001b[0m\u001b[0;34m)\u001b[0m\u001b[0;34m\u001b[0m\u001b[0;34m\u001b[0m\u001b[0m\n",
      "\u001b[0;32m/usr/local/lib/python3.6/dist-packages/tensorflow_core/python/eager/def_function.py\u001b[0m in \u001b[0;36m_call\u001b[0;34m(self, *args, **kwds)\u001b[0m\n\u001b[1;32m    485\u001b[0m       \u001b[0;31m# In this case we have created variables on the first call, so we run the\u001b[0m\u001b[0;34m\u001b[0m\u001b[0;34m\u001b[0m\u001b[0;34m\u001b[0m\u001b[0m\n\u001b[1;32m    486\u001b[0m       \u001b[0;31m# defunned version which is guaranteed to never create variables.\u001b[0m\u001b[0;34m\u001b[0m\u001b[0;34m\u001b[0m\u001b[0;34m\u001b[0m\u001b[0m\n\u001b[0;32m--> 487\u001b[0;31m       \u001b[0;32mreturn\u001b[0m \u001b[0mself\u001b[0m\u001b[0;34m.\u001b[0m\u001b[0m_stateless_fn\u001b[0m\u001b[0;34m(\u001b[0m\u001b[0;34m*\u001b[0m\u001b[0margs\u001b[0m\u001b[0;34m,\u001b[0m \u001b[0;34m**\u001b[0m\u001b[0mkwds\u001b[0m\u001b[0;34m)\u001b[0m  \u001b[0;31m# pylint: disable=not-callable\u001b[0m\u001b[0;34m\u001b[0m\u001b[0;34m\u001b[0m\u001b[0m\n\u001b[0m\u001b[1;32m    488\u001b[0m     \u001b[0;32melif\u001b[0m \u001b[0mself\u001b[0m\u001b[0;34m.\u001b[0m\u001b[0m_stateful_fn\u001b[0m \u001b[0;32mis\u001b[0m \u001b[0;32mnot\u001b[0m \u001b[0;32mNone\u001b[0m\u001b[0;34m:\u001b[0m\u001b[0;34m\u001b[0m\u001b[0;34m\u001b[0m\u001b[0m\n\u001b[1;32m    489\u001b[0m       \u001b[0;31m# Release the lock early so that multiple threads can perform the call\u001b[0m\u001b[0;34m\u001b[0m\u001b[0;34m\u001b[0m\u001b[0;34m\u001b[0m\u001b[0m\n",
      "\u001b[0;32m/usr/local/lib/python3.6/dist-packages/tensorflow_core/python/eager/function.py\u001b[0m in \u001b[0;36m__call__\u001b[0;34m(self, *args, **kwargs)\u001b[0m\n\u001b[1;32m   1821\u001b[0m     \u001b[0;34m\"\"\"Calls a graph function specialized to the inputs.\"\"\"\u001b[0m\u001b[0;34m\u001b[0m\u001b[0;34m\u001b[0m\u001b[0m\n\u001b[1;32m   1822\u001b[0m     \u001b[0mgraph_function\u001b[0m\u001b[0;34m,\u001b[0m \u001b[0margs\u001b[0m\u001b[0;34m,\u001b[0m \u001b[0mkwargs\u001b[0m \u001b[0;34m=\u001b[0m \u001b[0mself\u001b[0m\u001b[0;34m.\u001b[0m\u001b[0m_maybe_define_function\u001b[0m\u001b[0;34m(\u001b[0m\u001b[0margs\u001b[0m\u001b[0;34m,\u001b[0m \u001b[0mkwargs\u001b[0m\u001b[0;34m)\u001b[0m\u001b[0;34m\u001b[0m\u001b[0;34m\u001b[0m\u001b[0m\n\u001b[0;32m-> 1823\u001b[0;31m     \u001b[0;32mreturn\u001b[0m \u001b[0mgraph_function\u001b[0m\u001b[0;34m.\u001b[0m\u001b[0m_filtered_call\u001b[0m\u001b[0;34m(\u001b[0m\u001b[0margs\u001b[0m\u001b[0;34m,\u001b[0m \u001b[0mkwargs\u001b[0m\u001b[0;34m)\u001b[0m  \u001b[0;31m# pylint: disable=protected-access\u001b[0m\u001b[0;34m\u001b[0m\u001b[0;34m\u001b[0m\u001b[0m\n\u001b[0m\u001b[1;32m   1824\u001b[0m \u001b[0;34m\u001b[0m\u001b[0m\n\u001b[1;32m   1825\u001b[0m   \u001b[0;34m@\u001b[0m\u001b[0mproperty\u001b[0m\u001b[0;34m\u001b[0m\u001b[0;34m\u001b[0m\u001b[0m\n",
      "\u001b[0;32m/usr/local/lib/python3.6/dist-packages/tensorflow_core/python/eager/function.py\u001b[0m in \u001b[0;36m_filtered_call\u001b[0;34m(self, args, kwargs)\u001b[0m\n\u001b[1;32m   1139\u001b[0m          if isinstance(t, (ops.Tensor,\n\u001b[1;32m   1140\u001b[0m                            resource_variable_ops.BaseResourceVariable))),\n\u001b[0;32m-> 1141\u001b[0;31m         self.captured_inputs)\n\u001b[0m\u001b[1;32m   1142\u001b[0m \u001b[0;34m\u001b[0m\u001b[0m\n\u001b[1;32m   1143\u001b[0m   \u001b[0;32mdef\u001b[0m \u001b[0m_call_flat\u001b[0m\u001b[0;34m(\u001b[0m\u001b[0mself\u001b[0m\u001b[0;34m,\u001b[0m \u001b[0margs\u001b[0m\u001b[0;34m,\u001b[0m \u001b[0mcaptured_inputs\u001b[0m\u001b[0;34m,\u001b[0m \u001b[0mcancellation_manager\u001b[0m\u001b[0;34m=\u001b[0m\u001b[0;32mNone\u001b[0m\u001b[0;34m)\u001b[0m\u001b[0;34m:\u001b[0m\u001b[0;34m\u001b[0m\u001b[0;34m\u001b[0m\u001b[0m\n",
      "\u001b[0;32m/usr/local/lib/python3.6/dist-packages/tensorflow_core/python/eager/function.py\u001b[0m in \u001b[0;36m_call_flat\u001b[0;34m(self, args, captured_inputs, cancellation_manager)\u001b[0m\n\u001b[1;32m   1222\u001b[0m     \u001b[0;32mif\u001b[0m \u001b[0mexecuting_eagerly\u001b[0m\u001b[0;34m:\u001b[0m\u001b[0;34m\u001b[0m\u001b[0;34m\u001b[0m\u001b[0m\n\u001b[1;32m   1223\u001b[0m       flat_outputs = forward_function.call(\n\u001b[0;32m-> 1224\u001b[0;31m           ctx, args, cancellation_manager=cancellation_manager)\n\u001b[0m\u001b[1;32m   1225\u001b[0m     \u001b[0;32melse\u001b[0m\u001b[0;34m:\u001b[0m\u001b[0;34m\u001b[0m\u001b[0;34m\u001b[0m\u001b[0m\n\u001b[1;32m   1226\u001b[0m       \u001b[0mgradient_name\u001b[0m \u001b[0;34m=\u001b[0m \u001b[0mself\u001b[0m\u001b[0;34m.\u001b[0m\u001b[0m_delayed_rewrite_functions\u001b[0m\u001b[0;34m.\u001b[0m\u001b[0mregister\u001b[0m\u001b[0;34m(\u001b[0m\u001b[0;34m)\u001b[0m\u001b[0;34m\u001b[0m\u001b[0;34m\u001b[0m\u001b[0m\n",
      "\u001b[0;32m/usr/local/lib/python3.6/dist-packages/tensorflow_core/python/eager/function.py\u001b[0m in \u001b[0;36mcall\u001b[0;34m(self, ctx, args, cancellation_manager)\u001b[0m\n\u001b[1;32m    509\u001b[0m               \u001b[0minputs\u001b[0m\u001b[0;34m=\u001b[0m\u001b[0margs\u001b[0m\u001b[0;34m,\u001b[0m\u001b[0;34m\u001b[0m\u001b[0;34m\u001b[0m\u001b[0m\n\u001b[1;32m    510\u001b[0m               \u001b[0mattrs\u001b[0m\u001b[0;34m=\u001b[0m\u001b[0;34m(\u001b[0m\u001b[0;34m\"executor_type\"\u001b[0m\u001b[0;34m,\u001b[0m \u001b[0mexecutor_type\u001b[0m\u001b[0;34m,\u001b[0m \u001b[0;34m\"config_proto\"\u001b[0m\u001b[0;34m,\u001b[0m \u001b[0mconfig\u001b[0m\u001b[0;34m)\u001b[0m\u001b[0;34m,\u001b[0m\u001b[0;34m\u001b[0m\u001b[0;34m\u001b[0m\u001b[0m\n\u001b[0;32m--> 511\u001b[0;31m               ctx=ctx)\n\u001b[0m\u001b[1;32m    512\u001b[0m         \u001b[0;32melse\u001b[0m\u001b[0;34m:\u001b[0m\u001b[0;34m\u001b[0m\u001b[0;34m\u001b[0m\u001b[0m\n\u001b[1;32m    513\u001b[0m           outputs = execute.execute_with_cancellation(\n",
      "\u001b[0;32m/usr/local/lib/python3.6/dist-packages/tensorflow_core/python/eager/execute.py\u001b[0m in \u001b[0;36mquick_execute\u001b[0;34m(op_name, num_outputs, inputs, attrs, ctx, name)\u001b[0m\n\u001b[1;32m     59\u001b[0m     tensors = pywrap_tensorflow.TFE_Py_Execute(ctx._handle, device_name,\n\u001b[1;32m     60\u001b[0m                                                \u001b[0mop_name\u001b[0m\u001b[0;34m,\u001b[0m \u001b[0minputs\u001b[0m\u001b[0;34m,\u001b[0m \u001b[0mattrs\u001b[0m\u001b[0;34m,\u001b[0m\u001b[0;34m\u001b[0m\u001b[0;34m\u001b[0m\u001b[0m\n\u001b[0;32m---> 61\u001b[0;31m                                                num_outputs)\n\u001b[0m\u001b[1;32m     62\u001b[0m   \u001b[0;32mexcept\u001b[0m \u001b[0mcore\u001b[0m\u001b[0;34m.\u001b[0m\u001b[0m_NotOkStatusException\u001b[0m \u001b[0;32mas\u001b[0m \u001b[0me\u001b[0m\u001b[0;34m:\u001b[0m\u001b[0;34m\u001b[0m\u001b[0;34m\u001b[0m\u001b[0m\n\u001b[1;32m     63\u001b[0m     \u001b[0;32mif\u001b[0m \u001b[0mname\u001b[0m \u001b[0;32mis\u001b[0m \u001b[0;32mnot\u001b[0m \u001b[0;32mNone\u001b[0m\u001b[0;34m:\u001b[0m\u001b[0;34m\u001b[0m\u001b[0;34m\u001b[0m\u001b[0m\n",
      "\u001b[0;31mKeyboardInterrupt\u001b[0m: "
     ]
    }
   ],
   "source": [
    "model = MultilayerPerceptron(  # We create a new model\n",
    "    dim_output=1,\n",
    "    dim_hidden=8)\n",
    "\n",
    "model.compile(  # By compiling we prepare the model for training\n",
    "    optimizer=keras.optimizers.SGD(lr=0.01, decay=1e-6, momentum=0.9, nesterov=True),  # We pick a optimizer algorithm\n",
    "    loss='mean_squared_error',  # We pick a loss function\n",
    "    metrics=['accuracy'])  # We pick evaluation metrics\n",
    "\n",
    "model.fit(  # Fit runs the training over provided data\n",
    "    x=trainx,\n",
    "    y=trainy,\n",
    "    batch_size=4,\n",
    "    epochs=20)\n"
   ]
  },
  {
   "cell_type": "code",
   "execution_count": 21,
   "metadata": {},
   "outputs": [
    {
     "name": "stdout",
     "output_type": "stream",
     "text": [
      "Train on 8265 samples\n",
      "Epoch 1/5\n",
      "8265/8265 [==============================] - 1s 65us/sample - loss: nan - accuracy: 7.2595e-04\n",
      "Epoch 2/5\n",
      "8265/8265 [==============================] - 0s 25us/sample - loss: nan - accuracy: 0.0000e+00\n",
      "Epoch 3/5\n",
      "8265/8265 [==============================] - 0s 24us/sample - loss: nan - accuracy: 0.0000e+00\n",
      "Epoch 4/5\n",
      "8265/8265 [==============================] - 0s 27us/sample - loss: nan - accuracy: 0.0000e+00\n",
      "Epoch 5/5\n",
      "8265/8265 [==============================] - 0s 24us/sample - loss: nan - accuracy: 0.0000e+00\n"
     ]
    },
    {
     "data": {
      "text/plain": [
       "<tensorflow.python.keras.callbacks.History at 0x7f22aa4b1ac8>"
      ]
     },
     "execution_count": 21,
     "metadata": {},
     "output_type": "execute_result"
    }
   ],
   "source": [
    "model = MultilayerPerceptron(  # We create a new model\n",
    "    dim_output=1,\n",
    "    dim_hidden=32)\n",
    "\n",
    "model.compile(  # By compiling we prepare the model for training\n",
    "    optimizer=keras.optimizers.SGD(lr=0.01, decay=1e-6, momentum=0.9, nesterov=True),  # We pick a optimizer algorithm\n",
    "    loss='mean_squared_error',  # We pick a loss function\n",
    "    metrics=['accuracy'])  # We pick evaluation metrics\n",
    "\n",
    "model.fit(  # Fit runs the training over provided data\n",
    "    x=trainx,\n",
    "    y=trainy,\n",
    "    batch_size=100,\n",
    "    epochs=5)\n"
   ]
  },
  {
   "cell_type": "code",
   "execution_count": 44,
   "metadata": {},
   "outputs": [],
   "source": [
    "class MultilayerPerceptron(keras.Model):  # Subclassing\n",
    "    \n",
    "    def __init__(self, dim_output, dim_hidden, num_layers, activation, ):\n",
    "        super(MultilayerPerceptron, self).__init__(name='multilayer_perceptron')\n",
    "        self.dim_output = dim_output\n",
    "        self.dim_hidden = dim_hidden\n",
    "        self.num_layers = num_layers\n",
    "\n",
    "        # Within Model.__init__ we initialize all the layers we will use\n",
    "        self.layer = []\n",
    "        for i in range(num_layers):\n",
    "            self.layer.append(keras.layers.Dense(\n",
    "            units=dim_hidden, activation=activation )) \n",
    "        self.layer_2 = keras.layers.Dense(\n",
    "            units=dim_output, activation=keras.activations.softmax)\n",
    "\n",
    "    def call(self, x):  # call defines the flow of the computation, e.g. in this particular model\n",
    "                        # we simply call the two layers one after the oter\n",
    "        for l in self.layer:\n",
    "            x = l(x)\n",
    "        y = self.layer_2(x)\n",
    "        return y"
   ]
  },
  {
   "cell_type": "code",
   "execution_count": 66,
   "metadata": {},
   "outputs": [
    {
     "name": "stdout",
     "output_type": "stream",
     "text": [
      "Train on 8265 samples\n",
      "Epoch 1/50\n",
      "8265/8265 [==============================] - 1s 116us/sample - loss: 25.3525 - accuracy: 0.0275\n",
      "Epoch 2/50\n",
      "8265/8265 [==============================] - 0s 36us/sample - loss: 25.3525 - accuracy: 0.0275\n",
      "Epoch 3/50\n",
      "8265/8265 [==============================] - 0s 34us/sample - loss: 25.3525 - accuracy: 0.0275\n",
      "Epoch 4/50\n",
      "8265/8265 [==============================] - 0s 35us/sample - loss: 25.3525 - accuracy: 0.0275\n",
      "Epoch 5/50\n",
      "8265/8265 [==============================] - 0s 54us/sample - loss: 25.3525 - accuracy: 0.0275\n",
      "Epoch 6/50\n",
      "8265/8265 [==============================] - 0s 32us/sample - loss: 25.3525 - accuracy: 0.0275\n",
      "Epoch 7/50\n",
      "8265/8265 [==============================] - 0s 36us/sample - loss: 25.3525 - accuracy: 0.0275\n",
      "Epoch 8/50\n",
      "8265/8265 [==============================] - 0s 41us/sample - loss: 25.3525 - accuracy: 0.0275\n",
      "Epoch 9/50\n",
      "8265/8265 [==============================] - 0s 43us/sample - loss: 25.3525 - accuracy: 0.0275\n",
      "Epoch 10/50\n",
      "8265/8265 [==============================] - 0s 36us/sample - loss: 25.3524 - accuracy: 0.0275\n",
      "Epoch 11/50\n",
      "8265/8265 [==============================] - 0s 34us/sample - loss: 25.3525 - accuracy: 0.0275\n",
      "Epoch 12/50\n",
      "8265/8265 [==============================] - 0s 44us/sample - loss: 25.3525 - accuracy: 0.0275\n",
      "Epoch 13/50\n",
      "8265/8265 [==============================] - 0s 32us/sample - loss: 25.3525 - accuracy: 0.0275\n",
      "Epoch 14/50\n",
      "8265/8265 [==============================] - 0s 32us/sample - loss: 25.3525 - accuracy: 0.0275\n",
      "Epoch 15/50\n",
      "8265/8265 [==============================] - 0s 32us/sample - loss: 25.3525 - accuracy: 0.0275\n",
      "Epoch 16/50\n",
      "8265/8265 [==============================] - 0s 33us/sample - loss: 25.3525 - accuracy: 0.0275\n",
      "Epoch 17/50\n",
      "8265/8265 [==============================] - 0s 34us/sample - loss: 25.3525 - accuracy: 0.0275\n",
      "Epoch 18/50\n",
      "8265/8265 [==============================] - 0s 33us/sample - loss: 25.3525 - accuracy: 0.0275\n",
      "Epoch 19/50\n",
      "8265/8265 [==============================] - 0s 35us/sample - loss: 25.3525 - accuracy: 0.0275\n",
      "Epoch 20/50\n",
      "8265/8265 [==============================] - 0s 33us/sample - loss: 25.3525 - accuracy: 0.0275\n",
      "Epoch 21/50\n",
      "8265/8265 [==============================] - 0s 34us/sample - loss: 25.3525 - accuracy: 0.0275\n",
      "Epoch 22/50\n",
      "8265/8265 [==============================] - 0s 33us/sample - loss: 25.3525 - accuracy: 0.0275\n",
      "Epoch 23/50\n",
      "8265/8265 [==============================] - 0s 33us/sample - loss: 25.3525 - accuracy: 0.0275\n",
      "Epoch 24/50\n",
      "8265/8265 [==============================] - 0s 38us/sample - loss: 25.3525 - accuracy: 0.0275\n",
      "Epoch 25/50\n",
      "8265/8265 [==============================] - 0s 52us/sample - loss: 25.3525 - accuracy: 0.0275\n",
      "Epoch 26/50\n",
      "8265/8265 [==============================] - 0s 46us/sample - loss: 25.3525 - accuracy: 0.0275\n",
      "Epoch 27/50\n",
      "8265/8265 [==============================] - 0s 51us/sample - loss: 25.3525 - accuracy: 0.0275\n",
      "Epoch 28/50\n",
      "8265/8265 [==============================] - 0s 34us/sample - loss: 25.3525 - accuracy: 0.0275\n",
      "Epoch 29/50\n",
      "8265/8265 [==============================] - 0s 38us/sample - loss: 25.3525 - accuracy: 0.0275\n",
      "Epoch 30/50\n",
      "8265/8265 [==============================] - 0s 40us/sample - loss: 25.3525 - accuracy: 0.0275\n",
      "Epoch 31/50\n",
      "8265/8265 [==============================] - 0s 39us/sample - loss: 25.3525 - accuracy: 0.0275\n",
      "Epoch 32/50\n",
      "8265/8265 [==============================] - 0s 36us/sample - loss: 25.3524 - accuracy: 0.0275\n",
      "Epoch 33/50\n",
      "8265/8265 [==============================] - 0s 29us/sample - loss: 25.3524 - accuracy: 0.0275\n",
      "Epoch 34/50\n",
      "8265/8265 [==============================] - 0s 26us/sample - loss: 25.3525 - accuracy: 0.0275\n",
      "Epoch 35/50\n",
      "8265/8265 [==============================] - 0s 27us/sample - loss: 25.3525 - accuracy: 0.0275\n",
      "Epoch 36/50\n",
      "8265/8265 [==============================] - 0s 27us/sample - loss: 25.3525 - accuracy: 0.0275\n",
      "Epoch 37/50\n",
      "8265/8265 [==============================] - 0s 27us/sample - loss: 25.3525 - accuracy: 0.0275\n",
      "Epoch 38/50\n",
      "8265/8265 [==============================] - 0s 27us/sample - loss: 25.3525 - accuracy: 0.0275\n",
      "Epoch 39/50\n",
      "8265/8265 [==============================] - 0s 25us/sample - loss: 25.3525 - accuracy: 0.0275\n",
      "Epoch 40/50\n",
      "8265/8265 [==============================] - 0s 27us/sample - loss: 25.3525 - accuracy: 0.0275\n",
      "Epoch 41/50\n",
      "8265/8265 [==============================] - 0s 26us/sample - loss: 25.3525 - accuracy: 0.0275\n",
      "Epoch 42/50\n",
      "8265/8265 [==============================] - 0s 26us/sample - loss: 25.3525 - accuracy: 0.0275\n",
      "Epoch 43/50\n",
      "8265/8265 [==============================] - 0s 30us/sample - loss: 25.3525 - accuracy: 0.0275\n",
      "Epoch 44/50\n",
      "8265/8265 [==============================] - 0s 28us/sample - loss: 25.3525 - accuracy: 0.0275\n",
      "Epoch 45/50\n",
      "8265/8265 [==============================] - 0s 26us/sample - loss: 25.3525 - accuracy: 0.0275\n",
      "Epoch 46/50\n",
      "8265/8265 [==============================] - 0s 27us/sample - loss: 25.3525 - accuracy: 0.0275\n",
      "Epoch 47/50\n",
      "8265/8265 [==============================] - 0s 27us/sample - loss: 25.3525 - accuracy: 0.0275\n",
      "Epoch 48/50\n",
      "8265/8265 [==============================] - 0s 26us/sample - loss: 25.3525 - accuracy: 0.0275\n",
      "Epoch 49/50\n",
      "8265/8265 [==============================] - 0s 27us/sample - loss: 25.3525 - accuracy: 0.0275\n",
      "Epoch 50/50\n",
      "8265/8265 [==============================] - 0s 26us/sample - loss: 25.3525 - accuracy: 0.0275\n"
     ]
    },
    {
     "data": {
      "text/plain": [
       "<tensorflow.python.keras.callbacks.History at 0x7f2286c9c9b0>"
      ]
     },
     "execution_count": 66,
     "metadata": {},
     "output_type": "execute_result"
    }
   ],
   "source": [
    "model = MultilayerPerceptron(  # We create a new model\n",
    "    dim_output=1,\n",
    "    dim_hidden=32,\n",
    "    num_layers=10,\n",
    "    activation=keras.activations.sigmoid)\n",
    "\n",
    "model.compile(  # By compiling we prepare the model for training\n",
    "    optimizer=keras.optimizers.SGD(learning_rate=0.001, momentum=0.0, nesterov=False),  # We pick a optimizer algorithm\n",
    "    loss='mean_squared_error',  # We pick a loss function\n",
    "    metrics=['accuracy'])  # We pick evaluation metrics\n",
    "\n",
    "model.fit(  # Fit runs the training over provided data\n",
    "    x=trainx,\n",
    "    y=trainy,\n",
    "    batch_size=100,\n",
    "    epochs=50)"
   ]
  }
 ],
 "metadata": {
  "kernelspec": {
   "display_name": "Python 3",
   "language": "python",
   "name": "python3"
  },
  "language_info": {
   "codemirror_mode": {
    "name": "ipython",
    "version": 3
   },
   "file_extension": ".py",
   "mimetype": "text/x-python",
   "name": "python",
   "nbconvert_exporter": "python",
   "pygments_lexer": "ipython3",
   "version": "3.6.8"
  }
 },
 "nbformat": 4,
 "nbformat_minor": 2
}
