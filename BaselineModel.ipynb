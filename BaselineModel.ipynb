{
 "cells": [
  {
   "cell_type": "markdown",
   "metadata": {},
   "source": [
    "# Baseline model"
   ]
  },
  {
   "cell_type": "markdown",
   "metadata": {},
   "source": [
    "Ako baseline model sme použili regresnú neurónovú sieť, skladajúcu sa zo 4 DENSE vrstiev(16-8-4-4) s aktivačnou funkciou RELU. Po vytvorení tohto modelu sme sa rozhodli vytvoriť iný baseline model, keďže výsledky pôvodne plánovaného modelu sme vyhodnotili ako nedostačné."
   ]
  },
  {
   "cell_type": "code",
   "execution_count": 1,
   "metadata": {},
   "outputs": [],
   "source": [
    "%load_ext autoreload\n",
    "%autoreload 2\n",
    "\n",
    "%load_ext tensorboard\n",
    "\n",
    "import datetime\n",
    "import os\n",
    "import sys\n",
    "sys.path.append('..')\n",
    "\n",
    "import tensorflow as tf\n",
    "import tensorflow.keras as keras\n",
    "import numpy as np\n",
    "from matplotlib import pyplot"
   ]
  },
  {
   "cell_type": "markdown",
   "metadata": {},
   "source": [
    "Načítanie hodnôt z vopred pripraveného datasetu 1."
   ]
  },
  {
   "cell_type": "code",
   "execution_count": 2,
   "metadata": {},
   "outputs": [],
   "source": [
    "testx = np.genfromtxt('./datasets/dataSet1TestX1.csv', delimiter=',')[1:]\n",
    "testy = np.genfromtxt('./datasets/dataSet1TestY1.csv', delimiter=',')\n",
    "\n",
    "trainx = np.genfromtxt('./datasets/dataSet1TrainX1.csv', delimiter=',')[1:]\n",
    "trainy = np.genfromtxt('./datasets/dataSet1TrainY1.csv', delimiter=',')"
   ]
  },
  {
   "cell_type": "markdown",
   "metadata": {},
   "source": [
    "Načítanie hodnôt z vopred pripraveného datasetu 2."
   ]
  },
  {
   "cell_type": "code",
   "execution_count": 9,
   "metadata": {},
   "outputs": [],
   "source": [
    "testx = np.genfromtxt('./datasets/dataSet2TestX.csv', delimiter=',')[1:]\n",
    "testy = np.genfromtxt('./datasets/dataSet2TestY.csv', delimiter=',')\n",
    "\n",
    "trainx = np.genfromtxt('./datasets/dataSet2TrainX.csv', delimiter=',')[1:]\n",
    "trainy = np.genfromtxt('./datasets/dataSet2TrainY.csv', delimiter=',')"
   ]
  },
  {
   "cell_type": "markdown",
   "metadata": {},
   "source": [
    "Načítanie hodnôt z vopred pripraveného datasetu 3."
   ]
  },
  {
   "cell_type": "code",
   "execution_count": 16,
   "metadata": {},
   "outputs": [],
   "source": [
    "testx = np.genfromtxt('./datasets/dataSet3TestX.csv', delimiter=',')[1:]\n",
    "testy = np.genfromtxt('./datasets/dataSet3TestY.csv', delimiter=',')\n",
    "\n",
    "trainx = np.genfromtxt('./datasets/dataSet3TrainX.csv', delimiter=',')[1:]\n",
    "trainy = np.genfromtxt('./datasets/dataSet3TrainY.csv', delimiter=',')"
   ]
  },
  {
   "cell_type": "markdown",
   "metadata": {},
   "source": [
    "Prvý model s  DENSE vrstvami."
   ]
  },
  {
   "cell_type": "code",
   "execution_count": 17,
   "metadata": {},
   "outputs": [
    {
     "name": "stdout",
     "output_type": "stream",
     "text": [
      "Train on 8491 samples, validate on 1358 samples\n",
      "Epoch 1/30\n",
      "8491/8491 [==============================] - 2s 185us/sample - loss: 8.2711 - MAE: 2.2483 - val_loss: 6.2368 - val_MAE: 1.9181\n",
      "Epoch 2/30\n",
      "8491/8491 [==============================] - 0s 46us/sample - loss: 5.2899 - MAE: 1.8441 - val_loss: 6.0132 - val_MAE: 1.9094\n",
      "Epoch 3/30\n",
      "8491/8491 [==============================] - 0s 50us/sample - loss: 5.0464 - MAE: 1.7915 - val_loss: 5.7999 - val_MAE: 1.8992\n",
      "Epoch 4/30\n",
      "8491/8491 [==============================] - 0s 43us/sample - loss: 4.9504 - MAE: 1.7793 - val_loss: 5.7042 - val_MAE: 1.8936\n",
      "Epoch 5/30\n",
      "8491/8491 [==============================] - 0s 45us/sample - loss: 4.9133 - MAE: 1.7803 - val_loss: 5.8479 - val_MAE: 1.9017\n",
      "Epoch 6/30\n",
      "8491/8491 [==============================] - 0s 52us/sample - loss: 4.8879 - MAE: 1.7765 - val_loss: 5.6661 - val_MAE: 1.8911\n",
      "Epoch 7/30\n",
      "8491/8491 [==============================] - 0s 40us/sample - loss: 4.8738 - MAE: 1.7795 - val_loss: 5.7192 - val_MAE: 1.8946\n",
      "Epoch 8/30\n",
      "8491/8491 [==============================] - 0s 44us/sample - loss: 4.8694 - MAE: 1.7796 - val_loss: 5.7157 - val_MAE: 1.8944\n",
      "Epoch 9/30\n",
      "8491/8491 [==============================] - 0s 49us/sample - loss: 4.8643 - MAE: 1.7795 - val_loss: 5.7035 - val_MAE: 1.8936\n",
      "Epoch 10/30\n",
      "8491/8491 [==============================] - 0s 47us/sample - loss: 4.8627 - MAE: 1.7793 - val_loss: 5.6701 - val_MAE: 1.8914\n",
      "Epoch 11/30\n",
      "8491/8491 [==============================] - 0s 42us/sample - loss: 4.8600 - MAE: 1.7800 - val_loss: 5.6703 - val_MAE: 1.8914\n",
      "Epoch 12/30\n",
      "8491/8491 [==============================] - 0s 46us/sample - loss: 4.8581 - MAE: 1.7816 - val_loss: 5.7529 - val_MAE: 1.8966\n",
      "Epoch 13/30\n",
      "8491/8491 [==============================] - 0s 53us/sample - loss: 4.8592 - MAE: 1.7800 - val_loss: 5.7111 - val_MAE: 1.8941\n",
      "Epoch 14/30\n",
      "8491/8491 [==============================] - 1s 63us/sample - loss: 4.8582 - MAE: 1.7800 - val_loss: 5.6937 - val_MAE: 1.8929\n",
      "Epoch 15/30\n",
      "8491/8491 [==============================] - 1s 75us/sample - loss: 4.8581 - MAE: 1.7809 - val_loss: 5.6614 - val_MAE: 1.8908\n",
      "Epoch 16/30\n",
      "8491/8491 [==============================] - 0s 47us/sample - loss: 4.8587 - MAE: 1.7828 - val_loss: 5.7565 - val_MAE: 1.8968\n",
      "Epoch 17/30\n",
      "8491/8491 [==============================] - 0s 48us/sample - loss: 4.8582 - MAE: 1.7803 - val_loss: 5.7345 - val_MAE: 1.8955\n",
      "Epoch 18/30\n",
      "8491/8491 [==============================] - 0s 54us/sample - loss: 4.8575 - MAE: 1.7803 - val_loss: 5.7124 - val_MAE: 1.8941\n",
      "Epoch 19/30\n",
      "8491/8491 [==============================] - 0s 45us/sample - loss: 4.8575 - MAE: 1.7813 - val_loss: 5.7327 - val_MAE: 1.8954\n",
      "Epoch 20/30\n",
      "8491/8491 [==============================] - 0s 51us/sample - loss: 4.8573 - MAE: 1.7800 - val_loss: 5.6868 - val_MAE: 1.8925\n",
      "Epoch 21/30\n",
      "8491/8491 [==============================] - 0s 57us/sample - loss: 4.8571 - MAE: 1.7818 - val_loss: 5.7100 - val_MAE: 1.8940\n",
      "Epoch 22/30\n",
      "8491/8491 [==============================] - 0s 47us/sample - loss: 4.8568 - MAE: 1.7807 - val_loss: 5.6853 - val_MAE: 1.8924\n",
      "Epoch 23/30\n",
      "8491/8491 [==============================] - 0s 46us/sample - loss: 4.8564 - MAE: 1.7811 - val_loss: 5.6937 - val_MAE: 1.8929\n",
      "Epoch 24/30\n",
      "8491/8491 [==============================] - 0s 58us/sample - loss: 4.8572 - MAE: 1.7816 - val_loss: 5.6913 - val_MAE: 1.8928\n",
      "Epoch 25/30\n",
      "8491/8491 [==============================] - 1s 63us/sample - loss: 4.8571 - MAE: 1.7810 - val_loss: 5.6756 - val_MAE: 1.8917\n",
      "Epoch 26/30\n",
      "8491/8491 [==============================] - 0s 49us/sample - loss: 4.8571 - MAE: 1.7811 - val_loss: 5.6732 - val_MAE: 1.8916\n",
      "Epoch 27/30\n",
      "8491/8491 [==============================] - 0s 54us/sample - loss: 4.8563 - MAE: 1.7812 - val_loss: 5.6661 - val_MAE: 1.8911\n",
      "Epoch 28/30\n",
      "8491/8491 [==============================] - 0s 46us/sample - loss: 4.8577 - MAE: 1.7820 - val_loss: 5.6956 - val_MAE: 1.8931\n",
      "Epoch 29/30\n",
      "8491/8491 [==============================] - 0s 52us/sample - loss: 4.8571 - MAE: 1.7812 - val_loss: 5.7055 - val_MAE: 1.8937\n",
      "Epoch 30/30\n",
      "8491/8491 [==============================] - 1s 60us/sample - loss: 4.8567 - MAE: 1.7809 - val_loss: 5.6919 - val_MAE: 1.8928\n"
     ]
    }
   ],
   "source": [
    "model = tf.keras.Sequential()\n",
    "model.add(keras.layers.Embedding(input_dim=64, output_dim=16))\n",
    "\n",
    "# Add a LSTM layer with 128 internal units.\n",
    "# model.add(keras.layers.GRU(32))\n",
    "model.add(keras.layers.Dense(16, activation='relu'))\n",
    "model.add(keras.layers.Dense(8, activation='relu'))\n",
    "model.add(keras.layers.Dense(4, activation='relu'))\n",
    "model.add(keras.layers.Dropout(0.2))\n",
    "model.add(keras.layers.Dense(1, activation='relu'))\n",
    "\n",
    "model.compile(loss='mean_squared_error',  \n",
    "              optimizer=keras.optimizers.SGD(lr=0.03,  nesterov=True),\n",
    "              metrics=['MAE'])\n",
    "\n",
    "history = model.fit(trainx, trainy,\n",
    "          validation_data=(testx, testy),\n",
    "          shuffle=True,\n",
    "          batch_size=128,\n",
    "          epochs=30);\n",
    "\n",
    "\n",
    "values = model.predict(testx[:10])"
   ]
  },
  {
   "cell_type": "markdown",
   "metadata": {},
   "source": [
    "Po tomto modeli sme sa rozhodli, že vytvoríme klasifikačnú rekurentnú neurónovú sieť(RNN). Model sme sa snažili priradiť do jednej zo 16 klasifikačných tried, pričom každá trieda symbolizovala počet gólov(v prípade, že mal byť výsledok 7 gólov a sieť ho odhadla správne, tak je najvyššia hodnota pravdepodobnost na indexe číslo 6 vo výslednom vektore). \n",
    "\n",
    "- Na trénovanie sme použili LSTM vrstvu, ktorú sme neskôr kvôli rýchlejšiemu trénovaniu nahradili GRU vrstvou. \n",
    "- Po tejto vrstve sme použili dense vrstvu so softmax aktiváciou, SGD optimizerom a sparse_categorical_crossentropy loss funkciou. \n",
    "\n",
    "Neskôr sme pridávali rôzne vrstvy, ktoré však väčšinou nemali veľký vplyv na výsledok. S nami otestovaných sietí boli najlepšie tieto:"
   ]
  },
  {
   "cell_type": "markdown",
   "metadata": {},
   "source": [
    "Embedding(input_dim=64, output_dim=1)\n",
    "\n",
    "GRU(32) ->\n",
    "\n",
    "Dropout(0.2) ->\n",
    "\n",
    "Dense(16, activation='softmax')\n",
    "\n",
    "Hyperparametre:\n",
    "- SGD(lr=0.001, decay=1e-6, momentum=0.7, nesterov=False),\n",
    "- loss='sparse_categorical_crossentropy'\n",
    "- metrics='sparse_categorical_accuracy'\n",
    "- batch_size=128\n",
    "- epochs=30"
   ]
  },
  {
   "cell_type": "code",
   "execution_count": 18,
   "metadata": {},
   "outputs": [
    {
     "name": "stdout",
     "output_type": "stream",
     "text": [
      "Train on 8491 samples, validate on 1358 samples\n",
      "Epoch 1/30\n",
      "8491/8491 [==============================] - 4s 507us/sample - loss: 2.7501 - sparse_categorical_accuracy: 0.2233 - val_loss: 2.7288 - val_sparse_categorical_accuracy: 0.2172\n",
      "Epoch 2/30\n",
      "8491/8491 [==============================] - 1s 168us/sample - loss: 2.7028 - sparse_categorical_accuracy: 0.2479 - val_loss: 2.6868 - val_sparse_categorical_accuracy: 0.2172\n",
      "Epoch 3/30\n",
      "8491/8491 [==============================] - 1s 159us/sample - loss: 2.6591 - sparse_categorical_accuracy: 0.2490 - val_loss: 2.6479 - val_sparse_categorical_accuracy: 0.2172\n",
      "Epoch 4/30\n",
      "8491/8491 [==============================] - 2s 195us/sample - loss: 2.6181 - sparse_categorical_accuracy: 0.2494 - val_loss: 2.6114 - val_sparse_categorical_accuracy: 0.2172\n",
      "Epoch 5/30\n",
      "8491/8491 [==============================] - 1s 173us/sample - loss: 2.5801 - sparse_categorical_accuracy: 0.2497 - val_loss: 2.5769 - val_sparse_categorical_accuracy: 0.2172\n",
      "Epoch 6/30\n",
      "8491/8491 [==============================] - 2s 180us/sample - loss: 2.5434 - sparse_categorical_accuracy: 0.2499 - val_loss: 2.5443 - val_sparse_categorical_accuracy: 0.2172\n",
      "Epoch 7/30\n",
      "8491/8491 [==============================] - 1s 161us/sample - loss: 2.5082 - sparse_categorical_accuracy: 0.2498 - val_loss: 2.5134 - val_sparse_categorical_accuracy: 0.2172\n",
      "Epoch 8/30\n",
      "8491/8491 [==============================] - 1s 172us/sample - loss: 2.4744 - sparse_categorical_accuracy: 0.2505 - val_loss: 2.4843 - val_sparse_categorical_accuracy: 0.2172\n",
      "Epoch 9/30\n",
      "8491/8491 [==============================] - 1s 170us/sample - loss: 2.4430 - sparse_categorical_accuracy: 0.2491 - val_loss: 2.4570 - val_sparse_categorical_accuracy: 0.2172\n",
      "Epoch 10/30\n",
      "8491/8491 [==============================] - 1s 163us/sample - loss: 2.4133 - sparse_categorical_accuracy: 0.2505 - val_loss: 2.4317 - val_sparse_categorical_accuracy: 0.2172\n",
      "Epoch 11/30\n",
      "8491/8491 [==============================] - 1s 161us/sample - loss: 2.3868 - sparse_categorical_accuracy: 0.2501 - val_loss: 2.4086 - val_sparse_categorical_accuracy: 0.2172\n",
      "Epoch 12/30\n",
      "8491/8491 [==============================] - 1s 165us/sample - loss: 2.3618 - sparse_categorical_accuracy: 0.2498 - val_loss: 2.3878 - val_sparse_categorical_accuracy: 0.2172\n",
      "Epoch 13/30\n",
      "8491/8491 [==============================] - 1s 170us/sample - loss: 2.3407 - sparse_categorical_accuracy: 0.2499 - val_loss: 2.3692 - val_sparse_categorical_accuracy: 0.2172\n",
      "Epoch 14/30\n",
      "8491/8491 [==============================] - 2s 180us/sample - loss: 2.3198 - sparse_categorical_accuracy: 0.2503 - val_loss: 2.3528 - val_sparse_categorical_accuracy: 0.2172\n",
      "Epoch 15/30\n",
      "8491/8491 [==============================] - 1s 164us/sample - loss: 2.3000 - sparse_categorical_accuracy: 0.2499 - val_loss: 2.3383 - val_sparse_categorical_accuracy: 0.2172\n",
      "Epoch 16/30\n",
      "8491/8491 [==============================] - 1s 171us/sample - loss: 2.2851 - sparse_categorical_accuracy: 0.2498 - val_loss: 2.3258 - val_sparse_categorical_accuracy: 0.2172\n",
      "Epoch 17/30\n",
      "8491/8491 [==============================] - 1s 169us/sample - loss: 2.2710 - sparse_categorical_accuracy: 0.2504 - val_loss: 2.3151 - val_sparse_categorical_accuracy: 0.2172\n",
      "Epoch 18/30\n",
      "8491/8491 [==============================] - 2s 194us/sample - loss: 2.2627 - sparse_categorical_accuracy: 0.2501 - val_loss: 2.3058 - val_sparse_categorical_accuracy: 0.2172\n",
      "Epoch 19/30\n",
      "8491/8491 [==============================] - 1s 175us/sample - loss: 2.2493 - sparse_categorical_accuracy: 0.2497 - val_loss: 2.2978 - val_sparse_categorical_accuracy: 0.2172\n",
      "Epoch 20/30\n",
      "8491/8491 [==============================] - 2s 209us/sample - loss: 2.2422 - sparse_categorical_accuracy: 0.2499 - val_loss: 2.2907 - val_sparse_categorical_accuracy: 0.2172\n",
      "Epoch 21/30\n",
      "8491/8491 [==============================] - 1s 162us/sample - loss: 2.2344 - sparse_categorical_accuracy: 0.2499 - val_loss: 2.2846 - val_sparse_categorical_accuracy: 0.2172\n",
      "Epoch 22/30\n",
      "8491/8491 [==============================] - 1s 170us/sample - loss: 2.2277 - sparse_categorical_accuracy: 0.2500 - val_loss: 2.2791 - val_sparse_categorical_accuracy: 0.2172\n",
      "Epoch 23/30\n",
      "8491/8491 [==============================] - 1s 168us/sample - loss: 2.2219 - sparse_categorical_accuracy: 0.2507 - val_loss: 2.2743 - val_sparse_categorical_accuracy: 0.2172\n",
      "Epoch 24/30\n",
      "8491/8491 [==============================] - 1s 175us/sample - loss: 2.2164 - sparse_categorical_accuracy: 0.2494 - val_loss: 2.2698 - val_sparse_categorical_accuracy: 0.2172\n",
      "Epoch 25/30\n",
      "8491/8491 [==============================] - 1s 165us/sample - loss: 2.2126 - sparse_categorical_accuracy: 0.2500 - val_loss: 2.2659 - val_sparse_categorical_accuracy: 0.2172\n",
      "Epoch 26/30\n",
      "8491/8491 [==============================] - 2s 202us/sample - loss: 2.2063 - sparse_categorical_accuracy: 0.2497 - val_loss: 2.2622 - val_sparse_categorical_accuracy: 0.2172\n",
      "Epoch 27/30\n",
      "8491/8491 [==============================] - 2s 205us/sample - loss: 2.2015 - sparse_categorical_accuracy: 0.2501 - val_loss: 2.2587 - val_sparse_categorical_accuracy: 0.2172\n",
      "Epoch 28/30\n",
      "8491/8491 [==============================] - 2s 180us/sample - loss: 2.1972 - sparse_categorical_accuracy: 0.2496 - val_loss: 2.2555 - val_sparse_categorical_accuracy: 0.2172\n",
      "Epoch 29/30\n",
      "8491/8491 [==============================] - 2s 185us/sample - loss: 2.1937 - sparse_categorical_accuracy: 0.2487 - val_loss: 2.2525 - val_sparse_categorical_accuracy: 0.2172\n",
      "Epoch 30/30\n",
      "8491/8491 [==============================] - 2s 194us/sample - loss: 2.1918 - sparse_categorical_accuracy: 0.2492 - val_loss: 2.2497 - val_sparse_categorical_accuracy: 0.2172\n"
     ]
    }
   ],
   "source": [
    "model = tf.keras.Sequential()\n",
    "model.add(keras.layers.Embedding(input_dim=64, output_dim=1))\n",
    "\n",
    "# Add a LSTM layer with 128 internal units.\n",
    "model.add(keras.layers.GRU(32))\n",
    "model.add(keras.layers.Dropout(0.2))\n",
    "model.add(keras.layers.Dense(16, activation='softmax'))\n",
    "\n",
    "model.compile(loss='sparse_categorical_crossentropy',  \n",
    "              optimizer=keras.optimizers.SGD(lr=0.001, decay=1e-6, momentum=0.7, nesterov=False),\n",
    "              metrics=['sparse_categorical_accuracy'])\n",
    "\n",
    "history = model.fit(trainx, trainy,\n",
    "          validation_data=(testx, testy),\n",
    "          shuffle=True,\n",
    "          batch_size=128,\n",
    "          epochs=30);\n",
    "\n",
    "\n",
    "values = model.predict(testx[:10])"
   ]
  },
  {
   "cell_type": "code",
   "execution_count": 19,
   "metadata": {},
   "outputs": [
    {
     "data": {
      "image/png": "[encoded data removed]",
      "text/plain": [
       "<Figure size 432x288 with 1 Axes>"
      ]
     },
     "metadata": {
      "needs_background": "light"
     },
     "output_type": "display_data"
    },
    {
     "data": {
      "image/png": "[encoded data removed]",
      "text/plain": [
       "<Figure size 432x288 with 1 Axes>"
      ]
     },
     "metadata": {
      "needs_background": "light"
     },
     "output_type": "display_data"
    }
   ],
   "source": [
    "pyplot.plot(history.history['loss'])\n",
    "pyplot.plot(history.history['val_loss'])\n",
    "pyplot.ylabel('loss')\n",
    "pyplot.xlabel('epoch')\n",
    "pyplot.legend(['train', 'validation'], loc='upper right')\n",
    "pyplot.show()\n",
    "\n",
    "pyplot.plot(history.history['sparse_categorical_accuracy'])\n",
    "pyplot.plot(history.history['val_sparse_categorical_accuracy'])\n",
    "pyplot.ylabel('accuracy')\n",
    "pyplot.xlabel('epoch')\n",
    "pyplot.legend(['train', 'validation'], loc='upper right')\n",
    "pyplot.show()"
   ]
  },
  {
   "cell_type": "markdown",
   "metadata": {},
   "source": [
    "Embedding(input_dim=64, output_dim=1)\n",
    "\n",
    "GRU(32) ->\n",
    "\n",
    "Dense(16, activation='relu') ->\n",
    "\n",
    "Dense(16, activation='softmax')\n",
    "\n",
    "hyperparametre:\n",
    "- SGD(lr=0.01, momentum=0.65, nesterov=True)\n",
    "- loss='sparse_categorical_crossentropy'\n",
    "- metrics='sparse_categorical_accuracy'\n",
    "- batch_size=128\n",
    "- epochs=25"
   ]
  },
  {
   "cell_type": "code",
   "execution_count": 20,
   "metadata": {},
   "outputs": [
    {
     "name": "stdout",
     "output_type": "stream",
     "text": [
      "Train on 8491 samples, validate on 1358 samples\n",
      "Epoch 1/25\n",
      "8491/8491 [==============================] - 5s 559us/sample - loss: 2.6017 - sparse_categorical_accuracy: 0.2468 - val_loss: 2.4531 - val_sparse_categorical_accuracy: 0.2172\n",
      "Epoch 2/25\n",
      "8491/8491 [==============================] - 1s 156us/sample - loss: 2.3619 - sparse_categorical_accuracy: 0.2493 - val_loss: 2.3059 - val_sparse_categorical_accuracy: 0.2172\n",
      "Epoch 3/25\n",
      "8491/8491 [==============================] - 2s 192us/sample - loss: 2.2461 - sparse_categorical_accuracy: 0.2468 - val_loss: 2.2406 - val_sparse_categorical_accuracy: 0.2172\n",
      "Epoch 4/25\n",
      "8491/8491 [==============================] - 1s 151us/sample - loss: 2.2021 - sparse_categorical_accuracy: 0.2407 - val_loss: 2.2196 - val_sparse_categorical_accuracy: 0.2172\n",
      "Epoch 5/25\n",
      "8491/8491 [==============================] - 1s 165us/sample - loss: 2.1795 - sparse_categorical_accuracy: 0.2366 - val_loss: 2.2098 - val_sparse_categorical_accuracy: 0.2172\n",
      "Epoch 6/25\n",
      "8491/8491 [==============================] - 1s 155us/sample - loss: 2.1737 - sparse_categorical_accuracy: 0.2384 - val_loss: 2.2058 - val_sparse_categorical_accuracy: 0.2172\n",
      "Epoch 7/25\n",
      "8491/8491 [==============================] - 1s 159us/sample - loss: 2.1677 - sparse_categorical_accuracy: 0.2380 - val_loss: 2.2011 - val_sparse_categorical_accuracy: 0.2172\n",
      "Epoch 8/25\n",
      "8491/8491 [==============================] - 2s 186us/sample - loss: 2.1614 - sparse_categorical_accuracy: 0.2438 - val_loss: 2.1991 - val_sparse_categorical_accuracy: 0.2172\n",
      "Epoch 9/25\n",
      "8491/8491 [==============================] - 1s 168us/sample - loss: 2.1584 - sparse_categorical_accuracy: 0.2419 - val_loss: 2.1983 - val_sparse_categorical_accuracy: 0.2172\n",
      "Epoch 10/25\n",
      "8491/8491 [==============================] - 1s 164us/sample - loss: 2.1560 - sparse_categorical_accuracy: 0.2453 - val_loss: 2.1976 - val_sparse_categorical_accuracy: 0.2172\n",
      "Epoch 11/25\n",
      "8491/8491 [==============================] - 2s 186us/sample - loss: 2.1518 - sparse_categorical_accuracy: 0.2456 - val_loss: 2.1967 - val_sparse_categorical_accuracy: 0.2172\n",
      "Epoch 12/25\n",
      "8491/8491 [==============================] - 2s 180us/sample - loss: 2.1486 - sparse_categorical_accuracy: 0.2472 - val_loss: 2.1972 - val_sparse_categorical_accuracy: 0.2172\n",
      "Epoch 13/25\n",
      "8491/8491 [==============================] - 2s 185us/sample - loss: 2.1452 - sparse_categorical_accuracy: 0.2481 - val_loss: 2.1959 - val_sparse_categorical_accuracy: 0.2172\n",
      "Epoch 14/25\n",
      "8491/8491 [==============================] - 1s 169us/sample - loss: 2.1446 - sparse_categorical_accuracy: 0.2483 - val_loss: 2.1943 - val_sparse_categorical_accuracy: 0.2172\n",
      "Epoch 15/25\n",
      "8491/8491 [==============================] - 1s 173us/sample - loss: 2.1451 - sparse_categorical_accuracy: 0.2499 - val_loss: 2.1942 - val_sparse_categorical_accuracy: 0.2172\n",
      "Epoch 16/25\n",
      "8491/8491 [==============================] - 1s 166us/sample - loss: 2.1375 - sparse_categorical_accuracy: 0.2499 - val_loss: 2.1958 - val_sparse_categorical_accuracy: 0.2172\n",
      "Epoch 17/25\n",
      "8491/8491 [==============================] - 1s 163us/sample - loss: 2.1361 - sparse_categorical_accuracy: 0.2492 - val_loss: 2.1960 - val_sparse_categorical_accuracy: 0.2172\n",
      "Epoch 18/25\n",
      "8491/8491 [==============================] - 2s 190us/sample - loss: 2.1402 - sparse_categorical_accuracy: 0.2501 - val_loss: 2.1968 - val_sparse_categorical_accuracy: 0.2172\n",
      "Epoch 19/25\n",
      "8491/8491 [==============================] - 2s 211us/sample - loss: 2.1349 - sparse_categorical_accuracy: 0.2500 - val_loss: 2.1963 - val_sparse_categorical_accuracy: 0.2172\n",
      "Epoch 20/25\n",
      "8491/8491 [==============================] - 1s 167us/sample - loss: 2.1351 - sparse_categorical_accuracy: 0.2500 - val_loss: 2.1954 - val_sparse_categorical_accuracy: 0.2172\n",
      "Epoch 21/25\n",
      "8491/8491 [==============================] - 2s 193us/sample - loss: 2.1350 - sparse_categorical_accuracy: 0.2500 - val_loss: 2.1986 - val_sparse_categorical_accuracy: 0.2172\n",
      "Epoch 22/25\n",
      "8491/8491 [==============================] - 2s 236us/sample - loss: 2.1332 - sparse_categorical_accuracy: 0.2500 - val_loss: 2.1990 - val_sparse_categorical_accuracy: 0.2172\n",
      "Epoch 23/25\n",
      "8491/8491 [==============================] - 2s 184us/sample - loss: 2.1309 - sparse_categorical_accuracy: 0.2500 - val_loss: 2.1992 - val_sparse_categorical_accuracy: 0.2172\n",
      "Epoch 24/25\n",
      "8491/8491 [==============================] - 1s 171us/sample - loss: 2.1297 - sparse_categorical_accuracy: 0.2500 - val_loss: 2.1969 - val_sparse_categorical_accuracy: 0.2172\n",
      "Epoch 25/25\n",
      "8491/8491 [==============================] - 2s 184us/sample - loss: 2.1296 - sparse_categorical_accuracy: 0.2500 - val_loss: 2.1958 - val_sparse_categorical_accuracy: 0.2172\n"
     ]
    }
   ],
   "source": [
    "model = tf.keras.Sequential()\n",
    "model.add(keras.layers.Embedding(input_dim=64, output_dim=1))\n",
    "\n",
    "# Add a LSTM layer with 128 internal units.\n",
    "model.add(keras.layers.GRU(32))\n",
    "model.add(keras.layers.Dense(16, activation='relu'))\n",
    "model.add(keras.layers.Dropout(0.2))\n",
    "model.add(keras.layers.Dense(16, activation='softmax'))\n",
    "\n",
    "model.compile(loss='sparse_categorical_crossentropy',  \n",
    "              optimizer=keras.optimizers.SGD(lr=0.01, momentum=0.65, nesterov=True),\n",
    "              metrics=['sparse_categorical_accuracy'])\n",
    "\n",
    "history = model.fit(trainx, trainy,\n",
    "          validation_data=(testx, testy),\n",
    "          shuffle=True,\n",
    "          batch_size=128,\n",
    "          epochs=25);\n",
    "\n",
    "values = model.predict(testx[:10])"
   ]
  },
  {
   "cell_type": "code",
   "execution_count": 21,
   "metadata": {
    "scrolled": true
   },
   "outputs": [
    {
     "data": {
      "image/png": "[encoded data removed]",
      "text/plain": [
       "<Figure size 432x288 with 1 Axes>"
      ]
     },
     "metadata": {
      "needs_background": "light"
     },
     "output_type": "display_data"
    },
    {
     "data": {
      "image/png": "[encoded data removed]",
      "text/plain": [
       "<Figure size 432x288 with 1 Axes>"
      ]
     },
     "metadata": {
      "needs_background": "light"
     },
     "output_type": "display_data"
    }
   ],
   "source": [
    "pyplot.plot(history.history['loss'])\n",
    "pyplot.plot(history.history['val_loss'])\n",
    "pyplot.ylabel('loss')\n",
    "pyplot.xlabel('epoch')\n",
    "pyplot.legend(['train', 'validation'], loc='upper right')\n",
    "pyplot.show()\n",
    "\n",
    "pyplot.plot(history.history['sparse_categorical_accuracy'])\n",
    "pyplot.plot(history.history['val_sparse_categorical_accuracy'])\n",
    "pyplot.ylabel('sparse_categorical_accuracy')\n",
    "pyplot.xlabel('epoch')\n",
    "pyplot.legend(['train', 'validation'], loc='upper right')\n",
    "pyplot.show()\n"
   ]
  },
  {
   "cell_type": "markdown",
   "metadata": {},
   "source": [
    "Sparse_categorical_accuracy bola v obidvoch modeloch na hranici **25%**, pričom aj pri zmene hyperparametrov a architektúry nebolo možné dosiahnuť vyššiu presnosť. Vyššie popísané architektúry boli použité z toho dôvodu, lebo dokázali najlepšie minimalizovať loss funkciu(**na hodnotu 2**), pričom pri ostatných architektúrach bola táto hodnota **2,7**. "
   ]
  }
 ],
 "metadata": {
  "kernelspec": {
   "display_name": "Python 3",
   "language": "python",
   "name": "python3"
  },
  "language_info": {
   "codemirror_mode": {
    "name": "ipython",
    "version": 3
   },
   "file_extension": ".py",
   "mimetype": "text/x-python",
   "name": "python",
   "nbconvert_exporter": "python",
   "pygments_lexer": "ipython3",
   "version": "3.6.8"
  }
 },
 "nbformat": 4,
 "nbformat_minor": 4
}
