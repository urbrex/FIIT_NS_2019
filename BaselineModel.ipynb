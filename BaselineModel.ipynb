{
 "cells": [
  {
   "cell_type": "markdown",
   "metadata": {},
   "source": [
    "# Baseline model"
   ]
  },
  {
   "cell_type": "markdown",
   "metadata": {},
   "source": [
    "Ako baseline model sme použili regresnú neurónovú sieť, skladajúcu sa zo 4 DENSE vrstiev(16-8-4-4) s aktivačnou funkciou RELU. Po vytvorení tohto modelu sme sa rozhodli vytvoriť iný baseline model, keďže výsledky pôvodne plánovaného modelu sme vyhodnotili ako nedostačné."
   ]
  },
  {
   "cell_type": "code",
   "execution_count": 10,
   "metadata": {},
   "outputs": [
    {
     "name": "stdout",
     "output_type": "stream",
     "text": [
      "The autoreload extension is already loaded. To reload it, use:\n",
      "  %reload_ext autoreload\n",
      "The tensorboard extension is already loaded. To reload it, use:\n",
      "  %reload_ext tensorboard\n"
     ]
    }
   ],
   "source": [
    "%load_ext autoreload\n",
    "%autoreload 2\n",
    "\n",
    "%load_ext tensorboard\n",
    "\n",
    "import datetime\n",
    "import os\n",
    "import sys\n",
    "sys.path.append('..')\n",
    "\n",
    "import tensorflow as tf\n",
    "import tensorflow.keras as keras\n",
    "import numpy as np\n",
    "from matplotlib import pyplot"
   ]
  },
  {
   "cell_type": "markdown",
   "metadata": {},
   "source": [
    "Načítanie hodnôt z vopred pripraveného datasetu 1."
   ]
  },
  {
   "cell_type": "code",
   "execution_count": 11,
   "metadata": {},
   "outputs": [],
   "source": [
    "testx = np.genfromtxt('./datasets/dataSet1TestX1.csv', delimiter=',')[1:]\n",
    "testy = np.genfromtxt('./datasets/dataSet1TestY1.csv', delimiter=',')\n",
    "\n",
    "trainx = np.genfromtxt('./datasets/dataSet1TrainX1.csv', delimiter=',')[1:]\n",
    "trainy = np.genfromtxt('./datasets/dataSet1TrainY1.csv', delimiter=',')"
   ]
  },
  {
   "cell_type": "markdown",
   "metadata": {},
   "source": [
    "Načítanie hodnôt z vopred pripraveného datasetu 2."
   ]
  },
  {
   "cell_type": "code",
   "execution_count": 30,
   "metadata": {},
   "outputs": [],
   "source": [
    "testx = np.genfromtxt('./datasets/dataSet2TestX.csv', delimiter=',')[1:]\n",
    "testy = np.genfromtxt('./datasets/dataSet2TestY.csv', delimiter=',')\n",
    "\n",
    "trainx = np.genfromtxt('./datasets/dataSet2TrainX.csv', delimiter=',')[1:]\n",
    "trainy = np.genfromtxt('./datasets/dataSet2TrainY.csv', delimiter=',')"
   ]
  },
  {
   "cell_type": "markdown",
   "metadata": {},
   "source": [
    "Načítanie hodnôt z vopred pripraveného datasetu 3."
   ]
  },
  {
   "cell_type": "code",
   "execution_count": 30,
   "metadata": {},
   "outputs": [],
   "source": [
    "testx = np.genfromtxt('./datasets/dataSet3TestX.csv', delimiter=',')[1:]\n",
    "testy = np.genfromtxt('./datasets/dataSet3TestY.csv', delimiter=',')\n",
    "\n",
    "trainx = np.genfromtxt('./datasets/dataSet3TrainX.csv', delimiter=',')[1:]\n",
    "trainy = np.genfromtxt('./datasets/dataSet3TrainY.csv', delimiter=',')"
   ]
  },
  {
   "cell_type": "markdown",
   "metadata": {},
   "source": [
    "Prvý model s  DENSE vrstvami."
   ]
  },
  {
   "cell_type": "code",
   "execution_count": 28,
   "metadata": {},
   "outputs": [
    {
     "name": "stdout",
     "output_type": "stream",
     "text": [
      "Train on 8491 samples, validate on 1358 samples\n",
      "Epoch 1/30\n",
      "8491/8491 [==============================] - 2s 190us/sample - loss: 8.4949 - MAE: 2.2721 - val_loss: 6.2866 - val_MAE: 1.9200\n",
      "Epoch 2/30\n",
      "8491/8491 [==============================] - 0s 56us/sample - loss: 5.2495 - MAE: 1.8402 - val_loss: 5.8312 - val_MAE: 1.9008\n",
      "Epoch 3/30\n",
      "8491/8491 [==============================] - 0s 46us/sample - loss: 4.9572 - MAE: 1.7872 - val_loss: 5.7545 - val_MAE: 1.8966\n",
      "Epoch 4/30\n",
      "8491/8491 [==============================] - 0s 53us/sample - loss: 4.8902 - MAE: 1.7760 - val_loss: 5.7371 - val_MAE: 1.8956\n",
      "Epoch 5/30\n",
      "8491/8491 [==============================] - 1s 64us/sample - loss: 4.8687 - MAE: 1.7788 - val_loss: 5.8002 - val_MAE: 1.8992\n",
      "Epoch 6/30\n",
      "8491/8491 [==============================] - 0s 52us/sample - loss: 4.8650 - MAE: 1.7788 - val_loss: 5.7525 - val_MAE: 1.8965\n",
      "Epoch 7/30\n",
      "8491/8491 [==============================] - 0s 59us/sample - loss: 4.8609 - MAE: 1.7788 - val_loss: 5.6959 - val_MAE: 1.8930\n",
      "Epoch 8/30\n",
      "8491/8491 [==============================] - 1s 79us/sample - loss: 4.8587 - MAE: 1.7808 - val_loss: 5.7159 - val_MAE: 1.8943\n",
      "Epoch 9/30\n",
      "8491/8491 [==============================] - 0s 53us/sample - loss: 4.8581 - MAE: 1.7799 - val_loss: 5.6925 - val_MAE: 1.8928\n",
      "Epoch 10/30\n",
      "8491/8491 [==============================] - 1s 70us/sample - loss: 4.8570 - MAE: 1.7799 - val_loss: 5.6168 - val_MAE: 1.8874\n",
      "Epoch 11/30\n",
      "8491/8491 [==============================] - 1s 63us/sample - loss: 4.8577 - MAE: 1.7823 - val_loss: 5.6641 - val_MAE: 1.8909\n",
      "Epoch 12/30\n",
      "8491/8491 [==============================] - 1s 66us/sample - loss: 4.8580 - MAE: 1.7823 - val_loss: 5.7113 - val_MAE: 1.8940\n",
      "Epoch 13/30\n",
      "8491/8491 [==============================] - 0s 56us/sample - loss: 4.8577 - MAE: 1.7808 - val_loss: 5.6960 - val_MAE: 1.8931\n",
      "Epoch 14/30\n",
      "8491/8491 [==============================] - 1s 66us/sample - loss: 4.8573 - MAE: 1.7815 - val_loss: 5.6899 - val_MAE: 1.8927\n",
      "Epoch 15/30\n",
      "8491/8491 [==============================] - 1s 87us/sample - loss: 4.8572 - MAE: 1.7818 - val_loss: 5.6995 - val_MAE: 1.8933\n",
      "Epoch 16/30\n",
      "8491/8491 [==============================] - 1s 62us/sample - loss: 4.8568 - MAE: 1.7811 - val_loss: 5.6969 - val_MAE: 1.8931\n",
      "Epoch 17/30\n",
      "8491/8491 [==============================] - 1s 63us/sample - loss: 4.8569 - MAE: 1.7815 - val_loss: 5.7088 - val_MAE: 1.8939\n",
      "Epoch 18/30\n",
      "8491/8491 [==============================] - 1s 60us/sample - loss: 4.8556 - MAE: 1.7795 - val_loss: 5.6777 - val_MAE: 1.8919\n",
      "Epoch 19/30\n",
      "8491/8491 [==============================] - 1s 73us/sample - loss: 4.8570 - MAE: 1.7809 - val_loss: 5.6568 - val_MAE: 1.8904\n",
      "Epoch 20/30\n",
      "8491/8491 [==============================] - 0s 57us/sample - loss: 4.8577 - MAE: 1.7825 - val_loss: 5.7030 - val_MAE: 1.8935\n",
      "Epoch 21/30\n",
      "8491/8491 [==============================] - 1s 61us/sample - loss: 4.8563 - MAE: 1.7801 - val_loss: 5.6833 - val_MAE: 1.8922\n",
      "Epoch 22/30\n",
      "8491/8491 [==============================] - 1s 65us/sample - loss: 4.8567 - MAE: 1.7818 - val_loss: 5.7279 - val_MAE: 1.8951\n",
      "Epoch 23/30\n",
      "8491/8491 [==============================] - 1s 77us/sample - loss: 4.8555 - MAE: 1.7794 - val_loss: 5.6743 - val_MAE: 1.8916\n",
      "Epoch 24/30\n",
      "8491/8491 [==============================] - 1s 70us/sample - loss: 4.8569 - MAE: 1.7821 - val_loss: 5.7172 - val_MAE: 1.8944\n",
      "Epoch 25/30\n",
      "8491/8491 [==============================] - 0s 58us/sample - loss: 4.8572 - MAE: 1.7807 - val_loss: 5.6766 - val_MAE: 1.8918\n",
      "Epoch 26/30\n",
      "8491/8491 [==============================] - 1s 82us/sample - loss: 4.8570 - MAE: 1.7813 - val_loss: 5.6465 - val_MAE: 1.8897\n",
      "Epoch 27/30\n",
      "8491/8491 [==============================] - 0s 56us/sample - loss: 4.8568 - MAE: 1.7829 - val_loss: 5.7058 - val_MAE: 1.8937\n",
      "Epoch 28/30\n",
      "8491/8491 [==============================] - 0s 56us/sample - loss: 4.8564 - MAE: 1.7809 - val_loss: 5.6762 - val_MAE: 1.8917\n",
      "Epoch 29/30\n",
      "8491/8491 [==============================] - 1s 94us/sample - loss: 4.8555 - MAE: 1.7818 - val_loss: 5.7089 - val_MAE: 1.8939\n",
      "Epoch 30/30\n",
      "8491/8491 [==============================] - 1s 69us/sample - loss: 4.8565 - MAE: 1.7811 - val_loss: 5.7103 - val_MAE: 1.8940\n"
     ]
    }
   ],
   "source": [
    "model = tf.keras.Sequential()\n",
    "model.add(keras.layers.Embedding(input_dim=64, output_dim=16))\n",
    "\n",
    "# Add a LSTM layer with 128 internal units.\n",
    "# model.add(keras.layers.GRU(32))\n",
    "model.add(keras.layers.Dense(16, activation='relu'))\n",
    "model.add(keras.layers.Dense(8, activation='relu'))\n",
    "model.add(keras.layers.Dense(4, activation='relu'))\n",
    "model.add(keras.layers.Dropout(0.2))\n",
    "model.add(keras.layers.Dense(1, activation='relu'))\n",
    "\n",
    "model.compile(loss='mean_squared_error',  \n",
    "              optimizer=keras.optimizers.SGD(lr=0.03,  nesterov=True),\n",
    "              metrics=['MAE'])\n",
    "\n",
    "history = model.fit(trainx, trainy,\n",
    "          validation_data=(testx, testy),\n",
    "          shuffle=True,\n",
    "          batch_size=128,\n",
    "          epochs=30);\n",
    "\n",
    "\n",
    "values = model.predict(testx[:10])"
   ]
  },
  {
   "cell_type": "markdown",
   "metadata": {},
   "source": [
    "Po tomto modeli sme sa rozhodli, že vytvoríme klasifikačnú rekurentnú neurónovú sieť(RNN). Model sme sa snažili priradiť do jednej zo 16 klasifikačných tried, pričom každá trieda symbolizovala počet gólov(v prípade, že mal byť výsledok 7 gólov a sieť ho odhadla správne, tak je najvyššia hodnota pravdepodobnost na indexe číslo 6 vo výslednom vektore). \n",
    "\n",
    "- Na trénovanie sme použili LSTM vrstvu, ktorú sme neskôr kvôli rýchlejšiemu trénovaniu nahradili GRU vrstvou. \n",
    "- Po tejto vrstve sme použili dense vrstvu so softmax aktiváciou, SGD optimizerom a sparse_categorical_crossentropy loss funkciou. \n",
    "\n",
    "Neskôr sme pridávali rôzne vrstvy, ktoré však väčšinou nemali veľký vplyv na výsledok. S nami otestovaných sietí boli najlepšie tieto:"
   ]
  },
  {
   "cell_type": "markdown",
   "metadata": {},
   "source": [
    "Embedding(input_dim=64, output_dim=1)\n",
    "- GRU(32) ->\n",
    "- Dense(16, activation='relu') ->\n",
    "- Dense(16, activation='softmax')\n",
    "\n",
    "hyperparametre:\n",
    "- SGD(lr=0.01, momentum=0.65, nesterov=True)\n",
    "- loss='sparse_categorical_crossentropy'\n",
    "- metrics='sparse_categorical_accuracy'\n",
    "- batch_size=128\n",
    " - epochs=25"
   ]
  },
  {
   "cell_type": "code",
   "execution_count": 4,
   "metadata": {},
   "outputs": [
    {
     "name": "stdout",
     "output_type": "stream",
     "text": [
      "Train on 8491 samples, validate on 1358 samples\n",
      "Epoch 1/30\n",
      "8491/8491 [==============================] - 6s 736us/sample - loss: 2.7532 - sparse_categorical_accuracy: 0.2059 - val_loss: 2.7329 - val_sparse_categorical_accuracy: 0.2172\n",
      "Epoch 2/30\n",
      "8491/8491 [==============================] - 2s 217us/sample - loss: 2.7074 - sparse_categorical_accuracy: 0.2334 - val_loss: 2.6923 - val_sparse_categorical_accuracy: 0.2172\n",
      "Epoch 3/30\n",
      "8491/8491 [==============================] - 2s 209us/sample - loss: 2.6654 - sparse_categorical_accuracy: 0.2239 - val_loss: 2.6546 - val_sparse_categorical_accuracy: 0.2172\n",
      "Epoch 4/30\n",
      "8491/8491 [==============================] - 2s 204us/sample - loss: 2.6245 - sparse_categorical_accuracy: 0.2294 - val_loss: 2.6184 - val_sparse_categorical_accuracy: 0.2172\n",
      "Epoch 5/30\n",
      "8491/8491 [==============================] - 2s 219us/sample - loss: 2.5858 - sparse_categorical_accuracy: 0.2308 - val_loss: 2.5841 - val_sparse_categorical_accuracy: 0.2172\n",
      "Epoch 6/30\n",
      "8491/8491 [==============================] - 2s 221us/sample - loss: 2.5501 - sparse_categorical_accuracy: 0.2314 - val_loss: 2.5513 - val_sparse_categorical_accuracy: 0.2172\n",
      "Epoch 7/30\n",
      "8491/8491 [==============================] - 2s 219us/sample - loss: 2.5157 - sparse_categorical_accuracy: 0.2377 - val_loss: 2.5199 - val_sparse_categorical_accuracy: 0.2172\n",
      "Epoch 8/30\n",
      "8491/8491 [==============================] - 2s 205us/sample - loss: 2.4804 - sparse_categorical_accuracy: 0.2408 - val_loss: 2.4899 - val_sparse_categorical_accuracy: 0.2172\n",
      "Epoch 9/30\n",
      "8491/8491 [==============================] - 2s 242us/sample - loss: 2.4493 - sparse_categorical_accuracy: 0.2355 - val_loss: 2.4617 - val_sparse_categorical_accuracy: 0.2172\n",
      "Epoch 10/30\n",
      "8491/8491 [==============================] - 2s 207us/sample - loss: 2.4179 - sparse_categorical_accuracy: 0.2426 - val_loss: 2.4351 - val_sparse_categorical_accuracy: 0.2172\n",
      "Epoch 11/30\n",
      "8491/8491 [==============================] - 2s 253us/sample - loss: 2.3899 - sparse_categorical_accuracy: 0.2463 - val_loss: 2.4103 - val_sparse_categorical_accuracy: 0.2172\n",
      "Epoch 12/30\n",
      "8491/8491 [==============================] - 2s 206us/sample - loss: 2.3641 - sparse_categorical_accuracy: 0.2419 - val_loss: 2.3877 - val_sparse_categorical_accuracy: 0.2172\n",
      "Epoch 13/30\n",
      "8491/8491 [==============================] - 2s 226us/sample - loss: 2.3381 - sparse_categorical_accuracy: 0.2465 - val_loss: 2.3670 - val_sparse_categorical_accuracy: 0.2172\n",
      "Epoch 14/30\n",
      "8491/8491 [==============================] - 2s 240us/sample - loss: 2.3173 - sparse_categorical_accuracy: 0.2447 - val_loss: 2.3487 - val_sparse_categorical_accuracy: 0.2172\n",
      "Epoch 15/30\n",
      "8491/8491 [==============================] - 2s 237us/sample - loss: 2.2991 - sparse_categorical_accuracy: 0.2436 - val_loss: 2.3323 - val_sparse_categorical_accuracy: 0.2172\n",
      "Epoch 16/30\n",
      "8491/8491 [==============================] - 2s 243us/sample - loss: 2.2818 - sparse_categorical_accuracy: 0.2450 - val_loss: 2.3181 - val_sparse_categorical_accuracy: 0.2172\n",
      "Epoch 17/30\n",
      "8491/8491 [==============================] - 2s 228us/sample - loss: 2.2684 - sparse_categorical_accuracy: 0.2425 - val_loss: 2.3056 - val_sparse_categorical_accuracy: 0.2172\n",
      "Epoch 18/30\n",
      "8491/8491 [==============================] - 2s 239us/sample - loss: 2.2549 - sparse_categorical_accuracy: 0.2444 - val_loss: 2.2947 - val_sparse_categorical_accuracy: 0.2172\n",
      "Epoch 19/30\n",
      "8491/8491 [==============================] - 2s 260us/sample - loss: 2.2415 - sparse_categorical_accuracy: 0.2467 - val_loss: 2.2852 - val_sparse_categorical_accuracy: 0.2172\n",
      "Epoch 20/30\n",
      "8491/8491 [==============================] - 2s 240us/sample - loss: 2.2349 - sparse_categorical_accuracy: 0.2456 - val_loss: 2.2770 - val_sparse_categorical_accuracy: 0.2172\n",
      "Epoch 21/30\n",
      "8491/8491 [==============================] - 2s 239us/sample - loss: 2.2247 - sparse_categorical_accuracy: 0.2437 - val_loss: 2.2697 - val_sparse_categorical_accuracy: 0.2172\n",
      "Epoch 22/30\n",
      "8491/8491 [==============================] - 2s 208us/sample - loss: 2.2173 - sparse_categorical_accuracy: 0.2436 - val_loss: 2.2634 - val_sparse_categorical_accuracy: 0.2172\n",
      "Epoch 23/30\n",
      "8491/8491 [==============================] - 2s 235us/sample - loss: 2.2079 - sparse_categorical_accuracy: 0.2439 - val_loss: 2.2575 - val_sparse_categorical_accuracy: 0.2172\n",
      "Epoch 24/30\n",
      "8491/8491 [==============================] - 2s 219us/sample - loss: 2.2070 - sparse_categorical_accuracy: 0.2400 - val_loss: 2.2525 - val_sparse_categorical_accuracy: 0.2172\n",
      "Epoch 25/30\n",
      "8491/8491 [==============================] - 2s 235us/sample - loss: 2.2007 - sparse_categorical_accuracy: 0.2385 - val_loss: 2.2481 - val_sparse_categorical_accuracy: 0.2172\n",
      "Epoch 26/30\n",
      "8491/8491 [==============================] - 2s 208us/sample - loss: 2.1992 - sparse_categorical_accuracy: 0.2408 - val_loss: 2.2440 - val_sparse_categorical_accuracy: 0.2172\n",
      "Epoch 27/30\n",
      "8491/8491 [==============================] - 2s 226us/sample - loss: 2.1939 - sparse_categorical_accuracy: 0.2428 - val_loss: 2.2404 - val_sparse_categorical_accuracy: 0.2172\n",
      "Epoch 28/30\n",
      "8491/8491 [==============================] - 2s 233us/sample - loss: 2.1872 - sparse_categorical_accuracy: 0.2420 - val_loss: 2.2371 - val_sparse_categorical_accuracy: 0.2172\n",
      "Epoch 29/30\n",
      "8491/8491 [==============================] - 2s 231us/sample - loss: 2.1852 - sparse_categorical_accuracy: 0.2404 - val_loss: 2.2341 - val_sparse_categorical_accuracy: 0.2172\n",
      "Epoch 30/30\n",
      "8491/8491 [==============================] - 2s 239us/sample - loss: 2.1862 - sparse_categorical_accuracy: 0.2406 - val_loss: 2.2314 - val_sparse_categorical_accuracy: 0.2172\n"
     ]
    }
   ],
   "source": [
    "model = tf.keras.Sequential()\n",
    "model.add(keras.layers.Embedding(input_dim=64, output_dim=1,input_length=36))\n",
    "\n",
    "# Add a LSTM layer with 128 internal units.\n",
    "model.add(keras.layers.GRU(32))\n",
    "model.add(keras.layers.Dropout(0.2))\n",
    "model.add(keras.layers.Dense(16, activation='softmax'))\n",
    "\n",
    "model.compile(loss='sparse_categorical_crossentropy',  \n",
    "              optimizer=keras.optimizers.SGD(lr=0.001, decay=1e-6, momentum=0.7, nesterov=False),\n",
    "              metrics=['sparse_categorical_accuracy'])\n",
    "\n",
    "history = model.fit(trainx, trainy,\n",
    "          validation_data=(testx, testy),\n",
    "          shuffle=True,\n",
    "          batch_size=128,\n",
    "          epochs=30);\n",
    "\n",
    "\n",
    "values = model.predict(testx[:10])"
   ]
  },
  {
   "cell_type": "code",
   "execution_count": 6,
   "metadata": {},
   "outputs": [
    {
     "data": {
      "image/png": "[encoded data removed]",
      "text/plain": [
       "<Figure size 432x288 with 1 Axes>"
      ]
     },
     "metadata": {
      "needs_background": "light"
     },
     "output_type": "display_data"
    },
    {
     "data": {
      "image/png": "[encoded data removed]",
      "text/plain": [
       "<Figure size 432x288 with 1 Axes>"
      ]
     },
     "metadata": {
      "needs_background": "light"
     },
     "output_type": "display_data"
    }
   ],
   "source": [
    "pyplot.plot(history.history['loss'])\n",
    "pyplot.plot(history.history['val_loss'])\n",
    "pyplot.ylabel('loss')\n",
    "pyplot.xlabel('epoch')\n",
    "pyplot.legend(['train', 'validation'], loc='upper right')\n",
    "pyplot.show()\n",
    "\n",
    "pyplot.plot(history.history['sparse_categorical_accuracy'])\n",
    "pyplot.plot(history.history['val_sparse_categorical_accuracy'])\n",
    "pyplot.ylabel('accuracy')\n",
    "pyplot.xlabel('epoch')\n",
    "pyplot.legend(['train', 'validation'], loc='upper right')\n",
    "pyplot.show()"
   ]
  },
  {
   "cell_type": "markdown",
   "metadata": {},
   "source": [
    "Embedding(input_dim=64, output_dim=1)\n",
    "- GRU(32) ->\n",
    "- Dropout(0.2) ->\n",
    "- Dense(16, activation='softmax')\n",
    "\n",
    "Hyperparametre:\n",
    "- SGD(lr=0.001, decay=1e-6, momentum=0.7, nesterov=False),\n",
    "- loss='sparse_categorical_crossentropy'\n",
    "- metrics='sparse_categorical_accuracy'\n",
    "- batch_size=128\n",
    " - epochs=30"
   ]
  },
  {
   "cell_type": "code",
   "execution_count": 32,
   "metadata": {},
   "outputs": [
    {
     "name": "stdout",
     "output_type": "stream",
     "text": [
      "Train on 8491 samples, validate on 1358 samples\n",
      "Epoch 1/25\n",
      "8491/8491 [==============================] - 4s 514us/sample - loss: 2.6075 - sparse_categorical_accuracy: 0.1920 - val_loss: 2.4519 - val_sparse_categorical_accuracy: 0.2172\n",
      "Epoch 2/25\n",
      "8491/8491 [==============================] - 1s 171us/sample - loss: 2.3388 - sparse_categorical_accuracy: 0.2365 - val_loss: 2.2812 - val_sparse_categorical_accuracy: 0.2172\n",
      "Epoch 3/25\n",
      "8491/8491 [==============================] - 2s 191us/sample - loss: 2.2445 - sparse_categorical_accuracy: 0.2294 - val_loss: 2.2324 - val_sparse_categorical_accuracy: 0.2172\n",
      "Epoch 4/25\n",
      "8491/8491 [==============================] - 1s 167us/sample - loss: 2.2045 - sparse_categorical_accuracy: 0.2383 - val_loss: 2.2114 - val_sparse_categorical_accuracy: 0.2172\n",
      "Epoch 5/25\n",
      "8491/8491 [==============================] - 1s 173us/sample - loss: 2.1852 - sparse_categorical_accuracy: 0.2421 - val_loss: 2.2030 - val_sparse_categorical_accuracy: 0.2172\n",
      "Epoch 6/25\n",
      "8491/8491 [==============================] - 2s 178us/sample - loss: 2.1756 - sparse_categorical_accuracy: 0.2415 - val_loss: 2.1968 - val_sparse_categorical_accuracy: 0.2172\n",
      "Epoch 7/25\n",
      "8491/8491 [==============================] - 1s 165us/sample - loss: 2.1693 - sparse_categorical_accuracy: 0.2434 - val_loss: 2.1959 - val_sparse_categorical_accuracy: 0.2172\n",
      "Epoch 8/25\n",
      "8491/8491 [==============================] - 2s 183us/sample - loss: 2.1613 - sparse_categorical_accuracy: 0.2454 - val_loss: 2.1956 - val_sparse_categorical_accuracy: 0.2172\n",
      "Epoch 9/25\n",
      "8491/8491 [==============================] - 2s 272us/sample - loss: 2.1573 - sparse_categorical_accuracy: 0.2497 - val_loss: 2.1928 - val_sparse_categorical_accuracy: 0.2172\n",
      "Epoch 10/25\n",
      "8491/8491 [==============================] - 2s 219us/sample - loss: 2.1510 - sparse_categorical_accuracy: 0.2497 - val_loss: 2.1956 - val_sparse_categorical_accuracy: 0.2172\n",
      "Epoch 11/25\n",
      "8491/8491 [==============================] - 1s 167us/sample - loss: 2.1451 - sparse_categorical_accuracy: 0.2494 - val_loss: 2.1937 - val_sparse_categorical_accuracy: 0.2172\n",
      "Epoch 12/25\n",
      "8491/8491 [==============================] - 1s 169us/sample - loss: 2.1452 - sparse_categorical_accuracy: 0.2497 - val_loss: 2.1931 - val_sparse_categorical_accuracy: 0.2172\n",
      "Epoch 13/25\n",
      "8491/8491 [==============================] - 1s 170us/sample - loss: 2.1436 - sparse_categorical_accuracy: 0.2500 - val_loss: 2.1927 - val_sparse_categorical_accuracy: 0.2172\n",
      "Epoch 14/25\n",
      "8491/8491 [==============================] - 2s 197us/sample - loss: 2.1389 - sparse_categorical_accuracy: 0.2500 - val_loss: 2.1947 - val_sparse_categorical_accuracy: 0.2172\n",
      "Epoch 15/25\n",
      "8491/8491 [==============================] - 2s 201us/sample - loss: 2.1356 - sparse_categorical_accuracy: 0.2500 - val_loss: 2.1944 - val_sparse_categorical_accuracy: 0.2172\n",
      "Epoch 16/25\n",
      "8491/8491 [==============================] - 1s 169us/sample - loss: 2.1373 - sparse_categorical_accuracy: 0.2499 - val_loss: 2.1967 - val_sparse_categorical_accuracy: 0.2172\n",
      "Epoch 17/25\n",
      "8491/8491 [==============================] - 2s 186us/sample - loss: 2.1368 - sparse_categorical_accuracy: 0.2500 - val_loss: 2.1937 - val_sparse_categorical_accuracy: 0.2172\n",
      "Epoch 18/25\n",
      "8491/8491 [==============================] - 1s 169us/sample - loss: 2.1340 - sparse_categorical_accuracy: 0.2500 - val_loss: 2.1950 - val_sparse_categorical_accuracy: 0.2172\n",
      "Epoch 19/25\n",
      "8491/8491 [==============================] - 2s 178us/sample - loss: 2.1325 - sparse_categorical_accuracy: 0.2500 - val_loss: 2.1972 - val_sparse_categorical_accuracy: 0.2172\n",
      "Epoch 20/25\n",
      "8491/8491 [==============================] - 2s 178us/sample - loss: 2.1324 - sparse_categorical_accuracy: 0.2500 - val_loss: 2.1977 - val_sparse_categorical_accuracy: 0.2172\n",
      "Epoch 21/25\n",
      "8491/8491 [==============================] - 1s 167us/sample - loss: 2.1284 - sparse_categorical_accuracy: 0.2500 - val_loss: 2.1988 - val_sparse_categorical_accuracy: 0.2172\n",
      "Epoch 22/25\n",
      "8491/8491 [==============================] - 2s 229us/sample - loss: 2.1307 - sparse_categorical_accuracy: 0.2500 - val_loss: 2.1949 - val_sparse_categorical_accuracy: 0.2172\n",
      "Epoch 23/25\n",
      "8491/8491 [==============================] - 1s 151us/sample - loss: 2.1272 - sparse_categorical_accuracy: 0.2500 - val_loss: 2.1945 - val_sparse_categorical_accuracy: 0.2172\n",
      "Epoch 24/25\n",
      "8491/8491 [==============================] - 2s 189us/sample - loss: 2.1265 - sparse_categorical_accuracy: 0.2500 - val_loss: 2.1962 - val_sparse_categorical_accuracy: 0.2172\n",
      "Epoch 25/25\n",
      "8491/8491 [==============================] - 1s 142us/sample - loss: 2.1252 - sparse_categorical_accuracy: 0.2500 - val_loss: 2.1980 - val_sparse_categorical_accuracy: 0.2172\n"
     ]
    }
   ],
   "source": [
    "model = tf.keras.Sequential()\n",
    "model.add(keras.layers.Embedding(input_dim=64, output_dim=1,input_length=25))\n",
    "\n",
    "# Add a LSTM layer with 128 internal units.\n",
    "model.add(keras.layers.GRU(32))\n",
    "model.add(keras.layers.Dense(16, activation='relu'))\n",
    "model.add(keras.layers.Dropout(0.2))\n",
    "model.add(keras.layers.Dense(16, activation='softmax'))\n",
    "\n",
    "model.compile(loss='sparse_categorical_crossentropy',  \n",
    "              optimizer=keras.optimizers.SGD(lr=0.01, momentum=0.65, nesterov=True),\n",
    "              metrics=['sparse_categorical_accuracy'])\n",
    "\n",
    "history = model.fit(trainx, trainy,\n",
    "          validation_data=(testx, testy),\n",
    "          shuffle=True,\n",
    "          batch_size=128,\n",
    "          epochs=25);\n",
    "\n",
    "values = model.predict(testx[:10])"
   ]
  },
  {
   "cell_type": "code",
   "execution_count": 1,
   "metadata": {
    "scrolled": true
   },
   "outputs": [
    {
     "ename": "NameError",
     "evalue": "name 'pyplot' is not defined",
     "output_type": "error",
     "traceback": [
      "\u001b[1;31m---------------------------------------------------------------------------\u001b[0m",
      "\u001b[1;31mNameError\u001b[0m                                 Traceback (most recent call last)",
      "\u001b[1;32m<ipython-input-1-e6ea990b396d>\u001b[0m in \u001b[0;36m<module>\u001b[1;34m\u001b[0m\n\u001b[1;32m----> 1\u001b[1;33m \u001b[0mpyplot\u001b[0m\u001b[1;33m.\u001b[0m\u001b[0mplot\u001b[0m\u001b[1;33m(\u001b[0m\u001b[0mhistory\u001b[0m\u001b[1;33m.\u001b[0m\u001b[0mhistory\u001b[0m\u001b[1;33m[\u001b[0m\u001b[1;34m'loss'\u001b[0m\u001b[1;33m]\u001b[0m\u001b[1;33m)\u001b[0m\u001b[1;33m\u001b[0m\u001b[1;33m\u001b[0m\u001b[0m\n\u001b[0m\u001b[0;32m      2\u001b[0m \u001b[0mpyplot\u001b[0m\u001b[1;33m.\u001b[0m\u001b[0mplot\u001b[0m\u001b[1;33m(\u001b[0m\u001b[0mhistory\u001b[0m\u001b[1;33m.\u001b[0m\u001b[0mhistory\u001b[0m\u001b[1;33m[\u001b[0m\u001b[1;34m'val_loss'\u001b[0m\u001b[1;33m]\u001b[0m\u001b[1;33m)\u001b[0m\u001b[1;33m\u001b[0m\u001b[1;33m\u001b[0m\u001b[0m\n\u001b[0;32m      3\u001b[0m \u001b[0mpyplot\u001b[0m\u001b[1;33m.\u001b[0m\u001b[0mylabel\u001b[0m\u001b[1;33m(\u001b[0m\u001b[1;34m'loss'\u001b[0m\u001b[1;33m)\u001b[0m\u001b[1;33m\u001b[0m\u001b[1;33m\u001b[0m\u001b[0m\n\u001b[0;32m      4\u001b[0m \u001b[0mpyplot\u001b[0m\u001b[1;33m.\u001b[0m\u001b[0mxlabel\u001b[0m\u001b[1;33m(\u001b[0m\u001b[1;34m'epoch'\u001b[0m\u001b[1;33m)\u001b[0m\u001b[1;33m\u001b[0m\u001b[1;33m\u001b[0m\u001b[0m\n\u001b[0;32m      5\u001b[0m \u001b[0mpyplot\u001b[0m\u001b[1;33m.\u001b[0m\u001b[0mlegend\u001b[0m\u001b[1;33m(\u001b[0m\u001b[1;33m[\u001b[0m\u001b[1;34m'train'\u001b[0m\u001b[1;33m,\u001b[0m \u001b[1;34m'validation'\u001b[0m\u001b[1;33m]\u001b[0m\u001b[1;33m,\u001b[0m \u001b[0mloc\u001b[0m\u001b[1;33m=\u001b[0m\u001b[1;34m'upper right'\u001b[0m\u001b[1;33m)\u001b[0m\u001b[1;33m\u001b[0m\u001b[1;33m\u001b[0m\u001b[0m\n",
      "\u001b[1;31mNameError\u001b[0m: name 'pyplot' is not defined"
     ]
    }
   ],
   "source": [
    "pyplot.plot(history.history['loss'])\n",
    "pyplot.plot(history.history['val_loss'])\n",
    "pyplot.ylabel('loss')\n",
    "pyplot.xlabel('epoch')\n",
    "pyplot.legend(['train', 'validation'], loc='upper right')\n",
    "pyplot.show()\n",
    "\n",
    "pyplot.plot(history.history['sparse_categorical_accuracy'])\n",
    "pyplot.plot(history.history['val_sparse_categorical_accuracy'])\n",
    "pyplot.ylabel('sparse_categorical_accuracy')\n",
    "pyplot.xlabel('epoch')\n",
    "pyplot.legend(['train', 'validation'], loc='upper right')\n",
    "pyplot.show()\n"
   ]
  },
  {
   "cell_type": "markdown",
   "metadata": {},
   "source": [
    "Sparse_categorical_accuracy bola v obidvoch modeloch na hranici **25%**, pričom aj pri zmene hyperparametrov a architektúry nebolo možné dosiahnuť vyššiu presnosť. Vyššie popísané architektúry boli použité z toho dôvodu, lebo dokázali najlepšie minimalizovať loss funkciu(**na hodnotu 2**), pričom pri ostatných architektúrach bola táto hodnota **2,7**. "
   ]
  }
 ],
 "metadata": {
  "kernelspec": {
   "display_name": "Python 3",
   "language": "python",
   "name": "python3"
  },
  "language_info": {
   "codemirror_mode": {
    "name": "ipython",
    "version": 3
   },
   "file_extension": ".py",
   "mimetype": "text/x-python",
   "name": "python",
   "nbconvert_exporter": "python",
   "pygments_lexer": "ipython3",
   "version": "3.7.4"
  }
 },
 "nbformat": 4,
 "nbformat_minor": 4
}
