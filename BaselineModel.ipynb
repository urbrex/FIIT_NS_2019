{
 "cells": [
  {
   "cell_type": "markdown",
   "metadata": {},
   "source": [
    "# Baseline model"
   ]
  },
  {
   "cell_type": "markdown",
   "metadata": {},
   "source": [
    "Ako baseline model sme použili regresnú neurónovú sieť, skladajúcu sa zo 4 DENSE vrstiev(16-8-4-4) s aktivačnou funkciou RELU. Po vytvorení tohto modelu sme sa rozhodli vytvoriť iný baseline model, keďže výsledky pôvodne plánovaného modelu sme vyhodnotili ako nedostačné."
   ]
  },
  {
   "cell_type": "code",
   "execution_count": 1,
   "metadata": {},
   "outputs": [],
   "source": [
    "%load_ext autoreload\n",
    "%autoreload 2\n",
    "\n",
    "%load_ext tensorboard\n",
    "\n",
    "import datetime\n",
    "import os\n",
    "import sys\n",
    "sys.path.append('..')\n",
    "\n",
    "import tensorflow as tf\n",
    "import tensorflow.keras as keras\n",
    "import numpy as np\n",
    "from matplotlib import pyplot"
   ]
  },
  {
   "cell_type": "markdown",
   "metadata": {},
   "source": [
    "Načítanie hodnôt z vopred pripraveného datasetu 1."
   ]
  },
  {
   "cell_type": "code",
   "execution_count": 2,
   "metadata": {},
   "outputs": [],
   "source": [
    "testx = np.genfromtxt('./datasets/dataSet1TestX1.csv', delimiter=',')[1:]\n",
    "testy = np.genfromtxt('./datasets/dataSet1TestY1.csv', delimiter=',')\n",
    "\n",
    "trainx = np.genfromtxt('./datasets/dataSet1TrainX1.csv', delimiter=',')[1:]\n",
    "trainy = np.genfromtxt('./datasets/dataSet1TrainY1.csv', delimiter=',')"
   ]
  },
  {
   "cell_type": "markdown",
   "metadata": {},
   "source": [
    "Načítanie hodnôt z vopred pripraveného datasetu 2."
   ]
  },
  {
   "cell_type": "code",
   "execution_count": 9,
   "metadata": {},
   "outputs": [],
   "source": [
    "testx = np.genfromtxt('./datasets/dataSet2TestX.csv', delimiter=',')[1:]\n",
    "testy = np.genfromtxt('./datasets/dataSet2TestY.csv', delimiter=',')\n",
    "\n",
    "trainx = np.genfromtxt('./datasets/dataSet2TrainX.csv', delimiter=',')[1:]\n",
    "trainy = np.genfromtxt('./datasets/dataSet2TrainY.csv', delimiter=',')"
   ]
  },
  {
   "cell_type": "markdown",
   "metadata": {},
   "source": [
    "Načítanie hodnôt z vopred pripraveného datasetu 3."
   ]
  },
  {
   "cell_type": "code",
   "execution_count": 16,
   "metadata": {},
   "outputs": [],
   "source": [
    "testx = np.genfromtxt('./datasets/dataSet3TestX.csv', delimiter=',')[1:]\n",
    "testy = np.genfromtxt('./datasets/dataSet3TestY.csv', delimiter=',')\n",
    "\n",
    "trainx = np.genfromtxt('./datasets/dataSet3TrainX.csv', delimiter=',')[1:]\n",
    "trainy = np.genfromtxt('./datasets/dataSet3TrainY.csv', delimiter=',')"
   ]
  },
  {
   "cell_type": "markdown",
   "metadata": {},
   "source": [
    "Prvý model s  DENSE vrstvami."
   ]
  },
  {
   "cell_type": "code",
   "execution_count": null,
   "metadata": {},
   "outputs": [
    {
     "name": "stdout",
     "output_type": "stream",
     "text": [
      "Train on 8491 samples, validate on 1358 samples\n",
      "Epoch 1/30\n",
      "8491/8491 [==============================] - 1s 127us/sample - loss: 2.6891 - sparse_categorical_accuracy: 0.2431 - val_loss: 2.6283 - val_sparse_categorical_accuracy: 0.2172\n",
      "Epoch 2/30\n",
      "8491/8491 [==============================] - 0s 50us/sample - loss: 2.5573 - sparse_categorical_accuracy: 0.2500 - val_loss: 2.5260 - val_sparse_categorical_accuracy: 0.2172\n",
      "Epoch 3/30\n",
      "8491/8491 [==============================] - 0s 53us/sample - loss: 2.4609 - sparse_categorical_accuracy: 0.2500 - val_loss: 2.4531 - val_sparse_categorical_accuracy: 0.2172\n",
      "Epoch 4/30\n",
      "8491/8491 [==============================] - 0s 48us/sample - loss: 2.3917 - sparse_categorical_accuracy: 0.2500 - val_loss: 2.4013 - val_sparse_categorical_accuracy: 0.2172\n",
      "Epoch 5/30\n",
      "8491/8491 [==============================] - 0s 53us/sample - loss: 2.3418 - sparse_categorical_accuracy: 0.2500 - val_loss: 2.3642 - val_sparse_categorical_accuracy: 0.2172\n",
      "Epoch 6/30\n",
      "8491/8491 [==============================] - 0s 57us/sample - loss: 2.3055 - sparse_categorical_accuracy: 0.2500 - val_loss: 2.3369 - val_sparse_categorical_accuracy: 0.2172\n",
      "Epoch 7/30\n",
      "3712/8491 [============>.................] - ETA: 0s - loss: 2.2851 - sparse_categorical_accuracy: 0.2511"
     ]
    }
   ],
   "source": [
    "model = tf.keras.Sequential()\n",
    "# model.add(keras.layers.Embedding(input_dim=64, output_dim=16))\n",
    "model.add(keras.layers.Dense(256, activation='softmax'))\n",
    "\n",
    "model.add(keras.layers.Dense(128, activation='softmax'))\n",
    "model.add(keras.layers.Dense(64, activation='softmax'))\n",
    "model.add(keras.layers.Dense(16, activation='softmax'))\n",
    "# model.add(keras.layers.Dense(8, activation='relu'))\n",
    "# model.add(keras.layers.Dense(4, activation='relu'))\n",
    "# model.add(keras.layers.Dropout(0.2))\n",
    "# model.add(keras.layers.Dense(1, activation='relu'))\n",
    "\n",
    "model.compile(loss='sparse_categorical_crossentropy',  \n",
    "              optimizer=keras.optimizers.SGD(lr=0.03,  nesterov=True),\n",
    "              metrics=['sparse_categorical_accuracy'])\n",
    "\n",
    "history = model.fit(trainx, trainy,\n",
    "          validation_data=(testx, testy),\n",
    "          shuffle=True,\n",
    "          batch_size=128,\n",
    "          epochs=30);\n",
    "\n",
    "\n",
    "values = model.predict(testx[:10])"
   ]
  },
  {
   "cell_type": "markdown",
   "metadata": {},
   "source": [
    "Po tomto modeli sme sa rozhodli, že vytvoríme klasifikačnú rekurentnú neurónovú sieť(RNN). Model sme sa snažili priradiť do jednej zo 16 klasifikačných tried, pričom každá trieda symbolizovala počet gólov(v prípade, že mal byť výsledok 7 gólov a sieť ho odhadla správne, tak je najvyššia hodnota pravdepodobnost na indexe číslo 6 vo výslednom vektore). \n",
    "\n",
    "- Na trénovanie sme použili LSTM vrstvu, ktorú sme neskôr kvôli rýchlejšiemu trénovaniu nahradili GRU vrstvou. \n",
    "- Po tejto vrstve sme použili dense vrstvu so softmax aktiváciou, SGD optimizerom a sparse_categorical_crossentropy loss funkciou. \n",
    "\n",
    "Neskôr sme pridávali rôzne vrstvy, ktoré však väčšinou nemali veľký vplyv na výsledok. S nami otestovaných sietí boli najlepšie tieto:"
   ]
  },
  {
   "cell_type": "markdown",
   "metadata": {},
   "source": [
    "Embedding(input_dim=64, output_dim=1)\n",
    "\n",
    "GRU(32) ->\n",
    "\n",
    "Dropout(0.2) ->\n",
    "\n",
    "Dense(16, activation='softmax')\n",
    "\n",
    "Hyperparametre:\n",
    "- SGD(lr=0.001, decay=1e-6, momentum=0.7, nesterov=False),\n",
    "- loss='sparse_categorical_crossentropy'\n",
    "- metrics='sparse_categorical_accuracy'\n",
    "- batch_size=128\n",
    "- epochs=30"
   ]
  },
  {
   "cell_type": "code",
   "execution_count": 10,
   "metadata": {},
   "outputs": [
    {
     "ename": "NameError",
     "evalue": "name 'NULL' is not defined",
     "output_type": "error",
     "traceback": [
      "\u001b[0;31m---------------------------------------------------------------------------\u001b[0m",
      "\u001b[0;31mNameError\u001b[0m                                 Traceback (most recent call last)",
      "\u001b[0;32m<ipython-input-10-338a16442583>\u001b[0m in \u001b[0;36m<module>\u001b[0;34m\u001b[0m\n\u001b[1;32m      2\u001b[0m \u001b[0;31m# model.add(keras.layers.Embedding(input_dim=64, output_dim=1))\u001b[0m\u001b[0;34m\u001b[0m\u001b[0;34m\u001b[0m\u001b[0;34m\u001b[0m\u001b[0m\n\u001b[1;32m      3\u001b[0m \u001b[0;34m\u001b[0m\u001b[0m\n\u001b[0;32m----> 4\u001b[0;31m \u001b[0mmodel\u001b[0m\u001b[0;34m.\u001b[0m\u001b[0madd\u001b[0m\u001b[0;34m(\u001b[0m\u001b[0mkeras\u001b[0m\u001b[0;34m.\u001b[0m\u001b[0mlayers\u001b[0m\u001b[0;34m.\u001b[0m\u001b[0mGRU\u001b[0m\u001b[0;34m(\u001b[0m\u001b[0mNULL\u001b[0m\u001b[0;34m,\u001b[0m \u001b[0;36m128\u001b[0m\u001b[0;34m)\u001b[0m\u001b[0;34m)\u001b[0m\u001b[0;34m\u001b[0m\u001b[0;34m\u001b[0m\u001b[0m\n\u001b[0m\u001b[1;32m      5\u001b[0m \u001b[0mmodel\u001b[0m\u001b[0;34m.\u001b[0m\u001b[0madd\u001b[0m\u001b[0;34m(\u001b[0m\u001b[0mkeras\u001b[0m\u001b[0;34m.\u001b[0m\u001b[0mlayers\u001b[0m\u001b[0;34m.\u001b[0m\u001b[0mDropout\u001b[0m\u001b[0;34m(\u001b[0m\u001b[0;36m0.2\u001b[0m\u001b[0;34m)\u001b[0m\u001b[0;34m)\u001b[0m\u001b[0;34m\u001b[0m\u001b[0;34m\u001b[0m\u001b[0m\n\u001b[1;32m      6\u001b[0m \u001b[0mmodel\u001b[0m\u001b[0;34m.\u001b[0m\u001b[0madd\u001b[0m\u001b[0;34m(\u001b[0m\u001b[0mkeras\u001b[0m\u001b[0;34m.\u001b[0m\u001b[0mlayers\u001b[0m\u001b[0;34m.\u001b[0m\u001b[0mDense\u001b[0m\u001b[0;34m(\u001b[0m\u001b[0;36m16\u001b[0m\u001b[0;34m,\u001b[0m \u001b[0mactivation\u001b[0m\u001b[0;34m=\u001b[0m\u001b[0;34m'softmax'\u001b[0m\u001b[0;34m)\u001b[0m\u001b[0;34m)\u001b[0m\u001b[0;34m\u001b[0m\u001b[0;34m\u001b[0m\u001b[0m\n",
      "\u001b[0;31mNameError\u001b[0m: name 'NULL' is not defined"
     ]
    }
   ],
   "source": [
    "model = tf.keras.Sequential()\n",
    "# model.add(keras.layers.Embedding(input_dim=64, output_dim=1))\n",
    "\n",
    "model.add(keras.layers.GRU(NULL, 128))\n",
    "model.add(keras.layers.Dropout(0.2))\n",
    "model.add(keras.layers.Dense(16, activation='softmax'))\n",
    "\n",
    "model.compile(loss='sparse_categorical_crossentropy',  \n",
    "              optimizer=keras.optimizers.SGD(lr=0.001, decay=1e-6, momentum=0.7, nesterov=False),\n",
    "              metrics=['sparse_categorical_accuracy'])\n",
    "\n",
    "history = model.fit(trainx, trainy,\n",
    "          validation_data=(testx, testy),\n",
    "          shuffle=True,\n",
    "          batch_size=128,\n",
    "          epochs=30);\n",
    "\n",
    "\n",
    "values = model.predict(testx[:10])"
   ]
  },
  {
   "cell_type": "code",
   "execution_count": 6,
   "metadata": {},
   "outputs": [
    {
     "data": {
      "image/png": "[encoded data removed]",
      "text/plain": [
       "<Figure size 432x288 with 1 Axes>"
      ]
     },
     "metadata": {
      "needs_background": "light"
     },
     "output_type": "display_data"
    },
    {
     "data": {
      "image/png": "[encoded data removed]",
      "text/plain": [
       "<Figure size 432x288 with 1 Axes>"
      ]
     },
     "metadata": {
      "needs_background": "light"
     },
     "output_type": "display_data"
    }
   ],
   "source": [
    "pyplot.plot(history.history['loss'])\n",
    "pyplot.plot(history.history['val_loss'])\n",
    "pyplot.ylabel('loss')\n",
    "pyplot.xlabel('epoch')\n",
    "pyplot.legend(['train', 'validation'], loc='upper right')\n",
    "pyplot.show()\n",
    "\n",
    "pyplot.plot(history.history['sparse_categorical_accuracy'])\n",
    "pyplot.plot(history.history['val_sparse_categorical_accuracy'])\n",
    "pyplot.ylabel('accuracy')\n",
    "pyplot.xlabel('epoch')\n",
    "pyplot.legend(['train', 'validation'], loc='upper right')\n",
    "pyplot.show()"
   ]
  },
  {
   "cell_type": "markdown",
   "metadata": {},
   "source": [
    "Embedding(input_dim=64, output_dim=1)\n",
    "\n",
    "GRU(32) ->\n",
    "\n",
    "Dense(16, activation='relu') ->\n",
    "\n",
    "Dense(16, activation='softmax')\n",
    "\n",
    "hyperparametre:\n",
    "- SGD(lr=0.01, momentum=0.65, nesterov=True)\n",
    "- loss='sparse_categorical_crossentropy'\n",
    "- metrics='sparse_categorical_accuracy'\n",
    "- batch_size=128\n",
    "- epochs=25"
   ]
  },
  {
   "cell_type": "code",
   "execution_count": 3,
   "metadata": {},
   "outputs": [
    {
     "name": "stdout",
     "output_type": "stream",
     "text": [
      "Train on 8491 samples, validate on 1358 samples\n",
      "Epoch 1/25\n",
      "8491/8491 [==============================] - 5s 550us/sample - loss: 2.6002 - sparse_categorical_accuracy: 0.1876 - val_loss: 2.4450 - val_sparse_categorical_accuracy: 0.2172\n",
      "Epoch 2/25\n",
      "8491/8491 [==============================] - 2s 193us/sample - loss: 2.3447 - sparse_categorical_accuracy: 0.2322 - val_loss: 2.2847 - val_sparse_categorical_accuracy: 0.2172\n",
      "Epoch 3/25\n",
      "8491/8491 [==============================] - 2s 204us/sample - loss: 2.2342 - sparse_categorical_accuracy: 0.2480 - val_loss: 2.2342 - val_sparse_categorical_accuracy: 0.2172\n",
      "Epoch 4/25\n",
      "8491/8491 [==============================] - 2s 197us/sample - loss: 2.1969 - sparse_categorical_accuracy: 0.2448 - val_loss: 2.2155 - val_sparse_categorical_accuracy: 0.2172\n",
      "Epoch 5/25\n",
      "8491/8491 [==============================] - 2s 208us/sample - loss: 2.1818 - sparse_categorical_accuracy: 0.2441 - val_loss: 2.2067 - val_sparse_categorical_accuracy: 0.2172\n",
      "Epoch 6/25\n",
      "8491/8491 [==============================] - 2s 197us/sample - loss: 2.1769 - sparse_categorical_accuracy: 0.2414 - val_loss: 2.2050 - val_sparse_categorical_accuracy: 0.2172\n",
      "Epoch 7/25\n",
      "8491/8491 [==============================] - 2s 201us/sample - loss: 2.1662 - sparse_categorical_accuracy: 0.2439 - val_loss: 2.2018 - val_sparse_categorical_accuracy: 0.2172\n",
      "Epoch 8/25\n",
      "8491/8491 [==============================] - 2s 215us/sample - loss: 2.1600 - sparse_categorical_accuracy: 0.2420 - val_loss: 2.2007 - val_sparse_categorical_accuracy: 0.2172\n",
      "Epoch 9/25\n",
      "8491/8491 [==============================] - 2s 198us/sample - loss: 2.1578 - sparse_categorical_accuracy: 0.2460 - val_loss: 2.2016 - val_sparse_categorical_accuracy: 0.2172\n",
      "Epoch 10/25\n",
      "8491/8491 [==============================] - 2s 215us/sample - loss: 2.1544 - sparse_categorical_accuracy: 0.2453 - val_loss: 2.1975 - val_sparse_categorical_accuracy: 0.2172\n",
      "Epoch 11/25\n",
      "8491/8491 [==============================] - 2s 211us/sample - loss: 2.1532 - sparse_categorical_accuracy: 0.2445 - val_loss: 2.1968 - val_sparse_categorical_accuracy: 0.2172\n",
      "Epoch 12/25\n",
      "8491/8491 [==============================] - 3s 303us/sample - loss: 2.1467 - sparse_categorical_accuracy: 0.2467 - val_loss: 2.1973 - val_sparse_categorical_accuracy: 0.2172\n",
      "Epoch 13/25\n",
      "8491/8491 [==============================] - 2s 267us/sample - loss: 2.1455 - sparse_categorical_accuracy: 0.2454 - val_loss: 2.1975 - val_sparse_categorical_accuracy: 0.2172\n",
      "Epoch 14/25\n",
      "8491/8491 [==============================] - 2s 268us/sample - loss: 2.1463 - sparse_categorical_accuracy: 0.2458 - val_loss: 2.1942 - val_sparse_categorical_accuracy: 0.2172\n",
      "Epoch 15/25\n",
      "8491/8491 [==============================] - 2s 193us/sample - loss: 2.1419 - sparse_categorical_accuracy: 0.2478 - val_loss: 2.1973 - val_sparse_categorical_accuracy: 0.2172\n",
      "Epoch 16/25\n",
      "8491/8491 [==============================] - 2s 206us/sample - loss: 2.1411 - sparse_categorical_accuracy: 0.2477 - val_loss: 2.1964 - val_sparse_categorical_accuracy: 0.2172\n",
      "Epoch 17/25\n",
      "8491/8491 [==============================] - 2s 205us/sample - loss: 2.1384 - sparse_categorical_accuracy: 0.2479 - val_loss: 2.1976 - val_sparse_categorical_accuracy: 0.2172\n",
      "Epoch 18/25\n",
      "8491/8491 [==============================] - 2s 207us/sample - loss: 2.1341 - sparse_categorical_accuracy: 0.2481 - val_loss: 2.1957 - val_sparse_categorical_accuracy: 0.2172\n",
      "Epoch 19/25\n",
      "8491/8491 [==============================] - 2s 207us/sample - loss: 2.1357 - sparse_categorical_accuracy: 0.2479 - val_loss: 2.1966 - val_sparse_categorical_accuracy: 0.2172\n",
      "Epoch 20/25\n",
      "8491/8491 [==============================] - 2s 226us/sample - loss: 2.1340 - sparse_categorical_accuracy: 0.2479 - val_loss: 2.1990 - val_sparse_categorical_accuracy: 0.2172\n",
      "Epoch 21/25\n",
      "8491/8491 [==============================] - 2s 219us/sample - loss: 2.1310 - sparse_categorical_accuracy: 0.2507 - val_loss: 2.1994 - val_sparse_categorical_accuracy: 0.2172\n",
      "Epoch 22/25\n",
      "8491/8491 [==============================] - 2s 220us/sample - loss: 2.1331 - sparse_categorical_accuracy: 0.2492 - val_loss: 2.2007 - val_sparse_categorical_accuracy: 0.2172\n",
      "Epoch 23/25\n",
      "8491/8491 [==============================] - 2s 217us/sample - loss: 2.1341 - sparse_categorical_accuracy: 0.2492 - val_loss: 2.1967 - val_sparse_categorical_accuracy: 0.2172\n",
      "Epoch 24/25\n",
      "8491/8491 [==============================] - 2s 208us/sample - loss: 2.1320 - sparse_categorical_accuracy: 0.2479 - val_loss: 2.1956 - val_sparse_categorical_accuracy: 0.2172\n",
      "Epoch 25/25\n",
      "8491/8491 [==============================] - 2s 220us/sample - loss: 2.1303 - sparse_categorical_accuracy: 0.2496 - val_loss: 2.1950 - val_sparse_categorical_accuracy: 0.2172\n"
     ]
    }
   ],
   "source": [
    "model = tf.keras.Sequential()\n",
    "model.add(keras.layers.Embedding(input_dim=64, output_dim=1))\n",
    "\n",
    "model.add(keras.layers.GRU(32))\n",
    "model.add(keras.layers.Dense(16, activation='relu'))\n",
    "model.add(keras.layers.Dropout(0.2))\n",
    "model.add(keras.layers.Dense(16, activation='softmax'))\n",
    "\n",
    "model.compile(loss='sparse_categorical_crossentropy',  \n",
    "              optimizer=keras.optimizers.SGD(lr=0.01, momentum=0.65, nesterov=True),\n",
    "              metrics=['sparse_categorical_accuracy'])\n",
    "\n",
    "history = model.fit(trainx, trainy,\n",
    "          validation_data=(testx, testy),\n",
    "          shuffle=True,\n",
    "          batch_size=128,\n",
    "          epochs=25);\n",
    "\n",
    "values = model.predict(testx[:10])"
   ]
  },
  {
   "cell_type": "code",
   "execution_count": 4,
   "metadata": {
    "scrolled": true
   },
   "outputs": [
    {
     "data": {
      "image/png": "[encoded data removed]",
      "text/plain": [
       "<Figure size 432x288 with 1 Axes>"
      ]
     },
     "metadata": {
      "needs_background": "light"
     },
     "output_type": "display_data"
    },
    {
     "data": {
      "image/png": "[encoded data removed]",
      "text/plain": [
       "<Figure size 432x288 with 1 Axes>"
      ]
     },
     "metadata": {
      "needs_background": "light"
     },
     "output_type": "display_data"
    }
   ],
   "source": [
    "pyplot.plot(history.history['loss'])\n",
    "pyplot.plot(history.history['val_loss'])\n",
    "pyplot.ylabel('loss')\n",
    "pyplot.xlabel('epoch')\n",
    "pyplot.legend(['train', 'validation'], loc='upper right')\n",
    "pyplot.show()\n",
    "\n",
    "pyplot.plot(history.history['sparse_categorical_accuracy'])\n",
    "pyplot.plot(history.history['val_sparse_categorical_accuracy'])\n",
    "pyplot.ylabel('sparse_categorical_accuracy')\n",
    "pyplot.xlabel('epoch')\n",
    "pyplot.legend(['train', 'validation'], loc='upper right')\n",
    "pyplot.show()\n"
   ]
  },
  {
   "cell_type": "markdown",
   "metadata": {},
   "source": [
    "Sparse_categorical_accuracy bola v obidvoch modeloch na hranici **25%**, pričom aj pri zmene hyperparametrov a architektúry nebolo možné dosiahnuť vyššiu presnosť. Vyššie popísané architektúry boli použité z toho dôvodu, lebo dokázali najlepšie minimalizovať loss funkciu(**na hodnotu 2**), pričom pri ostatných architektúrach bola táto hodnota **2,7**. "
   ]
  }
 ],
 "metadata": {
  "kernelspec": {
   "display_name": "Python 3",
   "language": "python",
   "name": "python3"
  },
  "language_info": {
   "codemirror_mode": {
    "name": "ipython",
    "version": 3
   },
   "file_extension": ".py",
   "mimetype": "text/x-python",
   "name": "python",
   "nbconvert_exporter": "python",
   "pygments_lexer": "ipython3",
   "version": "3.6.8"
  }
 },
 "nbformat": 4,
 "nbformat_minor": 4
}
